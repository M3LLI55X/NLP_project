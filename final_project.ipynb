{
 "cells": [
  {
   "cell_type": "markdown",
   "metadata": {},
   "source": [
    "# Sarcasm Detection on News headlines"
   ]
  },
  {
   "cell_type": "code",
   "execution_count": 7,
   "metadata": {},
   "outputs": [],
   "source": [
    "import torch\n",
    "import math\n",
    "import rich\n",
    "import json\n",
    "import nltk\n",
    "from functools import partial\n",
    "from pathlib import Path\n",
    "from torch  import nn\n",
    "from tqdm   import tqdm\n",
    "from typing import List, Tuple, Optional, Dict, Any\n",
    "import matplotlib.pyplot as plt\n",
    "import seaborn as sns\n",
    "import pandas as pd\n",
    "import numpy as np\n",
    "import transformers\n",
    "import tokenizers\n",
    "import datasets\n",
    "\n",
    "sns.set()"
   ]
  },
  {
   "cell_type": "code",
   "execution_count": 11,
   "metadata": {},
   "outputs": [
    {
     "data": {
      "text/html": [
       "<pre style=\"white-space:pre;overflow-x:auto;line-height:normal;font-family:Menlo,'DejaVu Sans Mono',consolas,'Courier New',monospace\">Device: <span style=\"color: #800000; text-decoration-color: #800000\">cpu</span>\n",
       "</pre>\n"
      ],
      "text/plain": [
       "Device: \u001b[31mcpu\u001b[0m\n"
      ]
     },
     "metadata": {},
     "output_type": "display_data"
    }
   ],
   "source": [
    "# define the device to use\n",
    "DEVICE = torch.device(\"cuda\") if torch.cuda.is_available() else torch.device(\"cpu\")\n",
    "rich.print(f\"Device: [red]{DEVICE}\")"
   ]
  },
  {
   "cell_type": "code",
   "execution_count": 8,
   "metadata": {},
   "outputs": [
    {
     "name": "stderr",
     "output_type": "stream",
     "text": [
      "Parsing glove.6B.300d.txt...: 100%|██████████| 400001/400001 [00:25<00:00, 15420.43it/s]\n"
     ]
    },
    {
     "data": {
      "text/html": [
       "<pre style=\"white-space:pre;overflow-x:auto;line-height:normal;font-family:Menlo,'DejaVu Sans Mono',consolas,'Courier New',monospace\">glove_vocabulary: <span style=\"color: #808000; text-decoration-color: #808000\">type</span>=<span style=\"font-weight: bold\">&lt;</span><span style=\"color: #ff00ff; text-decoration-color: #ff00ff; font-weight: bold\">class</span><span style=\"color: #000000; text-decoration-color: #000000\"> </span><span style=\"color: #008000; text-decoration-color: #008000\">'list'</span><span style=\"font-weight: bold\">&gt;</span>, <span style=\"color: #808000; text-decoration-color: #808000\">length</span>=<span style=\"color: #008080; text-decoration-color: #008080; font-weight: bold\">400001</span>\n",
       "</pre>\n"
      ],
      "text/plain": [
       "glove_vocabulary: \u001b[33mtype\u001b[0m=\u001b[1m<\u001b[0m\u001b[1;95mclass\u001b[0m\u001b[39m \u001b[0m\u001b[32m'list'\u001b[0m\u001b[1m>\u001b[0m, \u001b[33mlength\u001b[0m=\u001b[1;36m400001\u001b[0m\n"
      ]
     },
     "metadata": {},
     "output_type": "display_data"
    },
    {
     "data": {
      "text/html": [
       "<pre style=\"white-space:pre;overflow-x:auto;line-height:normal;font-family:Menlo,'DejaVu Sans Mono',consolas,'Courier New',monospace\">glove_vectors: <span style=\"color: #808000; text-decoration-color: #808000\">type</span>=<span style=\"font-weight: bold\">&lt;</span><span style=\"color: #ff00ff; text-decoration-color: #ff00ff; font-weight: bold\">class</span><span style=\"color: #000000; text-decoration-color: #000000\"> </span><span style=\"color: #008000; text-decoration-color: #008000\">'torch.Tensor'</span><span style=\"font-weight: bold\">&gt;</span>, <span style=\"color: #808000; text-decoration-color: #808000\">shape</span>=<span style=\"color: #800080; text-decoration-color: #800080; font-weight: bold\">torch</span><span style=\"color: #800080; text-decoration-color: #800080; font-weight: bold\">.Size</span><span style=\"font-weight: bold\">([</span><span style=\"color: #008080; text-decoration-color: #008080; font-weight: bold\">400001</span>, <span style=\"color: #008080; text-decoration-color: #008080; font-weight: bold\">300</span><span style=\"font-weight: bold\">])</span>, <span style=\"color: #808000; text-decoration-color: #808000\">dtype</span>=<span style=\"color: #800080; text-decoration-color: #800080\">torch</span>.float32\n",
       "</pre>\n"
      ],
      "text/plain": [
       "glove_vectors: \u001b[33mtype\u001b[0m=\u001b[1m<\u001b[0m\u001b[1;95mclass\u001b[0m\u001b[39m \u001b[0m\u001b[32m'torch.Tensor'\u001b[0m\u001b[1m>\u001b[0m, \u001b[33mshape\u001b[0m=\u001b[1;35mtorch\u001b[0m\u001b[1;35m.Size\u001b[0m\u001b[1m(\u001b[0m\u001b[1m[\u001b[0m\u001b[1;36m400001\u001b[0m, \u001b[1;36m300\u001b[0m\u001b[1m]\u001b[0m\u001b[1m)\u001b[0m, \u001b[33mdtype\u001b[0m=\u001b[35mtorch\u001b[0m.float32\n"
      ]
     },
     "metadata": {},
     "output_type": "display_data"
    }
   ],
   "source": [
    "# control verbosity\n",
    "transformers.logging.set_verbosity_error()\n",
    "datasets.logging.set_verbosity_error()\n",
    "\n",
    "# define support functions\n",
    "def load_glove_vectors(filename = \"glove.6B.300d.txt\") -> Tuple[List[str], torch.Tensor]:\n",
    "    \"\"\"Load the GloVe vectors. See: `https://github.com/stanfordnlp/GloVe`\"\"\"\n",
    "    path = Path(hf_hub_download(repo_id=\"stanfordnlp/glove\", filename=\"glove.6B.zip\"))\n",
    "    target_file = path.parent / filename\n",
    "    if not target_file.exists():\n",
    "        with zipfile.ZipFile(path, 'r') as zip_ref:\n",
    "            zip_ref.extractall(path.parent)\n",
    "\n",
    "        if not target_file.exists():\n",
    "            print(f\"Available files:\")\n",
    "            for p in path.parent.iterdir():\n",
    "                print(p)\n",
    "            raise ValueError(f\"Target file `{target_file.name}` can't be found. Check if `{filename}` was properly downloaded.\")\n",
    "\n",
    "    # parse the vocabulary and the vectors\n",
    "    vocabulary = []\n",
    "    vectors = []\n",
    "    with open(target_file, \"r\") as f:\n",
    "        for l in tqdm(f.readlines(), desc=f\"Parsing {target_file.name}...\" ):\n",
    "            word, *vector = l.split()\n",
    "            vocabulary.append(word)\n",
    "            vectors.append(torch.tensor([float(v) for v in vector]))\n",
    "    vectors = torch.stack(vectors)\n",
    "    return vocabulary, vectors\n",
    "\n",
    "# prepare data for the later cells\n",
    "glove_vocabulary, glove_vectors = load_glove_vectors()\n",
    "rich.print(f\"glove_vocabulary: type={type(glove_vocabulary)}, length={len(glove_vocabulary)}\")\n",
    "rich.print(f\"glove_vectors: type={type(glove_vectors)}, shape={glove_vectors.shape}, dtype={glove_vectors.dtype}\")\n",
    "\n",
    "# tokenizer for GloVe\n",
    "glove_tokenizer = tokenizers.Tokenizer(tokenizers.models.WordLevel(vocab={v:i for i,v in enumerate(glove_vocabulary)},\n",
    "                                                                   unk_token=\"<|unknown|>\"))\n",
    "glove_tokenizer.normalizer = tokenizers.normalizers.BertNormalizer(strip_accents=False)\n",
    "glove_tokenizer.pre_tokenizer = tokenizers.pre_tokenizers.Whitespace()"
   ]
  },
  {
   "cell_type": "code",
   "execution_count": 13,
   "metadata": {},
   "outputs": [],
   "source": [
    "df = pd.read_json(\"./data/Sarcasm_Headlines_Dataset_v2.json\",\n",
    "                  lines=True)\n",
    "df = df.drop('article_link', axis = 1)"
   ]
  },
  {
   "cell_type": "code",
   "execution_count": 16,
   "metadata": {},
   "outputs": [
    {
     "name": "stderr",
     "output_type": "stream",
     "text": [
      "/Users/xyc/opt/anaconda3/lib/python3.9/site-packages/seaborn/_oldcore.py:1498: FutureWarning: is_categorical_dtype is deprecated and will be removed in a future version. Use isinstance(dtype, CategoricalDtype) instead\n",
      "  if pd.api.types.is_categorical_dtype(vector):\n",
      "/Users/xyc/opt/anaconda3/lib/python3.9/site-packages/seaborn/_oldcore.py:1498: FutureWarning: is_categorical_dtype is deprecated and will be removed in a future version. Use isinstance(dtype, CategoricalDtype) instead\n",
      "  if pd.api.types.is_categorical_dtype(vector):\n",
      "/Users/xyc/opt/anaconda3/lib/python3.9/site-packages/seaborn/_oldcore.py:1498: FutureWarning: is_categorical_dtype is deprecated and will be removed in a future version. Use isinstance(dtype, CategoricalDtype) instead\n",
      "  if pd.api.types.is_categorical_dtype(vector):\n"
     ]
    },
    {
     "data": {
      "image/png": "[encoded data removed]",
      "text/plain": [
       "<Figure size 640x480 with 1 Axes>"
      ]
     },
     "metadata": {},
     "output_type": "display_data"
    }
   ],
   "source": [
    "sns.countplot(data=df, x=\"is_sarcastic\")\n",
    "plt.show()"
   ]
  },
  {
   "cell_type": "code",
   "execution_count": 17,
   "metadata": {},
   "outputs": [
    {
     "data": {
      "text/html": [
       "<pre style=\"white-space:pre;overflow-x:auto;line-height:normal;font-family:Menlo,'DejaVu Sans Mono',consolas,'Courier New',monospace\">Input sentence: <span style=\"color: #000080; text-decoration-color: #000080; font-weight: bold\">`thirtysomething scientists unveil doomsday clock of hair loss`</span>\n",
       "</pre>\n"
      ],
      "text/plain": [
       "Input sentence: \u001b[1;34m`thirtysomething scientists unveil doomsday clock of hair loss`\u001b[0m\n"
      ]
     },
     "metadata": {},
     "output_type": "display_data"
    },
    {
     "data": {
      "text/html": [
       "<pre style=\"white-space:pre;overflow-x:auto;line-height:normal;font-family:Menlo,'DejaVu Sans Mono',consolas,'Courier New',monospace\"><span style=\"color: #800000; text-decoration-color: #800000\">Word-level</span>: sentence converted into <span style=\"color: #008080; text-decoration-color: #008080; font-weight: bold\">8</span> tokens <span style=\"font-weight: bold\">(</span>vocabulary: <span style=\"color: #008080; text-decoration-color: #008080; font-weight: bold\">400001</span> tokens<span style=\"font-weight: bold\">)</span>\n",
       "</pre>\n"
      ],
      "text/plain": [
       "\u001b[31mWord-level\u001b[0m: sentence converted into \u001b[1;36m8\u001b[0m tokens \u001b[1m(\u001b[0mvocabulary: \u001b[1;36m400001\u001b[0m tokens\u001b[1m)\u001b[0m\n"
      ]
     },
     "metadata": {},
     "output_type": "display_data"
    },
    {
     "data": {
      "text/html": [
       "<pre style=\"white-space:pre;overflow-x:auto;line-height:normal;font-family:Menlo,'DejaVu Sans Mono',consolas,'Courier New',monospace\">Tokens:\n",
       "<span style=\"font-weight: bold\">[</span><span style=\"color: #008000; text-decoration-color: #008000\">'thirtysomething'</span>, <span style=\"color: #008000; text-decoration-color: #008000\">'scientists'</span>, <span style=\"color: #008000; text-decoration-color: #008000\">'unveil'</span>, <span style=\"color: #008000; text-decoration-color: #008000\">'doomsday'</span>, <span style=\"color: #008000; text-decoration-color: #008000\">'clock'</span>, <span style=\"color: #008000; text-decoration-color: #008000\">'of'</span>, <span style=\"color: #008000; text-decoration-color: #008000\">'hair'</span>, <span style=\"color: #008000; text-decoration-color: #008000\">'loss'</span><span style=\"font-weight: bold\">]</span>\n",
       "</pre>\n"
      ],
      "text/plain": [
       "Tokens:\n",
       "\u001b[1m[\u001b[0m\u001b[32m'thirtysomething'\u001b[0m, \u001b[32m'scientists'\u001b[0m, \u001b[32m'unveil'\u001b[0m, \u001b[32m'doomsday'\u001b[0m, \u001b[32m'clock'\u001b[0m, \u001b[32m'of'\u001b[0m, \u001b[32m'hair'\u001b[0m, \u001b[32m'loss'\u001b[0m\u001b[1m]\u001b[0m\n"
      ]
     },
     "metadata": {},
     "output_type": "display_data"
    },
    {
     "data": {
      "text/html": [
       "<pre style=\"white-space:pre;overflow-x:auto;line-height:normal;font-family:Menlo,'DejaVu Sans Mono',consolas,'Courier New',monospace\">Token ids:\n",
       "<span style=\"font-weight: bold\">[</span><span style=\"color: #008080; text-decoration-color: #008080; font-weight: bold\">59284</span>, <span style=\"color: #008080; text-decoration-color: #008080; font-weight: bold\">2154</span>, <span style=\"color: #008080; text-decoration-color: #008080; font-weight: bold\">14153</span>, <span style=\"color: #008080; text-decoration-color: #008080; font-weight: bold\">23443</span>, <span style=\"color: #008080; text-decoration-color: #008080; font-weight: bold\">4974</span>, <span style=\"color: #008080; text-decoration-color: #008080; font-weight: bold\">3</span>, <span style=\"color: #008080; text-decoration-color: #008080; font-weight: bold\">3017</span>, <span style=\"color: #008080; text-decoration-color: #008080; font-weight: bold\">866</span><span style=\"font-weight: bold\">]</span>\n",
       "</pre>\n"
      ],
      "text/plain": [
       "Token ids:\n",
       "\u001b[1m[\u001b[0m\u001b[1;36m59284\u001b[0m, \u001b[1;36m2154\u001b[0m, \u001b[1;36m14153\u001b[0m, \u001b[1;36m23443\u001b[0m, \u001b[1;36m4974\u001b[0m, \u001b[1;36m3\u001b[0m, \u001b[1;36m3017\u001b[0m, \u001b[1;36m866\u001b[0m\u001b[1m]\u001b[0m\n"
      ]
     },
     "metadata": {},
     "output_type": "display_data"
    },
    {
     "data": {
      "text/html": [
       "<pre style=\"white-space:pre;overflow-x:auto;line-height:normal;font-family:Menlo,'DejaVu Sans Mono',consolas,'Courier New',monospace\"><span style=\"color: #800000; text-decoration-color: #800000\">WordPiece</span>: sentence converted into <span style=\"color: #008080; text-decoration-color: #008080; font-weight: bold\">14</span> tokens <span style=\"font-weight: bold\">(</span>vocabulary: <span style=\"color: #008080; text-decoration-color: #008080; font-weight: bold\">28996</span> tokens<span style=\"font-weight: bold\">)</span>\n",
       "</pre>\n"
      ],
      "text/plain": [
       "\u001b[31mWordPiece\u001b[0m: sentence converted into \u001b[1;36m14\u001b[0m tokens \u001b[1m(\u001b[0mvocabulary: \u001b[1;36m28996\u001b[0m tokens\u001b[1m)\u001b[0m\n"
      ]
     },
     "metadata": {},
     "output_type": "display_data"
    },
    {
     "data": {
      "text/html": [
       "<pre style=\"white-space:pre;overflow-x:auto;line-height:normal;font-family:Menlo,'DejaVu Sans Mono',consolas,'Courier New',monospace\">Tokens:\n",
       "<span style=\"font-weight: bold\">[</span><span style=\"color: #008000; text-decoration-color: #008000\">'thirty'</span>, <span style=\"color: #008000; text-decoration-color: #008000\">'##some'</span>, <span style=\"color: #008000; text-decoration-color: #008000\">'##thing'</span>, <span style=\"color: #008000; text-decoration-color: #008000\">'scientists'</span>, <span style=\"color: #008000; text-decoration-color: #008000\">'un'</span>, <span style=\"color: #008000; text-decoration-color: #008000\">'##ve'</span>, <span style=\"color: #008000; text-decoration-color: #008000\">'##il'</span>, <span style=\"color: #008000; text-decoration-color: #008000\">'doom'</span>, <span style=\"color: #008000; text-decoration-color: #008000\">'##s'</span>, <span style=\"color: #008000; text-decoration-color: #008000\">'##day'</span>, <span style=\"color: #008000; text-decoration-color: #008000\">'clock'</span>, <span style=\"color: #008000; text-decoration-color: #008000\">'of'</span>, <span style=\"color: #008000; text-decoration-color: #008000\">'hair'</span>, \n",
       "<span style=\"color: #008000; text-decoration-color: #008000\">'loss'</span><span style=\"font-weight: bold\">]</span>\n",
       "</pre>\n"
      ],
      "text/plain": [
       "Tokens:\n",
       "\u001b[1m[\u001b[0m\u001b[32m'thirty'\u001b[0m, \u001b[32m'##some'\u001b[0m, \u001b[32m'##thing'\u001b[0m, \u001b[32m'scientists'\u001b[0m, \u001b[32m'un'\u001b[0m, \u001b[32m'##ve'\u001b[0m, \u001b[32m'##il'\u001b[0m, \u001b[32m'doom'\u001b[0m, \u001b[32m'##s'\u001b[0m, \u001b[32m'##day'\u001b[0m, \u001b[32m'clock'\u001b[0m, \u001b[32m'of'\u001b[0m, \u001b[32m'hair'\u001b[0m, \n",
       "\u001b[32m'loss'\u001b[0m\u001b[1m]\u001b[0m\n"
      ]
     },
     "metadata": {},
     "output_type": "display_data"
    },
    {
     "data": {
      "text/html": [
       "<pre style=\"white-space:pre;overflow-x:auto;line-height:normal;font-family:Menlo,'DejaVu Sans Mono',consolas,'Courier New',monospace\">Token ids:\n",
       "<span style=\"font-weight: bold\">[</span><span style=\"color: #008080; text-decoration-color: #008080; font-weight: bold\">3961</span>, <span style=\"color: #008080; text-decoration-color: #008080; font-weight: bold\">11743</span>, <span style=\"color: #008080; text-decoration-color: #008080; font-weight: bold\">25202</span>, <span style=\"color: #008080; text-decoration-color: #008080; font-weight: bold\">6479</span>, <span style=\"color: #008080; text-decoration-color: #008080; font-weight: bold\">8362</span>, <span style=\"color: #008080; text-decoration-color: #008080; font-weight: bold\">2707</span>, <span style=\"color: #008080; text-decoration-color: #008080; font-weight: bold\">2723</span>, <span style=\"color: #008080; text-decoration-color: #008080; font-weight: bold\">26375</span>, <span style=\"color: #008080; text-decoration-color: #008080; font-weight: bold\">1116</span>, <span style=\"color: #008080; text-decoration-color: #008080; font-weight: bold\">6194</span>, <span style=\"color: #008080; text-decoration-color: #008080; font-weight: bold\">4705</span>, <span style=\"color: #008080; text-decoration-color: #008080; font-weight: bold\">1104</span>, <span style=\"color: #008080; text-decoration-color: #008080; font-weight: bold\">1716</span>, <span style=\"color: #008080; text-decoration-color: #008080; font-weight: bold\">2445</span><span style=\"font-weight: bold\">]</span>\n",
       "</pre>\n"
      ],
      "text/plain": [
       "Token ids:\n",
       "\u001b[1m[\u001b[0m\u001b[1;36m3961\u001b[0m, \u001b[1;36m11743\u001b[0m, \u001b[1;36m25202\u001b[0m, \u001b[1;36m6479\u001b[0m, \u001b[1;36m8362\u001b[0m, \u001b[1;36m2707\u001b[0m, \u001b[1;36m2723\u001b[0m, \u001b[1;36m26375\u001b[0m, \u001b[1;36m1116\u001b[0m, \u001b[1;36m6194\u001b[0m, \u001b[1;36m4705\u001b[0m, \u001b[1;36m1104\u001b[0m, \u001b[1;36m1716\u001b[0m, \u001b[1;36m2445\u001b[0m\u001b[1m]\u001b[0m\n"
      ]
     },
     "metadata": {},
     "output_type": "display_data"
    },
    {
     "data": {
      "text/html": [
       "<pre style=\"white-space:pre;overflow-x:auto;line-height:normal;font-family:Menlo,'DejaVu Sans Mono',consolas,'Courier New',monospace\"><span style=\"color: #800000; text-decoration-color: #800000\">BPE</span>: sentence converted into <span style=\"color: #008080; text-decoration-color: #008080; font-weight: bold\">11</span> tokens <span style=\"font-weight: bold\">(</span>vocabulary: <span style=\"color: #008080; text-decoration-color: #008080; font-weight: bold\">50257</span> tokens<span style=\"font-weight: bold\">)</span>\n",
       "</pre>\n"
      ],
      "text/plain": [
       "\u001b[31mBPE\u001b[0m: sentence converted into \u001b[1;36m11\u001b[0m tokens \u001b[1m(\u001b[0mvocabulary: \u001b[1;36m50257\u001b[0m tokens\u001b[1m)\u001b[0m\n"
      ]
     },
     "metadata": {},
     "output_type": "display_data"
    },
    {
     "data": {
      "text/html": [
       "<pre style=\"white-space:pre;overflow-x:auto;line-height:normal;font-family:Menlo,'DejaVu Sans Mono',consolas,'Courier New',monospace\">Tokens:\n",
       "<span style=\"font-weight: bold\">[</span><span style=\"color: #008000; text-decoration-color: #008000\">'th'</span>, <span style=\"color: #008000; text-decoration-color: #008000\">'irty'</span>, <span style=\"color: #008000; text-decoration-color: #008000\">'something'</span>, <span style=\"color: #008000; text-decoration-color: #008000\">' scientists'</span>, <span style=\"color: #008000; text-decoration-color: #008000\">' unveil'</span>, <span style=\"color: #008000; text-decoration-color: #008000\">' do'</span>, <span style=\"color: #008000; text-decoration-color: #008000\">'omsday'</span>, <span style=\"color: #008000; text-decoration-color: #008000\">' clock'</span>, <span style=\"color: #008000; text-decoration-color: #008000\">' of'</span>, <span style=\"color: #008000; text-decoration-color: #008000\">' hair'</span>, <span style=\"color: #008000; text-decoration-color: #008000\">' loss'</span><span style=\"font-weight: bold\">]</span>\n",
       "</pre>\n"
      ],
      "text/plain": [
       "Tokens:\n",
       "\u001b[1m[\u001b[0m\u001b[32m'th'\u001b[0m, \u001b[32m'irty'\u001b[0m, \u001b[32m'something'\u001b[0m, \u001b[32m' scientists'\u001b[0m, \u001b[32m' unveil'\u001b[0m, \u001b[32m' do'\u001b[0m, \u001b[32m'omsday'\u001b[0m, \u001b[32m' clock'\u001b[0m, \u001b[32m' of'\u001b[0m, \u001b[32m' hair'\u001b[0m, \u001b[32m' loss'\u001b[0m\u001b[1m]\u001b[0m\n"
      ]
     },
     "metadata": {},
     "output_type": "display_data"
    },
    {
     "data": {
      "text/html": [
       "<pre style=\"white-space:pre;overflow-x:auto;line-height:normal;font-family:Menlo,'DejaVu Sans Mono',consolas,'Courier New',monospace\">Token ids:\n",
       "<span style=\"font-weight: bold\">[</span><span style=\"color: #008080; text-decoration-color: #008080; font-weight: bold\">400</span>, <span style=\"color: #008080; text-decoration-color: #008080; font-weight: bold\">5893</span>, <span style=\"color: #008080; text-decoration-color: #008080; font-weight: bold\">18927</span>, <span style=\"color: #008080; text-decoration-color: #008080; font-weight: bold\">5519</span>, <span style=\"color: #008080; text-decoration-color: #008080; font-weight: bold\">43784</span>, <span style=\"color: #008080; text-decoration-color: #008080; font-weight: bold\">466</span>, <span style=\"color: #008080; text-decoration-color: #008080; font-weight: bold\">33415</span>, <span style=\"color: #008080; text-decoration-color: #008080; font-weight: bold\">8801</span>, <span style=\"color: #008080; text-decoration-color: #008080; font-weight: bold\">286</span>, <span style=\"color: #008080; text-decoration-color: #008080; font-weight: bold\">4190</span>, <span style=\"color: #008080; text-decoration-color: #008080; font-weight: bold\">2994</span><span style=\"font-weight: bold\">]</span>\n",
       "</pre>\n"
      ],
      "text/plain": [
       "Token ids:\n",
       "\u001b[1m[\u001b[0m\u001b[1;36m400\u001b[0m, \u001b[1;36m5893\u001b[0m, \u001b[1;36m18927\u001b[0m, \u001b[1;36m5519\u001b[0m, \u001b[1;36m43784\u001b[0m, \u001b[1;36m466\u001b[0m, \u001b[1;36m33415\u001b[0m, \u001b[1;36m8801\u001b[0m, \u001b[1;36m286\u001b[0m, \u001b[1;36m4190\u001b[0m, \u001b[1;36m2994\u001b[0m\u001b[1m]\u001b[0m\n"
      ]
     },
     "metadata": {},
     "output_type": "display_data"
    },
    {
     "data": {
      "text/html": [
       "<pre style=\"white-space:pre;overflow-x:auto;line-height:normal;font-family:Menlo,'DejaVu Sans Mono',consolas,'Courier New',monospace\"><span style=\"color: #800000; text-decoration-color: #800000\">Character-level</span>: sentence converted into <span style=\"color: #008080; text-decoration-color: #008080; font-weight: bold\">61</span> tokens <span style=\"font-weight: bold\">(</span>vocabulary: <span style=\"color: #008080; text-decoration-color: #008080; font-weight: bold\">384</span> tokens<span style=\"font-weight: bold\">)</span>\n",
       "</pre>\n"
      ],
      "text/plain": [
       "\u001b[31mCharacter-level\u001b[0m: sentence converted into \u001b[1;36m61\u001b[0m tokens \u001b[1m(\u001b[0mvocabulary: \u001b[1;36m384\u001b[0m tokens\u001b[1m)\u001b[0m\n"
      ]
     },
     "metadata": {},
     "output_type": "display_data"
    },
    {
     "data": {
      "text/html": [
       "<pre style=\"white-space:pre;overflow-x:auto;line-height:normal;font-family:Menlo,'DejaVu Sans Mono',consolas,'Courier New',monospace\">Tokens:\n",
       "<span style=\"font-weight: bold\">[</span><span style=\"color: #008000; text-decoration-color: #008000\">'t'</span>, <span style=\"color: #008000; text-decoration-color: #008000\">'h'</span>, <span style=\"color: #008000; text-decoration-color: #008000\">'i'</span>, <span style=\"color: #008000; text-decoration-color: #008000\">'r'</span>, <span style=\"color: #008000; text-decoration-color: #008000\">'t'</span>, <span style=\"color: #008000; text-decoration-color: #008000\">'y'</span>, <span style=\"color: #008000; text-decoration-color: #008000\">'s'</span>, <span style=\"color: #008000; text-decoration-color: #008000\">'o'</span>, <span style=\"color: #008000; text-decoration-color: #008000\">'m'</span>, <span style=\"color: #008000; text-decoration-color: #008000\">'e'</span>, <span style=\"color: #008000; text-decoration-color: #008000\">'t'</span>, <span style=\"color: #008000; text-decoration-color: #008000\">'h'</span>, <span style=\"color: #008000; text-decoration-color: #008000\">'i'</span>, <span style=\"color: #008000; text-decoration-color: #008000\">'n'</span>, <span style=\"color: #008000; text-decoration-color: #008000\">'g'</span>, <span style=\"color: #008000; text-decoration-color: #008000\">' '</span>, <span style=\"color: #008000; text-decoration-color: #008000\">'s'</span>, <span style=\"color: #008000; text-decoration-color: #008000\">'c'</span>, <span style=\"color: #008000; text-decoration-color: #008000\">'i'</span>, <span style=\"color: #008000; text-decoration-color: #008000\">'e'</span>, <span style=\"color: #008000; text-decoration-color: #008000\">'n'</span>, <span style=\"color: #008000; text-decoration-color: #008000\">'t'</span>, <span style=\"color: #008000; text-decoration-color: #008000\">'i'</span>,\n",
       "<span style=\"color: #008000; text-decoration-color: #008000\">'s'</span>, <span style=\"color: #008000; text-decoration-color: #008000\">'t'</span>, <span style=\"color: #008000; text-decoration-color: #008000\">'s'</span>, <span style=\"color: #008000; text-decoration-color: #008000\">' '</span>, <span style=\"color: #008000; text-decoration-color: #008000\">'u'</span>, <span style=\"color: #008000; text-decoration-color: #008000\">'n'</span>, <span style=\"color: #008000; text-decoration-color: #008000\">'v'</span>, <span style=\"color: #008000; text-decoration-color: #008000\">'e'</span>, <span style=\"color: #008000; text-decoration-color: #008000\">'i'</span>, <span style=\"color: #008000; text-decoration-color: #008000\">'l'</span>, <span style=\"color: #008000; text-decoration-color: #008000\">' '</span>, <span style=\"color: #008000; text-decoration-color: #008000\">'d'</span>, <span style=\"color: #008000; text-decoration-color: #008000\">'o'</span>, <span style=\"color: #008000; text-decoration-color: #008000\">'o'</span>, <span style=\"color: #008000; text-decoration-color: #008000\">'m'</span>, <span style=\"color: #008000; text-decoration-color: #008000\">'s'</span>, <span style=\"color: #008000; text-decoration-color: #008000\">'d'</span>, <span style=\"color: #008000; text-decoration-color: #008000\">'a'</span>, <span style=\"color: #008000; text-decoration-color: #008000\">'y'</span>, <span style=\"color: #008000; text-decoration-color: #008000\">' '</span>, <span style=\"color: #008000; text-decoration-color: #008000\">'c'</span>, <span style=\"color: #008000; text-decoration-color: #008000\">'l'</span>, <span style=\"color: #008000; text-decoration-color: #008000\">'o'</span>, \n",
       "<span style=\"color: #008000; text-decoration-color: #008000\">'c'</span>, <span style=\"color: #008000; text-decoration-color: #008000\">'k'</span>, <span style=\"color: #008000; text-decoration-color: #008000\">' '</span>, <span style=\"color: #008000; text-decoration-color: #008000\">'o'</span>, <span style=\"color: #008000; text-decoration-color: #008000\">'f'</span>, <span style=\"color: #008000; text-decoration-color: #008000\">' '</span>, <span style=\"color: #008000; text-decoration-color: #008000\">'h'</span>, <span style=\"color: #008000; text-decoration-color: #008000\">'a'</span>, <span style=\"color: #008000; text-decoration-color: #008000\">'i'</span>, <span style=\"color: #008000; text-decoration-color: #008000\">'r'</span>, <span style=\"color: #008000; text-decoration-color: #008000\">' '</span>, <span style=\"color: #008000; text-decoration-color: #008000\">'l'</span>, <span style=\"color: #008000; text-decoration-color: #008000\">'o'</span>, <span style=\"color: #008000; text-decoration-color: #008000\">'s'</span>, <span style=\"color: #008000; text-decoration-color: #008000\">'s'</span><span style=\"font-weight: bold\">]</span>\n",
       "</pre>\n"
      ],
      "text/plain": [
       "Tokens:\n",
       "\u001b[1m[\u001b[0m\u001b[32m't'\u001b[0m, \u001b[32m'h'\u001b[0m, \u001b[32m'i'\u001b[0m, \u001b[32m'r'\u001b[0m, \u001b[32m't'\u001b[0m, \u001b[32m'y'\u001b[0m, \u001b[32m's'\u001b[0m, \u001b[32m'o'\u001b[0m, \u001b[32m'm'\u001b[0m, \u001b[32m'e'\u001b[0m, \u001b[32m't'\u001b[0m, \u001b[32m'h'\u001b[0m, \u001b[32m'i'\u001b[0m, \u001b[32m'n'\u001b[0m, \u001b[32m'g'\u001b[0m, \u001b[32m' '\u001b[0m, \u001b[32m's'\u001b[0m, \u001b[32m'c'\u001b[0m, \u001b[32m'i'\u001b[0m, \u001b[32m'e'\u001b[0m, \u001b[32m'n'\u001b[0m, \u001b[32m't'\u001b[0m, \u001b[32m'i'\u001b[0m,\n",
       "\u001b[32m's'\u001b[0m, \u001b[32m't'\u001b[0m, \u001b[32m's'\u001b[0m, \u001b[32m' '\u001b[0m, \u001b[32m'u'\u001b[0m, \u001b[32m'n'\u001b[0m, \u001b[32m'v'\u001b[0m, \u001b[32m'e'\u001b[0m, \u001b[32m'i'\u001b[0m, \u001b[32m'l'\u001b[0m, \u001b[32m' '\u001b[0m, \u001b[32m'd'\u001b[0m, \u001b[32m'o'\u001b[0m, \u001b[32m'o'\u001b[0m, \u001b[32m'm'\u001b[0m, \u001b[32m's'\u001b[0m, \u001b[32m'd'\u001b[0m, \u001b[32m'a'\u001b[0m, \u001b[32m'y'\u001b[0m, \u001b[32m' '\u001b[0m, \u001b[32m'c'\u001b[0m, \u001b[32m'l'\u001b[0m, \u001b[32m'o'\u001b[0m, \n",
       "\u001b[32m'c'\u001b[0m, \u001b[32m'k'\u001b[0m, \u001b[32m' '\u001b[0m, \u001b[32m'o'\u001b[0m, \u001b[32m'f'\u001b[0m, \u001b[32m' '\u001b[0m, \u001b[32m'h'\u001b[0m, \u001b[32m'a'\u001b[0m, \u001b[32m'i'\u001b[0m, \u001b[32m'r'\u001b[0m, \u001b[32m' '\u001b[0m, \u001b[32m'l'\u001b[0m, \u001b[32m'o'\u001b[0m, \u001b[32m's'\u001b[0m, \u001b[32m's'\u001b[0m\u001b[1m]\u001b[0m\n"
      ]
     },
     "metadata": {},
     "output_type": "display_data"
    },
    {
     "data": {
      "text/html": [
       "<pre style=\"white-space:pre;overflow-x:auto;line-height:normal;font-family:Menlo,'DejaVu Sans Mono',consolas,'Courier New',monospace\">Token ids:\n",
       "<span style=\"font-weight: bold\">[</span><span style=\"color: #008080; text-decoration-color: #008080; font-weight: bold\">119</span>, <span style=\"color: #008080; text-decoration-color: #008080; font-weight: bold\">107</span>, <span style=\"color: #008080; text-decoration-color: #008080; font-weight: bold\">108</span>, <span style=\"color: #008080; text-decoration-color: #008080; font-weight: bold\">117</span>, <span style=\"color: #008080; text-decoration-color: #008080; font-weight: bold\">119</span>, <span style=\"color: #008080; text-decoration-color: #008080; font-weight: bold\">124</span>, <span style=\"color: #008080; text-decoration-color: #008080; font-weight: bold\">118</span>, <span style=\"color: #008080; text-decoration-color: #008080; font-weight: bold\">114</span>, <span style=\"color: #008080; text-decoration-color: #008080; font-weight: bold\">112</span>, <span style=\"color: #008080; text-decoration-color: #008080; font-weight: bold\">104</span>, <span style=\"color: #008080; text-decoration-color: #008080; font-weight: bold\">119</span>, <span style=\"color: #008080; text-decoration-color: #008080; font-weight: bold\">107</span>, <span style=\"color: #008080; text-decoration-color: #008080; font-weight: bold\">108</span>, <span style=\"color: #008080; text-decoration-color: #008080; font-weight: bold\">113</span>, <span style=\"color: #008080; text-decoration-color: #008080; font-weight: bold\">106</span>, <span style=\"color: #008080; text-decoration-color: #008080; font-weight: bold\">35</span>, <span style=\"color: #008080; text-decoration-color: #008080; font-weight: bold\">118</span>, <span style=\"color: #008080; text-decoration-color: #008080; font-weight: bold\">102</span>, <span style=\"color: #008080; text-decoration-color: #008080; font-weight: bold\">108</span>, <span style=\"color: #008080; text-decoration-color: #008080; font-weight: bold\">104</span>, <span style=\"color: #008080; text-decoration-color: #008080; font-weight: bold\">113</span>, <span style=\"color: #008080; text-decoration-color: #008080; font-weight: bold\">119</span>, <span style=\"color: #008080; text-decoration-color: #008080; font-weight: bold\">108</span>, \n",
       "<span style=\"color: #008080; text-decoration-color: #008080; font-weight: bold\">118</span>, <span style=\"color: #008080; text-decoration-color: #008080; font-weight: bold\">119</span>, <span style=\"color: #008080; text-decoration-color: #008080; font-weight: bold\">118</span>, <span style=\"color: #008080; text-decoration-color: #008080; font-weight: bold\">35</span>, <span style=\"color: #008080; text-decoration-color: #008080; font-weight: bold\">120</span>, <span style=\"color: #008080; text-decoration-color: #008080; font-weight: bold\">113</span>, <span style=\"color: #008080; text-decoration-color: #008080; font-weight: bold\">121</span>, <span style=\"color: #008080; text-decoration-color: #008080; font-weight: bold\">104</span>, <span style=\"color: #008080; text-decoration-color: #008080; font-weight: bold\">108</span>, <span style=\"color: #008080; text-decoration-color: #008080; font-weight: bold\">111</span>, <span style=\"color: #008080; text-decoration-color: #008080; font-weight: bold\">35</span>, <span style=\"color: #008080; text-decoration-color: #008080; font-weight: bold\">103</span>, <span style=\"color: #008080; text-decoration-color: #008080; font-weight: bold\">114</span>, <span style=\"color: #008080; text-decoration-color: #008080; font-weight: bold\">114</span>, <span style=\"color: #008080; text-decoration-color: #008080; font-weight: bold\">112</span>, <span style=\"color: #008080; text-decoration-color: #008080; font-weight: bold\">118</span>, <span style=\"color: #008080; text-decoration-color: #008080; font-weight: bold\">103</span>, <span style=\"color: #008080; text-decoration-color: #008080; font-weight: bold\">100</span>, <span style=\"color: #008080; text-decoration-color: #008080; font-weight: bold\">124</span>, <span style=\"color: #008080; text-decoration-color: #008080; font-weight: bold\">35</span>, <span style=\"color: #008080; text-decoration-color: #008080; font-weight: bold\">102</span>, <span style=\"color: #008080; text-decoration-color: #008080; font-weight: bold\">111</span>, <span style=\"color: #008080; text-decoration-color: #008080; font-weight: bold\">114</span>, \n",
       "<span style=\"color: #008080; text-decoration-color: #008080; font-weight: bold\">102</span>, <span style=\"color: #008080; text-decoration-color: #008080; font-weight: bold\">110</span>, <span style=\"color: #008080; text-decoration-color: #008080; font-weight: bold\">35</span>, <span style=\"color: #008080; text-decoration-color: #008080; font-weight: bold\">114</span>, <span style=\"color: #008080; text-decoration-color: #008080; font-weight: bold\">105</span>, <span style=\"color: #008080; text-decoration-color: #008080; font-weight: bold\">35</span>, <span style=\"color: #008080; text-decoration-color: #008080; font-weight: bold\">107</span>, <span style=\"color: #008080; text-decoration-color: #008080; font-weight: bold\">100</span>, <span style=\"color: #008080; text-decoration-color: #008080; font-weight: bold\">108</span>, <span style=\"color: #008080; text-decoration-color: #008080; font-weight: bold\">117</span>, <span style=\"color: #008080; text-decoration-color: #008080; font-weight: bold\">35</span>, <span style=\"color: #008080; text-decoration-color: #008080; font-weight: bold\">111</span>, <span style=\"color: #008080; text-decoration-color: #008080; font-weight: bold\">114</span>, <span style=\"color: #008080; text-decoration-color: #008080; font-weight: bold\">118</span>, <span style=\"color: #008080; text-decoration-color: #008080; font-weight: bold\">118</span><span style=\"font-weight: bold\">]</span>\n",
       "</pre>\n"
      ],
      "text/plain": [
       "Token ids:\n",
       "\u001b[1m[\u001b[0m\u001b[1;36m119\u001b[0m, \u001b[1;36m107\u001b[0m, \u001b[1;36m108\u001b[0m, \u001b[1;36m117\u001b[0m, \u001b[1;36m119\u001b[0m, \u001b[1;36m124\u001b[0m, \u001b[1;36m118\u001b[0m, \u001b[1;36m114\u001b[0m, \u001b[1;36m112\u001b[0m, \u001b[1;36m104\u001b[0m, \u001b[1;36m119\u001b[0m, \u001b[1;36m107\u001b[0m, \u001b[1;36m108\u001b[0m, \u001b[1;36m113\u001b[0m, \u001b[1;36m106\u001b[0m, \u001b[1;36m35\u001b[0m, \u001b[1;36m118\u001b[0m, \u001b[1;36m102\u001b[0m, \u001b[1;36m108\u001b[0m, \u001b[1;36m104\u001b[0m, \u001b[1;36m113\u001b[0m, \u001b[1;36m119\u001b[0m, \u001b[1;36m108\u001b[0m, \n",
       "\u001b[1;36m118\u001b[0m, \u001b[1;36m119\u001b[0m, \u001b[1;36m118\u001b[0m, \u001b[1;36m35\u001b[0m, \u001b[1;36m120\u001b[0m, \u001b[1;36m113\u001b[0m, \u001b[1;36m121\u001b[0m, \u001b[1;36m104\u001b[0m, \u001b[1;36m108\u001b[0m, \u001b[1;36m111\u001b[0m, \u001b[1;36m35\u001b[0m, \u001b[1;36m103\u001b[0m, \u001b[1;36m114\u001b[0m, \u001b[1;36m114\u001b[0m, \u001b[1;36m112\u001b[0m, \u001b[1;36m118\u001b[0m, \u001b[1;36m103\u001b[0m, \u001b[1;36m100\u001b[0m, \u001b[1;36m124\u001b[0m, \u001b[1;36m35\u001b[0m, \u001b[1;36m102\u001b[0m, \u001b[1;36m111\u001b[0m, \u001b[1;36m114\u001b[0m, \n",
       "\u001b[1;36m102\u001b[0m, \u001b[1;36m110\u001b[0m, \u001b[1;36m35\u001b[0m, \u001b[1;36m114\u001b[0m, \u001b[1;36m105\u001b[0m, \u001b[1;36m35\u001b[0m, \u001b[1;36m107\u001b[0m, \u001b[1;36m100\u001b[0m, \u001b[1;36m108\u001b[0m, \u001b[1;36m117\u001b[0m, \u001b[1;36m35\u001b[0m, \u001b[1;36m111\u001b[0m, \u001b[1;36m114\u001b[0m, \u001b[1;36m118\u001b[0m, \u001b[1;36m118\u001b[0m\u001b[1m]\u001b[0m\n"
      ]
     },
     "metadata": {},
     "output_type": "display_data"
    }
   ],
   "source": [
    "# Example sentence with rare English words and non-english words\n",
    "sentence = df.at[0, 'headline']\n",
    "rich.print(f\"Input sentence: [bold blue]`{sentence}`\")\n",
    "\n",
    "# Define multiple tokenizers\n",
    "tokenizer_ids = {\n",
    "    \"Word-level\": glove_tokenizer,\n",
    "    \"WordPiece\": \"bert-base-cased\",\n",
    "    \"BPE\": \"distilgpt2\",\n",
    "    \"Character-level\":  \"google/byt5-small\",\n",
    "    }\n",
    "\n",
    "# iterate through the tokenizers and decode the input sentences\n",
    "for tokenizer_name, tokenizer in tokenizer_ids.items():\n",
    "    # intialize the tokenizer (either)\n",
    "    if isinstance(tokenizer, str):\n",
    "        # init a `transformers.PreTrainedTokenizerFast`\n",
    "        tokenizer = transformers.AutoTokenizer.from_pretrained(tokenizer)\n",
    "        vocab_size = tokenizer.vocab_size\n",
    "    else:\n",
    "        # use the provided `tokenizers.Tokenizer``\n",
    "        vocab_size = tokenizer.get_vocab_size()\n",
    "\n",
    "    # Tokenize\n",
    "    token_ids = tokenizer.encode(sentence, add_special_tokens=False)\n",
    "    if isinstance(token_ids, tokenizers.Encoding):\n",
    "        token_ids = token_ids.ids\n",
    "\n",
    "    # Report\n",
    "    rich.print(f\"[red]{tokenizer_name}[/red]: sentence converted into {len(token_ids)} tokens (vocabulary: {vocab_size} tokens)\")\n",
    "    rich.print(f\"Tokens:\\n{[tokenizer.decode([t]) for t in token_ids]}\")\n",
    "    rich.print(f\"Token ids:\\n{[t for t in token_ids]}\")"
   ]
  },
  {
   "cell_type": "code",
   "execution_count": null,
   "metadata": {},
   "outputs": [],
   "source": []
  },
  {
   "cell_type": "code",
   "execution_count": null,
   "metadata": {},
   "outputs": [],
   "source": []
  },
  {
   "cell_type": "code",
   "execution_count": null,
   "metadata": {},
   "outputs": [],
   "source": []
  },
  {
   "cell_type": "code",
   "execution_count": null,
   "metadata": {},
   "outputs": [],
   "source": []
  },
  {
   "cell_type": "code",
   "execution_count": null,
   "metadata": {},
   "outputs": [],
   "source": []
  },
  {
   "cell_type": "code",
   "execution_count": null,
   "metadata": {},
   "outputs": [],
   "source": []
  }
 ],
 "metadata": {
  "kernelspec": {
   "display_name": "base",
   "language": "python",
   "name": "python3"
  },
  "language_info": {
   "codemirror_mode": {
    "name": "ipython",
    "version": 3
   },
   "file_extension": ".py",
   "mimetype": "text/x-python",
   "name": "python",
   "nbconvert_exporter": "python",
   "pygments_lexer": "ipython3",
   "version": "3.9.13"
  },
  "orig_nbformat": 4
 },
 "nbformat": 4,
 "nbformat_minor": 2
}
