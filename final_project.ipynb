{
 "cells": [
  {
   "cell_type": "markdown",
   "metadata": {},
   "source": [
    "# Sarcasm Detection on News headlines"
   ]
  },
  {
   "cell_type": "code",
   "execution_count": 1,
   "metadata": {},
   "outputs": [
    {
     "name": "stderr",
     "output_type": "stream",
     "text": [
      "/Users/xyc/opt/anaconda3/lib/python3.9/site-packages/scipy/__init__.py:155: UserWarning: A NumPy version >=1.18.5 and <1.25.0 is required for this version of SciPy (detected version 1.26.0\n",
      "  warnings.warn(f\"A NumPy version >={np_minversion} and <{np_maxversion}\"\n"
     ]
    }
   ],
   "source": [
    "import torch\n",
    "import math\n",
    "import rich\n",
    "import json\n",
    "import nltk\n",
    "from functools import partial\n",
    "from pathlib import Path\n",
    "from torch  import nn\n",
    "from tqdm   import tqdm\n",
    "from typing import List, Tuple, Optional, Dict, Any\n",
    "import matplotlib.pyplot as plt\n",
    "import seaborn as sns\n",
    "import pandas as pd\n",
    "import numpy as np\n",
    "import transformers\n",
    "import unicodedata\n",
    "import tokenizers\n",
    "import datasets\n",
    "import zipfile\n",
    "from huggingface_hub import hf_hub_download\n",
    "\n",
    "sns.set()"
   ]
  },
  {
   "cell_type": "code",
   "execution_count": 2,
   "metadata": {},
   "outputs": [
    {
     "data": {
      "text/html": [
       "<pre style=\"white-space:pre;overflow-x:auto;line-height:normal;font-family:Menlo,'DejaVu Sans Mono',consolas,'Courier New',monospace\">Device: <span style=\"color: #800000; text-decoration-color: #800000\">cpu</span>\n",
       "</pre>\n"
      ],
      "text/plain": [
       "Device: \u001b[31mcpu\u001b[0m\n"
      ]
     },
     "metadata": {},
     "output_type": "display_data"
    }
   ],
   "source": [
    "# define the device to use\n",
    "DEVICE = torch.device(\"cuda\") if torch.cuda.is_available() else torch.device(\"cpu\")\n",
    "rich.print(f\"Device: [red]{DEVICE}\")"
   ]
  },
  {
   "cell_type": "code",
   "execution_count": 3,
   "metadata": {},
   "outputs": [
    {
     "name": "stderr",
     "output_type": "stream",
     "text": [
      "Parsing glove.6B.300d.txt...: 100%|██████████| 400001/400001 [00:25<00:00, 15440.81it/s]\n"
     ]
    },
    {
     "data": {
      "text/html": [
       "<pre style=\"white-space:pre;overflow-x:auto;line-height:normal;font-family:Menlo,'DejaVu Sans Mono',consolas,'Courier New',monospace\">glove_vocabulary: <span style=\"color: #808000; text-decoration-color: #808000\">type</span>=<span style=\"font-weight: bold\">&lt;</span><span style=\"color: #ff00ff; text-decoration-color: #ff00ff; font-weight: bold\">class</span><span style=\"color: #000000; text-decoration-color: #000000\"> </span><span style=\"color: #008000; text-decoration-color: #008000\">'list'</span><span style=\"font-weight: bold\">&gt;</span>, <span style=\"color: #808000; text-decoration-color: #808000\">length</span>=<span style=\"color: #008080; text-decoration-color: #008080; font-weight: bold\">400001</span>\n",
       "</pre>\n"
      ],
      "text/plain": [
       "glove_vocabulary: \u001b[33mtype\u001b[0m=\u001b[1m<\u001b[0m\u001b[1;95mclass\u001b[0m\u001b[39m \u001b[0m\u001b[32m'list'\u001b[0m\u001b[1m>\u001b[0m, \u001b[33mlength\u001b[0m=\u001b[1;36m400001\u001b[0m\n"
      ]
     },
     "metadata": {},
     "output_type": "display_data"
    },
    {
     "data": {
      "text/html": [
       "<pre style=\"white-space:pre;overflow-x:auto;line-height:normal;font-family:Menlo,'DejaVu Sans Mono',consolas,'Courier New',monospace\">glove_vectors: <span style=\"color: #808000; text-decoration-color: #808000\">type</span>=<span style=\"font-weight: bold\">&lt;</span><span style=\"color: #ff00ff; text-decoration-color: #ff00ff; font-weight: bold\">class</span><span style=\"color: #000000; text-decoration-color: #000000\"> </span><span style=\"color: #008000; text-decoration-color: #008000\">'torch.Tensor'</span><span style=\"font-weight: bold\">&gt;</span>, <span style=\"color: #808000; text-decoration-color: #808000\">shape</span>=<span style=\"color: #800080; text-decoration-color: #800080; font-weight: bold\">torch</span><span style=\"color: #800080; text-decoration-color: #800080; font-weight: bold\">.Size</span><span style=\"font-weight: bold\">([</span><span style=\"color: #008080; text-decoration-color: #008080; font-weight: bold\">400001</span>, <span style=\"color: #008080; text-decoration-color: #008080; font-weight: bold\">300</span><span style=\"font-weight: bold\">])</span>, <span style=\"color: #808000; text-decoration-color: #808000\">dtype</span>=<span style=\"color: #800080; text-decoration-color: #800080\">torch</span>.float32\n",
       "</pre>\n"
      ],
      "text/plain": [
       "glove_vectors: \u001b[33mtype\u001b[0m=\u001b[1m<\u001b[0m\u001b[1;95mclass\u001b[0m\u001b[39m \u001b[0m\u001b[32m'torch.Tensor'\u001b[0m\u001b[1m>\u001b[0m, \u001b[33mshape\u001b[0m=\u001b[1;35mtorch\u001b[0m\u001b[1;35m.Size\u001b[0m\u001b[1m(\u001b[0m\u001b[1m[\u001b[0m\u001b[1;36m400001\u001b[0m, \u001b[1;36m300\u001b[0m\u001b[1m]\u001b[0m\u001b[1m)\u001b[0m, \u001b[33mdtype\u001b[0m=\u001b[35mtorch\u001b[0m.float32\n"
      ]
     },
     "metadata": {},
     "output_type": "display_data"
    }
   ],
   "source": [
    "# control verbosity\n",
    "transformers.logging.set_verbosity_error()\n",
    "datasets.logging.set_verbosity_error()\n",
    "\n",
    "# define support functions\n",
    "def load_glove_vectors(filename = \"glove.6B.300d.txt\") -> Tuple[List[str], torch.Tensor]:\n",
    "    \"\"\"Load the GloVe vectors. See: `https://github.com/stanfordnlp/GloVe`\"\"\"\n",
    "    path = Path(hf_hub_download(repo_id=\"stanfordnlp/glove\", filename=\"glove.6B.zip\"))\n",
    "    target_file = path.parent / filename\n",
    "    if not target_file.exists():\n",
    "        with zipfile.ZipFile(path, 'r') as zip_ref:\n",
    "            zip_ref.extractall(path.parent)\n",
    "\n",
    "        if not target_file.exists():\n",
    "            print(f\"Available files:\")\n",
    "            for p in path.parent.iterdir():\n",
    "                print(p)\n",
    "            raise ValueError(f\"Target file `{target_file.name}` can't be found. Check if `{filename}` was properly downloaded.\")\n",
    "\n",
    "    # parse the vocabulary and the vectors\n",
    "    vocabulary = []\n",
    "    vectors = []\n",
    "    with open(target_file, \"r\") as f:\n",
    "        for l in tqdm(f.readlines(), desc=f\"Parsing {target_file.name}...\" ):\n",
    "            word, *vector = l.split()\n",
    "            vocabulary.append(word)\n",
    "            vectors.append(torch.tensor([float(v) for v in vector]))\n",
    "    vectors = torch.stack(vectors)\n",
    "    return vocabulary, vectors\n",
    "\n",
    "# prepare data for the later cells\n",
    "glove_vocabulary, glove_vectors = load_glove_vectors()\n",
    "rich.print(f\"glove_vocabulary: type={type(glove_vocabulary)}, length={len(glove_vocabulary)}\")\n",
    "rich.print(f\"glove_vectors: type={type(glove_vectors)}, shape={glove_vectors.shape}, dtype={glove_vectors.dtype}\")\n",
    "\n",
    "# tokenizer for GloVe\n",
    "glove_tokenizer = tokenizers.Tokenizer(tokenizers.models.WordLevel(vocab={v:i for i,v in enumerate(glove_vocabulary)},\n",
    "                                                                   unk_token=\"<|unknown|>\"))\n",
    "glove_tokenizer.normalizer = tokenizers.normalizers.BertNormalizer(strip_accents=False)\n",
    "glove_tokenizer.pre_tokenizer = tokenizers.pre_tokenizers.Whitespace()"
   ]
  },
  {
   "cell_type": "code",
   "execution_count": 4,
   "metadata": {},
   "outputs": [],
   "source": [
    "df = pd.read_json(\"./data/Sarcasm_Headlines_Dataset_v2.json\",\n",
    "                  lines=True)\n",
    "df = df.drop('article_link', axis = 1)"
   ]
  },
  {
   "cell_type": "code",
   "execution_count": 5,
   "metadata": {},
   "outputs": [
    {
     "data": {
      "image/png": "[encoded data removed]",
      "text/plain": [
       "<Figure size 640x480 with 1 Axes>"
      ]
     },
     "metadata": {},
     "output_type": "display_data"
    }
   ],
   "source": [
    "sns.countplot(data=df, x=\"is_sarcastic\",hue=\"is_sarcastic\")\n",
    "plt.show()"
   ]
  },
  {
   "cell_type": "code",
   "execution_count": 6,
   "metadata": {},
   "outputs": [
    {
     "data": {
      "text/html": [
       "<pre style=\"white-space:pre;overflow-x:auto;line-height:normal;font-family:Menlo,'DejaVu Sans Mono',consolas,'Courier New',monospace\">Input sentence: <span style=\"color: #000080; text-decoration-color: #000080; font-weight: bold\">`proud to be a total b*tch`</span>\n",
       "</pre>\n"
      ],
      "text/plain": [
       "Input sentence: \u001b[1;34m`proud to be a total b*tch`\u001b[0m\n"
      ]
     },
     "metadata": {},
     "output_type": "display_data"
    },
    {
     "data": {
      "text/html": [
       "<pre style=\"white-space:pre;overflow-x:auto;line-height:normal;font-family:Menlo,'DejaVu Sans Mono',consolas,'Courier New',monospace\"><span style=\"color: #800000; text-decoration-color: #800000\">Word-level</span>: sentence converted into <span style=\"color: #008080; text-decoration-color: #008080; font-weight: bold\">8</span> tokens <span style=\"font-weight: bold\">(</span>vocabulary: <span style=\"color: #008080; text-decoration-color: #008080; font-weight: bold\">400001</span> tokens<span style=\"font-weight: bold\">)</span>\n",
       "</pre>\n"
      ],
      "text/plain": [
       "\u001b[31mWord-level\u001b[0m: sentence converted into \u001b[1;36m8\u001b[0m tokens \u001b[1m(\u001b[0mvocabulary: \u001b[1;36m400001\u001b[0m tokens\u001b[1m)\u001b[0m\n"
      ]
     },
     "metadata": {},
     "output_type": "display_data"
    },
    {
     "data": {
      "text/html": [
       "<pre style=\"white-space:pre;overflow-x:auto;line-height:normal;font-family:Menlo,'DejaVu Sans Mono',consolas,'Courier New',monospace\">Tokens:\n",
       "<span style=\"font-weight: bold\">[</span><span style=\"color: #008000; text-decoration-color: #008000\">'proud'</span>, <span style=\"color: #008000; text-decoration-color: #008000\">'to'</span>, <span style=\"color: #008000; text-decoration-color: #008000\">'be'</span>, <span style=\"color: #008000; text-decoration-color: #008000\">'a'</span>, <span style=\"color: #008000; text-decoration-color: #008000\">'total'</span>, <span style=\"color: #008000; text-decoration-color: #008000\">'b'</span>, <span style=\"color: #008000; text-decoration-color: #008000\">'*'</span>, <span style=\"color: #008000; text-decoration-color: #008000\">'tch'</span><span style=\"font-weight: bold\">]</span>\n",
       "</pre>\n"
      ],
      "text/plain": [
       "Tokens:\n",
       "\u001b[1m[\u001b[0m\u001b[32m'proud'\u001b[0m, \u001b[32m'to'\u001b[0m, \u001b[32m'be'\u001b[0m, \u001b[32m'a'\u001b[0m, \u001b[32m'total'\u001b[0m, \u001b[32m'b'\u001b[0m, \u001b[32m'*'\u001b[0m, \u001b[32m'tch'\u001b[0m\u001b[1m]\u001b[0m\n"
      ]
     },
     "metadata": {},
     "output_type": "display_data"
    },
    {
     "data": {
      "text/html": [
       "<pre style=\"white-space:pre;overflow-x:auto;line-height:normal;font-family:Menlo,'DejaVu Sans Mono',consolas,'Courier New',monospace\">Token ids:\n",
       "<span style=\"font-weight: bold\">[</span><span style=\"color: #008080; text-decoration-color: #008080; font-weight: bold\">4287</span>, <span style=\"color: #008080; text-decoration-color: #008080; font-weight: bold\">4</span>, <span style=\"color: #008080; text-decoration-color: #008080; font-weight: bold\">30</span>, <span style=\"color: #008080; text-decoration-color: #008080; font-weight: bold\">7</span>, <span style=\"color: #008080; text-decoration-color: #008080; font-weight: bold\">477</span>, <span style=\"color: #008080; text-decoration-color: #008080; font-weight: bold\">1556</span>, <span style=\"color: #008080; text-decoration-color: #008080; font-weight: bold\">13697</span>, <span style=\"color: #008080; text-decoration-color: #008080; font-weight: bold\">154788</span><span style=\"font-weight: bold\">]</span>\n",
       "</pre>\n"
      ],
      "text/plain": [
       "Token ids:\n",
       "\u001b[1m[\u001b[0m\u001b[1;36m4287\u001b[0m, \u001b[1;36m4\u001b[0m, \u001b[1;36m30\u001b[0m, \u001b[1;36m7\u001b[0m, \u001b[1;36m477\u001b[0m, \u001b[1;36m1556\u001b[0m, \u001b[1;36m13697\u001b[0m, \u001b[1;36m154788\u001b[0m\u001b[1m]\u001b[0m\n"
      ]
     },
     "metadata": {},
     "output_type": "display_data"
    },
    {
     "data": {
      "text/html": [
       "<pre style=\"white-space:pre;overflow-x:auto;line-height:normal;font-family:Menlo,'DejaVu Sans Mono',consolas,'Courier New',monospace\"><span style=\"color: #800000; text-decoration-color: #800000\">WordPiece</span>: sentence converted into <span style=\"color: #008080; text-decoration-color: #008080; font-weight: bold\">9</span> tokens <span style=\"font-weight: bold\">(</span>vocabulary: <span style=\"color: #008080; text-decoration-color: #008080; font-weight: bold\">28996</span> tokens<span style=\"font-weight: bold\">)</span>\n",
       "</pre>\n"
      ],
      "text/plain": [
       "\u001b[31mWordPiece\u001b[0m: sentence converted into \u001b[1;36m9\u001b[0m tokens \u001b[1m(\u001b[0mvocabulary: \u001b[1;36m28996\u001b[0m tokens\u001b[1m)\u001b[0m\n"
      ]
     },
     "metadata": {},
     "output_type": "display_data"
    },
    {
     "data": {
      "text/html": [
       "<pre style=\"white-space:pre;overflow-x:auto;line-height:normal;font-family:Menlo,'DejaVu Sans Mono',consolas,'Courier New',monospace\">Tokens:\n",
       "<span style=\"font-weight: bold\">[</span><span style=\"color: #008000; text-decoration-color: #008000\">'proud'</span>, <span style=\"color: #008000; text-decoration-color: #008000\">'to'</span>, <span style=\"color: #008000; text-decoration-color: #008000\">'be'</span>, <span style=\"color: #008000; text-decoration-color: #008000\">'a'</span>, <span style=\"color: #008000; text-decoration-color: #008000\">'total'</span>, <span style=\"color: #008000; text-decoration-color: #008000\">'b'</span>, <span style=\"color: #008000; text-decoration-color: #008000\">'*'</span>, <span style=\"color: #008000; text-decoration-color: #008000\">'t'</span>, <span style=\"color: #008000; text-decoration-color: #008000\">'##ch'</span><span style=\"font-weight: bold\">]</span>\n",
       "</pre>\n"
      ],
      "text/plain": [
       "Tokens:\n",
       "\u001b[1m[\u001b[0m\u001b[32m'proud'\u001b[0m, \u001b[32m'to'\u001b[0m, \u001b[32m'be'\u001b[0m, \u001b[32m'a'\u001b[0m, \u001b[32m'total'\u001b[0m, \u001b[32m'b'\u001b[0m, \u001b[32m'*'\u001b[0m, \u001b[32m't'\u001b[0m, \u001b[32m'##ch'\u001b[0m\u001b[1m]\u001b[0m\n"
      ]
     },
     "metadata": {},
     "output_type": "display_data"
    },
    {
     "data": {
      "text/html": [
       "<pre style=\"white-space:pre;overflow-x:auto;line-height:normal;font-family:Menlo,'DejaVu Sans Mono',consolas,'Courier New',monospace\">Token ids:\n",
       "<span style=\"font-weight: bold\">[</span><span style=\"color: #008080; text-decoration-color: #008080; font-weight: bold\">6884</span>, <span style=\"color: #008080; text-decoration-color: #008080; font-weight: bold\">1106</span>, <span style=\"color: #008080; text-decoration-color: #008080; font-weight: bold\">1129</span>, <span style=\"color: #008080; text-decoration-color: #008080; font-weight: bold\">170</span>, <span style=\"color: #008080; text-decoration-color: #008080; font-weight: bold\">1703</span>, <span style=\"color: #008080; text-decoration-color: #008080; font-weight: bold\">171</span>, <span style=\"color: #008080; text-decoration-color: #008080; font-weight: bold\">115</span>, <span style=\"color: #008080; text-decoration-color: #008080; font-weight: bold\">189</span>, <span style=\"color: #008080; text-decoration-color: #008080; font-weight: bold\">1732</span><span style=\"font-weight: bold\">]</span>\n",
       "</pre>\n"
      ],
      "text/plain": [
       "Token ids:\n",
       "\u001b[1m[\u001b[0m\u001b[1;36m6884\u001b[0m, \u001b[1;36m1106\u001b[0m, \u001b[1;36m1129\u001b[0m, \u001b[1;36m170\u001b[0m, \u001b[1;36m1703\u001b[0m, \u001b[1;36m171\u001b[0m, \u001b[1;36m115\u001b[0m, \u001b[1;36m189\u001b[0m, \u001b[1;36m1732\u001b[0m\u001b[1m]\u001b[0m\n"
      ]
     },
     "metadata": {},
     "output_type": "display_data"
    },
    {
     "data": {
      "text/html": [
       "<pre style=\"white-space:pre;overflow-x:auto;line-height:normal;font-family:Menlo,'DejaVu Sans Mono',consolas,'Courier New',monospace\"><span style=\"color: #800000; text-decoration-color: #800000\">BPE</span>: sentence converted into <span style=\"color: #008080; text-decoration-color: #008080; font-weight: bold\">9</span> tokens <span style=\"font-weight: bold\">(</span>vocabulary: <span style=\"color: #008080; text-decoration-color: #008080; font-weight: bold\">50257</span> tokens<span style=\"font-weight: bold\">)</span>\n",
       "</pre>\n"
      ],
      "text/plain": [
       "\u001b[31mBPE\u001b[0m: sentence converted into \u001b[1;36m9\u001b[0m tokens \u001b[1m(\u001b[0mvocabulary: \u001b[1;36m50257\u001b[0m tokens\u001b[1m)\u001b[0m\n"
      ]
     },
     "metadata": {},
     "output_type": "display_data"
    },
    {
     "data": {
      "text/html": [
       "<pre style=\"white-space:pre;overflow-x:auto;line-height:normal;font-family:Menlo,'DejaVu Sans Mono',consolas,'Courier New',monospace\">Tokens:\n",
       "<span style=\"font-weight: bold\">[</span><span style=\"color: #008000; text-decoration-color: #008000\">'p'</span>, <span style=\"color: #008000; text-decoration-color: #008000\">'roud'</span>, <span style=\"color: #008000; text-decoration-color: #008000\">' to'</span>, <span style=\"color: #008000; text-decoration-color: #008000\">' be'</span>, <span style=\"color: #008000; text-decoration-color: #008000\">' a'</span>, <span style=\"color: #008000; text-decoration-color: #008000\">' total'</span>, <span style=\"color: #008000; text-decoration-color: #008000\">' b'</span>, <span style=\"color: #008000; text-decoration-color: #008000\">'*'</span>, <span style=\"color: #008000; text-decoration-color: #008000\">'tch'</span><span style=\"font-weight: bold\">]</span>\n",
       "</pre>\n"
      ],
      "text/plain": [
       "Tokens:\n",
       "\u001b[1m[\u001b[0m\u001b[32m'p'\u001b[0m, \u001b[32m'roud'\u001b[0m, \u001b[32m' to'\u001b[0m, \u001b[32m' be'\u001b[0m, \u001b[32m' a'\u001b[0m, \u001b[32m' total'\u001b[0m, \u001b[32m' b'\u001b[0m, \u001b[32m'*'\u001b[0m, \u001b[32m'tch'\u001b[0m\u001b[1m]\u001b[0m\n"
      ]
     },
     "metadata": {},
     "output_type": "display_data"
    },
    {
     "data": {
      "text/html": [
       "<pre style=\"white-space:pre;overflow-x:auto;line-height:normal;font-family:Menlo,'DejaVu Sans Mono',consolas,'Courier New',monospace\">Token ids:\n",
       "<span style=\"font-weight: bold\">[</span><span style=\"color: #008080; text-decoration-color: #008080; font-weight: bold\">79</span>, <span style=\"color: #008080; text-decoration-color: #008080; font-weight: bold\">5493</span>, <span style=\"color: #008080; text-decoration-color: #008080; font-weight: bold\">284</span>, <span style=\"color: #008080; text-decoration-color: #008080; font-weight: bold\">307</span>, <span style=\"color: #008080; text-decoration-color: #008080; font-weight: bold\">257</span>, <span style=\"color: #008080; text-decoration-color: #008080; font-weight: bold\">2472</span>, <span style=\"color: #008080; text-decoration-color: #008080; font-weight: bold\">275</span>, <span style=\"color: #008080; text-decoration-color: #008080; font-weight: bold\">9</span>, <span style=\"color: #008080; text-decoration-color: #008080; font-weight: bold\">38664</span><span style=\"font-weight: bold\">]</span>\n",
       "</pre>\n"
      ],
      "text/plain": [
       "Token ids:\n",
       "\u001b[1m[\u001b[0m\u001b[1;36m79\u001b[0m, \u001b[1;36m5493\u001b[0m, \u001b[1;36m284\u001b[0m, \u001b[1;36m307\u001b[0m, \u001b[1;36m257\u001b[0m, \u001b[1;36m2472\u001b[0m, \u001b[1;36m275\u001b[0m, \u001b[1;36m9\u001b[0m, \u001b[1;36m38664\u001b[0m\u001b[1m]\u001b[0m\n"
      ]
     },
     "metadata": {},
     "output_type": "display_data"
    },
    {
     "data": {
      "text/html": [
       "<pre style=\"white-space:pre;overflow-x:auto;line-height:normal;font-family:Menlo,'DejaVu Sans Mono',consolas,'Courier New',monospace\"><span style=\"color: #800000; text-decoration-color: #800000\">Character-level</span>: sentence converted into <span style=\"color: #008080; text-decoration-color: #008080; font-weight: bold\">25</span> tokens <span style=\"font-weight: bold\">(</span>vocabulary: <span style=\"color: #008080; text-decoration-color: #008080; font-weight: bold\">384</span> tokens<span style=\"font-weight: bold\">)</span>\n",
       "</pre>\n"
      ],
      "text/plain": [
       "\u001b[31mCharacter-level\u001b[0m: sentence converted into \u001b[1;36m25\u001b[0m tokens \u001b[1m(\u001b[0mvocabulary: \u001b[1;36m384\u001b[0m tokens\u001b[1m)\u001b[0m\n"
      ]
     },
     "metadata": {},
     "output_type": "display_data"
    },
    {
     "data": {
      "text/html": [
       "<pre style=\"white-space:pre;overflow-x:auto;line-height:normal;font-family:Menlo,'DejaVu Sans Mono',consolas,'Courier New',monospace\">Tokens:\n",
       "<span style=\"font-weight: bold\">[</span><span style=\"color: #008000; text-decoration-color: #008000\">'p'</span>, <span style=\"color: #008000; text-decoration-color: #008000\">'r'</span>, <span style=\"color: #008000; text-decoration-color: #008000\">'o'</span>, <span style=\"color: #008000; text-decoration-color: #008000\">'u'</span>, <span style=\"color: #008000; text-decoration-color: #008000\">'d'</span>, <span style=\"color: #008000; text-decoration-color: #008000\">' '</span>, <span style=\"color: #008000; text-decoration-color: #008000\">'t'</span>, <span style=\"color: #008000; text-decoration-color: #008000\">'o'</span>, <span style=\"color: #008000; text-decoration-color: #008000\">' '</span>, <span style=\"color: #008000; text-decoration-color: #008000\">'b'</span>, <span style=\"color: #008000; text-decoration-color: #008000\">'e'</span>, <span style=\"color: #008000; text-decoration-color: #008000\">' '</span>, <span style=\"color: #008000; text-decoration-color: #008000\">'a'</span>, <span style=\"color: #008000; text-decoration-color: #008000\">' '</span>, <span style=\"color: #008000; text-decoration-color: #008000\">'t'</span>, <span style=\"color: #008000; text-decoration-color: #008000\">'o'</span>, <span style=\"color: #008000; text-decoration-color: #008000\">'t'</span>, <span style=\"color: #008000; text-decoration-color: #008000\">'a'</span>, <span style=\"color: #008000; text-decoration-color: #008000\">'l'</span>, <span style=\"color: #008000; text-decoration-color: #008000\">' '</span>, <span style=\"color: #008000; text-decoration-color: #008000\">'b'</span>, <span style=\"color: #008000; text-decoration-color: #008000\">'*'</span>, <span style=\"color: #008000; text-decoration-color: #008000\">'t'</span>,\n",
       "<span style=\"color: #008000; text-decoration-color: #008000\">'c'</span>, <span style=\"color: #008000; text-decoration-color: #008000\">'h'</span><span style=\"font-weight: bold\">]</span>\n",
       "</pre>\n"
      ],
      "text/plain": [
       "Tokens:\n",
       "\u001b[1m[\u001b[0m\u001b[32m'p'\u001b[0m, \u001b[32m'r'\u001b[0m, \u001b[32m'o'\u001b[0m, \u001b[32m'u'\u001b[0m, \u001b[32m'd'\u001b[0m, \u001b[32m' '\u001b[0m, \u001b[32m't'\u001b[0m, \u001b[32m'o'\u001b[0m, \u001b[32m' '\u001b[0m, \u001b[32m'b'\u001b[0m, \u001b[32m'e'\u001b[0m, \u001b[32m' '\u001b[0m, \u001b[32m'a'\u001b[0m, \u001b[32m' '\u001b[0m, \u001b[32m't'\u001b[0m, \u001b[32m'o'\u001b[0m, \u001b[32m't'\u001b[0m, \u001b[32m'a'\u001b[0m, \u001b[32m'l'\u001b[0m, \u001b[32m' '\u001b[0m, \u001b[32m'b'\u001b[0m, \u001b[32m'*'\u001b[0m, \u001b[32m't'\u001b[0m,\n",
       "\u001b[32m'c'\u001b[0m, \u001b[32m'h'\u001b[0m\u001b[1m]\u001b[0m\n"
      ]
     },
     "metadata": {},
     "output_type": "display_data"
    },
    {
     "data": {
      "text/html": [
       "<pre style=\"white-space:pre;overflow-x:auto;line-height:normal;font-family:Menlo,'DejaVu Sans Mono',consolas,'Courier New',monospace\">Token ids:\n",
       "<span style=\"font-weight: bold\">[</span><span style=\"color: #008080; text-decoration-color: #008080; font-weight: bold\">115</span>, <span style=\"color: #008080; text-decoration-color: #008080; font-weight: bold\">117</span>, <span style=\"color: #008080; text-decoration-color: #008080; font-weight: bold\">114</span>, <span style=\"color: #008080; text-decoration-color: #008080; font-weight: bold\">120</span>, <span style=\"color: #008080; text-decoration-color: #008080; font-weight: bold\">103</span>, <span style=\"color: #008080; text-decoration-color: #008080; font-weight: bold\">35</span>, <span style=\"color: #008080; text-decoration-color: #008080; font-weight: bold\">119</span>, <span style=\"color: #008080; text-decoration-color: #008080; font-weight: bold\">114</span>, <span style=\"color: #008080; text-decoration-color: #008080; font-weight: bold\">35</span>, <span style=\"color: #008080; text-decoration-color: #008080; font-weight: bold\">101</span>, <span style=\"color: #008080; text-decoration-color: #008080; font-weight: bold\">104</span>, <span style=\"color: #008080; text-decoration-color: #008080; font-weight: bold\">35</span>, <span style=\"color: #008080; text-decoration-color: #008080; font-weight: bold\">100</span>, <span style=\"color: #008080; text-decoration-color: #008080; font-weight: bold\">35</span>, <span style=\"color: #008080; text-decoration-color: #008080; font-weight: bold\">119</span>, <span style=\"color: #008080; text-decoration-color: #008080; font-weight: bold\">114</span>, <span style=\"color: #008080; text-decoration-color: #008080; font-weight: bold\">119</span>, <span style=\"color: #008080; text-decoration-color: #008080; font-weight: bold\">100</span>, <span style=\"color: #008080; text-decoration-color: #008080; font-weight: bold\">111</span>, <span style=\"color: #008080; text-decoration-color: #008080; font-weight: bold\">35</span>, <span style=\"color: #008080; text-decoration-color: #008080; font-weight: bold\">101</span>, <span style=\"color: #008080; text-decoration-color: #008080; font-weight: bold\">45</span>, <span style=\"color: #008080; text-decoration-color: #008080; font-weight: bold\">119</span>, <span style=\"color: #008080; text-decoration-color: #008080; font-weight: bold\">102</span>, \n",
       "<span style=\"color: #008080; text-decoration-color: #008080; font-weight: bold\">107</span><span style=\"font-weight: bold\">]</span>\n",
       "</pre>\n"
      ],
      "text/plain": [
       "Token ids:\n",
       "\u001b[1m[\u001b[0m\u001b[1;36m115\u001b[0m, \u001b[1;36m117\u001b[0m, \u001b[1;36m114\u001b[0m, \u001b[1;36m120\u001b[0m, \u001b[1;36m103\u001b[0m, \u001b[1;36m35\u001b[0m, \u001b[1;36m119\u001b[0m, \u001b[1;36m114\u001b[0m, \u001b[1;36m35\u001b[0m, \u001b[1;36m101\u001b[0m, \u001b[1;36m104\u001b[0m, \u001b[1;36m35\u001b[0m, \u001b[1;36m100\u001b[0m, \u001b[1;36m35\u001b[0m, \u001b[1;36m119\u001b[0m, \u001b[1;36m114\u001b[0m, \u001b[1;36m119\u001b[0m, \u001b[1;36m100\u001b[0m, \u001b[1;36m111\u001b[0m, \u001b[1;36m35\u001b[0m, \u001b[1;36m101\u001b[0m, \u001b[1;36m45\u001b[0m, \u001b[1;36m119\u001b[0m, \u001b[1;36m102\u001b[0m, \n",
       "\u001b[1;36m107\u001b[0m\u001b[1m]\u001b[0m\n"
      ]
     },
     "metadata": {},
     "output_type": "display_data"
    }
   ],
   "source": [
    "# Example sentence with rare English words and non-english words\n",
    "sentence = df.at[2741, 'headline']\n",
    "rich.print(f\"Input sentence: [bold blue]`{sentence}`\")\n",
    "\n",
    "# Define multiple tokenizers\n",
    "tokenizer_ids = {\n",
    "    \"Word-level\": glove_tokenizer,\n",
    "    \"WordPiece\": \"bert-base-cased\",\n",
    "    \"BPE\": \"distilgpt2\",\n",
    "    \"Character-level\":  \"google/byt5-small\",\n",
    "    }\n",
    "\n",
    "# iterate through the tokenizers and decode the input sentences\n",
    "for tokenizer_name, tokenizer in tokenizer_ids.items():\n",
    "    # intialize the tokenizer (either)\n",
    "    if isinstance(tokenizer, str):\n",
    "        # init a `transformers.PreTrainedTokenizerFast`\n",
    "        tokenizer = transformers.AutoTokenizer.from_pretrained(tokenizer)\n",
    "        vocab_size = tokenizer.vocab_size\n",
    "    else:\n",
    "        # use the provided `tokenizers.Tokenizer``\n",
    "        vocab_size = tokenizer.get_vocab_size()\n",
    "\n",
    "    # Tokenize\n",
    "    token_ids = tokenizer.encode(sentence, add_special_tokens=False)\n",
    "    if isinstance(token_ids, tokenizers.Encoding):\n",
    "        token_ids = token_ids.ids\n",
    "\n",
    "    # Report\n",
    "    rich.print(f\"[red]{tokenizer_name}[/red]: sentence converted into {len(token_ids)} tokens (vocabulary: {vocab_size} tokens)\")\n",
    "    rich.print(f\"Tokens:\\n{[tokenizer.decode([t]) for t in token_ids]}\")\n",
    "    rich.print(f\"Token ids:\\n{[t for t in token_ids]}\")"
   ]
  },
  {
   "cell_type": "code",
   "execution_count": 7,
   "metadata": {},
   "outputs": [],
   "source": [
    "df_textonly = df[~df['headline'].astype(str).str.contains(r'\\d')]"
   ]
  },
  {
   "cell_type": "code",
   "execution_count": 8,
   "metadata": {},
   "outputs": [
    {
     "data": {
      "image/png": "[encoded data removed]",
      "text/plain": [
       "<Figure size 640x480 with 1 Axes>"
      ]
     },
     "metadata": {},
     "output_type": "display_data"
    }
   ],
   "source": [
    "sns.countplot(data=df_textonly, x=\"is_sarcastic\",hue=\"is_sarcastic\")\n",
    "plt.show()"
   ]
  },
  {
   "cell_type": "code",
   "execution_count": 9,
   "metadata": {},
   "outputs": [],
   "source": [
    "df_textonly = df_textonly.reset_index().drop(columns='index')"
   ]
  },
  {
   "cell_type": "code",
   "execution_count": 10,
   "metadata": {},
   "outputs": [],
   "source": [
    "def remove_non_ascii(text):\n",
    "    # using unicodedata.normalize to convert unicode into ASCII\n",
    "    normalized_text = unicodedata.normalize('NFKD', text)\n",
    "\n",
    "    # removing any non-ASCII\n",
    "    ascii_text = normalized_text.encode('ascii', 'ignore').decode('ascii')\n",
    "    return ascii_text\n",
    "\n",
    "df_textonly['headline'] = df_textonly['headline'].apply(remove_non_ascii)"
   ]
  },
  {
   "cell_type": "code",
   "execution_count": 11,
   "metadata": {},
   "outputs": [],
   "source": [
    "df_textonly['headline'] = df_textonly['headline'].str.replace(r'[.,:;()\\'\"?+!&$]', '', \n",
    "                                                              regex=True)\n",
    "df_textonly['headline'] = df_textonly['headline'].str.replace(r'—+', ' ', regex=True) \n",
    "df_textonly['headline'] = df_textonly['headline'].str.replace(r'-+', ' ', regex=True) \n",
    "df_textonly['headline'] = df_textonly['headline'].str.replace(r'/', ' ', regex=True)"
   ]
  },
  {
   "cell_type": "code",
   "execution_count": 12,
   "metadata": {},
   "outputs": [],
   "source": [
    "# replace sensitive words\n",
    "sensitive_words = {\n",
    "    r'\\bf\\*+kup\\b': 'fuckup',\n",
    "    r'\\bf\\*+king\\b': 'fucking',\n",
    "    r'\\bf\\*+c?k?\\b': 'fuck',\n",
    "    r'\\bf\\*\\*\\*': 'fuck',\n",
    "    r'\\bsh?\\*+t\\b': 'shit',\n",
    "    r'\\bp\\*+(s+)?y\\b': 'pussy',\n",
    "    r'\\bb\\*+t?c?h\\b': 'bitch',\n",
    "    r'\\bb\\*+s\\b': 'bitches',\n",
    "    r'\\ba\\*\\*\\b': 'ass',\n",
    "    r'\\bn\\*+a\\b': 'nigga',\n",
    "    r'\\bn\\*+r\\b': 'nigger',\n",
    "    r'\\bb\\*+d\\b': 'bastard',\n",
    "    r'\\btr\\*mp\\b': 'trump',\n",
    "    r'\\bd\\*ck\\b': 'dick',\n",
    "    r'\\bbullsh?\\*+t\\b': 'bullshit',\n",
    "    r'\\bmotherf\\*+ker\\b': 'motherfucker',\n",
    "}\n",
    "\n",
    "for pattern, replacement in sensitive_words.items():\n",
    "    df_textonly['headline'] = df_textonly['headline'].str.replace(pattern, \n",
    "                                                                  replacement,\n",
    "                                                                  regex=True)"
   ]
  },
  {
   "cell_type": "code",
   "execution_count": 13,
   "metadata": {},
   "outputs": [
    {
     "name": "stdout",
     "output_type": "stream",
     "text": [
      "b*a*p*s rented on strength of academy award winning stars\n",
      "huffpost hill   have *you* been injured by a federal appellate court ruling\n",
      "three dozen confirmed *@@## in power plant *@@##\n",
      "from music festivals to college campuses trans* and womens communities\n",
      "an oral history of *nsyncs breakup according to bandmates not named justin timberlake\n"
     ]
    }
   ],
   "source": [
    "for i in [2873, 6726, 8215, 13154, 23422]:\n",
    "    print(df_textonly.at[i-2, 'headline'])\n",
    "    df_textonly.drop(i-2, inplace=True)"
   ]
  },
  {
   "cell_type": "markdown",
   "metadata": {},
   "source": [
    "**A final clean version of data**"
   ]
  },
  {
   "cell_type": "code",
   "execution_count": 14,
   "metadata": {},
   "outputs": [],
   "source": [
    "df_textonly.to_csv('clean_data.csv', index=False)"
   ]
  }
 ],
 "metadata": {
  "kernelspec": {
   "display_name": "base",
   "language": "python",
   "name": "python3"
  },
  "language_info": {
   "codemirror_mode": {
    "name": "ipython",
    "version": 3
   },
   "file_extension": ".py",
   "mimetype": "text/x-python",
   "name": "python",
   "nbconvert_exporter": "python",
   "pygments_lexer": "ipython3",
   "version": "3.9.13"
  },
  "orig_nbformat": 4
 },
 "nbformat": 4,
 "nbformat_minor": 2
}
