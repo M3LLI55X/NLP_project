{
  "cells": [
    {
      "cell_type": "code",
      "execution_count": 13,
      "metadata": {
        "_cell_guid": "b1076dfc-b9ad-4769-8c92-a6c4dae69d19",
        "_uuid": "8f2839f25d086af736a60e9eeb907d3b93b6e0e5",
        "execution": {
          "iopub.execute_input": "2023-08-12T06:44:39.084123Z",
          "iopub.status.busy": "2023-08-12T06:44:39.083741Z",
          "iopub.status.idle": "2023-08-12T06:44:39.097223Z",
          "shell.execute_reply": "2023-08-12T06:44:39.096248Z",
          "shell.execute_reply.started": "2023-08-12T06:44:39.084093Z"
        },
        "id": "AUBJugePE2yi",
        "trusted": true
      },
      "outputs": [],
      "source": [
        "import numpy as np # linear algebra\n",
        "import pandas as pd # data processing, CSV file I/O (e.g. pd.read_csv)\n",
        "import os\n",
        "for dirname, _, filenames in os.walk('/kaggle/input'):\n",
        "    for filename in filenames:\n",
        "        print(os.path.join(dirname, filename))"
      ]
    },
    {
      "cell_type": "code",
      "execution_count": 16,
      "metadata": {
        "execution": {
          "iopub.execute_input": "2023-08-12T06:44:39.101183Z",
          "iopub.status.busy": "2023-08-12T06:44:39.100866Z",
          "iopub.status.idle": "2023-08-12T06:44:39.113427Z",
          "shell.execute_reply": "2023-08-12T06:44:39.112279Z",
          "shell.execute_reply.started": "2023-08-12T06:44:39.101156Z"
        },
        "id": "yAwLX1PwE2yj",
        "trusted": true
      },
      "outputs": [],
      "source": [
        "# Helper functions\n",
        "from sklearn import metrics\n",
        "# helper function to print accuracy, precision, recall, F1\n",
        "def print_4_metrics(target_test, predicted):\n",
        "  print(\"%-12s %f\" % ('Accuracy:', metrics.accuracy_score(target_test,predicted)))\n",
        "  print(\"%-12s %f\" % ('Precision:', metrics.precision_score(target_test, predicted,labels=None, pos_label=1, average='binary', sample_weight=None)))\n",
        "  print(\"%-12s %f\" % ('Recall:', metrics.recall_score(target_test, predicted,labels=None, pos_label=1, average='binary', sample_weight=None)))\n",
        "  print(\"%-12s %f\" % ('F1 Score:', metrics.f1_score(target_test, predicted,labels=None, pos_label=1, average='binary', sample_weight=None)))\n",
        "\n",
        "import matplotlib.pyplot as plt\n",
        "from sklearn.metrics import confusion_matrix\n",
        "import itertools\n",
        "\n",
        "# Helper function that allows you to draw nicely formatted confusion matrices\n",
        "def draw_confusion_matrix(y, yhat, classes):\n",
        "    '''\n",
        "        Draws a confusion matrix for the given target and predictions\n",
        "        Adapted from scikit-learn and discussion example.\n",
        "    '''\n",
        "    plt.cla()\n",
        "    plt.clf()\n",
        "    matrix = confusion_matrix(y, yhat)\n",
        "    plt.imshow(matrix, interpolation='nearest', cmap=plt.cm.Blues)\n",
        "    plt.title(\"Confusion Matrix\")\n",
        "    plt.colorbar()\n",
        "    num_classes = len(classes)\n",
        "    plt.xticks(np.arange(num_classes), classes, rotation=90)\n",
        "    plt.yticks(np.arange(num_classes), classes)\n",
        "\n",
        "    fmt = 'd'\n",
        "    thresh = matrix.max() / 2.\n",
        "    for i, j in itertools.product(range(matrix.shape[0]), range(matrix.shape[1])):\n",
        "        plt.text(j, i, format(matrix[i, j], fmt),\n",
        "                 horizontalalignment=\"center\",\n",
        "                 color=\"white\" if matrix[i, j] > thresh else \"black\")\n",
        "\n",
        "    plt.ylabel('True label')\n",
        "    plt.xlabel('Predicted label')\n",
        "    plt.tight_layout()\n",
        "    plt.show()"
      ]
    },
    {
      "cell_type": "code",
      "execution_count": 18,
      "metadata": {
        "colab": {
          "base_uri": "https://localhost:8080/",
          "height": 206
        },
        "execution": {
          "iopub.execute_input": "2023-08-12T06:44:39.115549Z",
          "iopub.status.busy": "2023-08-12T06:44:39.114691Z",
          "iopub.status.idle": "2023-08-12T06:44:39.263965Z",
          "shell.execute_reply": "2023-08-12T06:44:39.262992Z",
          "shell.execute_reply.started": "2023-08-12T06:44:39.115517Z"
        },
        "id": "6yegfMrtE2yk",
        "outputId": "75e2d941-0413-49eb-8e1b-48dd6a8f6f8d",
        "trusted": true
      },
      "outputs": [
        {
          "data": {
            "text/html": [
              "<div>\n",
              "<style scoped>\n",
              "    .dataframe tbody tr th:only-of-type {\n",
              "        vertical-align: middle;\n",
              "    }\n",
              "\n",
              "    .dataframe tbody tr th {\n",
              "        vertical-align: top;\n",
              "    }\n",
              "\n",
              "    .dataframe thead th {\n",
              "        text-align: right;\n",
              "    }\n",
              "</style>\n",
              "<table border=\"1\" class=\"dataframe\">\n",
              "  <thead>\n",
              "    <tr style=\"text-align: right;\">\n",
              "      <th></th>\n",
              "      <th>is_sarcastic</th>\n",
              "      <th>headline</th>\n",
              "    </tr>\n",
              "  </thead>\n",
              "  <tbody>\n",
              "    <tr>\n",
              "      <th>0</th>\n",
              "      <td>1</td>\n",
              "      <td>thirtysomething scientists unveil doomsday clo...</td>\n",
              "    </tr>\n",
              "    <tr>\n",
              "      <th>1</th>\n",
              "      <td>0</td>\n",
              "      <td>dem rep totally nails why congress is falling ...</td>\n",
              "    </tr>\n",
              "    <tr>\n",
              "      <th>2</th>\n",
              "      <td>1</td>\n",
              "      <td>inclement weather prevents liar from getting t...</td>\n",
              "    </tr>\n",
              "    <tr>\n",
              "      <th>3</th>\n",
              "      <td>1</td>\n",
              "      <td>mother comes pretty close to using word stream...</td>\n",
              "    </tr>\n",
              "    <tr>\n",
              "      <th>4</th>\n",
              "      <td>0</td>\n",
              "      <td>my white inheritance</td>\n",
              "    </tr>\n",
              "  </tbody>\n",
              "</table>\n",
              "</div>"
            ],
            "text/plain": [
              "   is_sarcastic                                           headline\n",
              "0             1  thirtysomething scientists unveil doomsday clo...\n",
              "1             0  dem rep totally nails why congress is falling ...\n",
              "2             1  inclement weather prevents liar from getting t...\n",
              "3             1  mother comes pretty close to using word stream...\n",
              "4             0                               my white inheritance"
            ]
          },
          "execution_count": 18,
          "metadata": {},
          "output_type": "execute_result"
        }
      ],
      "source": [
        "# loading in the dataset\n",
        "address = \"clean_data.csv\"\n",
        "json_df = pd.read_csv(address)\n",
        "df = pd.DataFrame(json_df)\n",
        "\n",
        "df.head()"
      ]
    },
    {
      "cell_type": "code",
      "execution_count": 19,
      "metadata": {
        "colab": {
          "base_uri": "https://localhost:8080/"
        },
        "execution": {
          "iopub.execute_input": "2023-08-12T06:44:39.266226Z",
          "iopub.status.busy": "2023-08-12T06:44:39.265929Z",
          "iopub.status.idle": "2023-08-12T06:44:39.280705Z",
          "shell.execute_reply": "2023-08-12T06:44:39.279821Z",
          "shell.execute_reply.started": "2023-08-12T06:44:39.266201Z"
        },
        "id": "tUJmIB8QE2yk",
        "outputId": "fc985d28-dd97-42f3-bebe-fc3ccee7be03",
        "trusted": true
      },
      "outputs": [
        {
          "name": "stdout",
          "output_type": "stream",
          "text": [
            "<class 'pandas.core.series.Series'>\n",
            "RangeIndex: 24415 entries, 0 to 24414\n",
            "Series name: headline\n",
            "Non-Null Count  Dtype \n",
            "--------------  ----- \n",
            "24415 non-null  object\n",
            "dtypes: object(1)\n",
            "memory usage: 190.9+ KB\n"
          ]
        }
      ],
      "source": [
        "# splitting the dataset\n",
        "data_unlabeled = df['headline']\n",
        "# data_unlabeled.head()\n",
        "data_labels = df['is_sarcastic']\n",
        "# data_labels.head()\n",
        "len(data_unlabeled)\n",
        "\n",
        "data_unlabeled.info()"
      ]
    },
    {
      "cell_type": "code",
      "execution_count": 21,
      "metadata": {
        "colab": {
          "base_uri": "https://localhost:8080/",
          "height": 723
        },
        "execution": {
          "iopub.execute_input": "2023-08-12T06:44:39.282213Z",
          "iopub.status.busy": "2023-08-12T06:44:39.281869Z",
          "iopub.status.idle": "2023-08-12T06:44:39.656454Z",
          "shell.execute_reply": "2023-08-12T06:44:39.655402Z",
          "shell.execute_reply.started": "2023-08-12T06:44:39.282185Z"
        },
        "id": "zidTaa6cE2yl",
        "outputId": "28291959-6341-41c8-843c-c0d64a8394e0",
        "trusted": true
      },
      "outputs": [
        {
          "data": {
            "image/png": "[encoded data removed]",
            "text/plain": [
              "<Figure size 1200x800 with 1 Axes>"
            ]
          },
          "metadata": {},
          "output_type": "display_data"
        }
      ],
      "source": [
        "# getting the top 10 most used words\n",
        "import collections\n",
        "\n",
        "words = []\n",
        "for text in df['headline']:\n",
        "    words.extend(text.split())\n",
        "word_count = collections.Counter(words)\n",
        "top_words = dict(word_count.most_common(10))\n",
        "plt.style.use('dark_background')\n",
        "plt.figure(figsize = (12, 8))\n",
        "plt.bar(range(len(top_words)), list(top_words.values()), align='center')\n",
        "plt.xticks(range(len(top_words)), list(top_words.keys()))\n",
        "plt.grid(alpha = 0.5)\n",
        "plt.title('Top 10 most used words', fontsize = 18)\n",
        "plt.xlabel('Words')\n",
        "plt.ylabel('Frequency')\n",
        "\n",
        "plt.show()"
      ]
    },
    {
      "cell_type": "code",
      "execution_count": 30,
      "metadata": {
        "colab": {
          "base_uri": "https://localhost:8080/",
          "height": 448
        },
        "execution": {
          "iopub.execute_input": "2023-08-12T06:44:39.658208Z",
          "iopub.status.busy": "2023-08-12T06:44:39.657883Z",
          "iopub.status.idle": "2023-08-12T06:44:39.935994Z",
          "shell.execute_reply": "2023-08-12T06:44:39.935054Z",
          "shell.execute_reply.started": "2023-08-12T06:44:39.65818Z"
        },
        "id": "njRLCvHuE2yl",
        "outputId": "ad476355-c95f-402f-c8b5-4219d72e47fd",
        "trusted": true
      },
      "outputs": [
        {
          "data": {
            "text/plain": [
              "<Axes: >"
            ]
          },
          "execution_count": 30,
          "metadata": {},
          "output_type": "execute_result"
        },
        {
          "data": {
            "image/png": "[encoded data removed]",
            "text/plain": [
              "<Figure size 640x480 with 1 Axes>"
            ]
          },
          "metadata": {},
          "output_type": "display_data"
        }
      ],
      "source": [
        "# to show labels\n",
        "data_labels.hist() "
      ]
    },
    {
      "cell_type": "markdown",
      "metadata": {
        "id": "_8a7agJdE2yn"
      },
      "source": [
        "time for data analysis\n",
        "(inspiration taken from Sarcasm detection with AutoKeras project by MARCOS GOIS)"
      ]
    },
    {
      "cell_type": "code",
      "execution_count": 33,
      "metadata": {
        "colab": {
          "base_uri": "https://localhost:8080/"
        },
        "execution": {
          "iopub.execute_input": "2023-08-12T06:44:41.074529Z",
          "iopub.status.busy": "2023-08-12T06:44:41.073528Z",
          "iopub.status.idle": "2023-08-12T06:44:42.760532Z",
          "shell.execute_reply": "2023-08-12T06:44:42.759429Z",
          "shell.execute_reply.started": "2023-08-12T06:44:41.074494Z"
        },
        "id": "k2XOc19nE2yo",
        "outputId": "f0ddbef4-14a2-4bf5-9c4d-2f1c904f0a2d",
        "trusted": true
      },
      "outputs": [
        {
          "data": {
            "text/plain": [
              "(24415, 25184)"
            ]
          },
          "execution_count": 33,
          "metadata": {},
          "output_type": "execute_result"
        }
      ],
      "source": [
        "# vectorizing the data\n",
        "from sklearn.feature_extraction.text import TfidfVectorizer\n",
        "\n",
        "n=1\n",
        "ngram_range=(n, n)\n",
        "vectorizer = TfidfVectorizer(ngram_range=ngram_range)\n",
        "X = vectorizer.fit_transform(data_unlabeled)\n",
        "tfidf_matrix = pd.DataFrame(X.toarray(), columns = vectorizer.get_feature_names_out())\n",
        "X.shape"
      ]
    },
    {
      "cell_type": "code",
      "execution_count": 34,
      "metadata": {
        "colab": {
          "base_uri": "https://localhost:8080/"
        },
        "execution": {
          "iopub.execute_input": "2023-08-12T06:44:42.762047Z",
          "iopub.status.busy": "2023-08-12T06:44:42.761713Z",
          "iopub.status.idle": "2023-08-12T06:44:42.772191Z",
          "shell.execute_reply": "2023-08-12T06:44:42.770988Z",
          "shell.execute_reply.started": "2023-08-12T06:44:42.762018Z"
        },
        "id": "cp_1n1H_E2yo",
        "outputId": "bf9f2f3b-d47b-454f-f4f7-32d3d4a4190d",
        "trusted": true
      },
      "outputs": [
        {
          "name": "stdout",
          "output_type": "stream",
          "text": [
            "  (0, 13124)\t0.3448634810977658\n",
            "  (0, 9833)\t0.318252616180258\n",
            "  (0, 15458)\t0.11608992114236018\n",
            "  (0, 4107)\t0.37562498247953385\n",
            "  (0, 6594)\t0.42131894187604646\n",
            "  (0, 23711)\t0.38246610725576974\n",
            "  (0, 19613)\t0.2966391518990861\n",
            "  (0, 22528)\t0.4619834347935221\n",
            "  (1, 7442)\t0.30944519465702613\n",
            "  (1, 17820)\t0.31328839808947617\n",
            "  (1, 9098)\t0.29448975296848\n",
            "  (1, 15553)\t0.12982110638686206\n",
            "  (1, 20179)\t0.284701894087479\n",
            "  (1, 7946)\t0.30944519465702613\n",
            "  (1, 11620)\t0.1447668314796453\n",
            "  (1, 4589)\t0.24381701642664247\n",
            "  (1, 24644)\t0.19008996352656746\n",
            "  (1, 14784)\t0.3278607943449977\n",
            "  (1, 22837)\t0.27770074881349543\n",
            "  (1, 18512)\t0.3027500269880094\n",
            "  (1, 5794)\t0.3645524206958585\n",
            "  (2, 24861)\t0.2810091710373384\n",
            "  (2, 22707)\t0.10782553114091693\n",
            "  (2, 9179)\t0.2802508402599679\n",
            "  (2, 8816)\t0.19731080510074275\n",
            "  :\t:\n",
            "  (24412, 84)\t0.40370087589212955\n",
            "  (24412, 17757)\t0.33876207574233214\n",
            "  (24412, 1799)\t0.3315411272403336\n",
            "  (24412, 24482)\t0.3007753128128753\n",
            "  (24412, 3127)\t0.34970539958348595\n",
            "  (24412, 20986)\t0.304851225245011\n",
            "  (24412, 22452)\t0.12901711774272687\n",
            "  (24412, 14539)\t0.26435667764681564\n",
            "  (24412, 22529)\t0.20502253016714014\n",
            "  (24412, 8816)\t0.1929576941305276\n",
            "  (24413, 15643)\t0.42158718756521096\n",
            "  (24413, 15988)\t0.37709461471851025\n",
            "  (24413, 9040)\t0.33260204187180953\n",
            "  (24413, 6004)\t0.3606737298937385\n",
            "  (24413, 17338)\t0.30684520588440395\n",
            "  (24413, 13585)\t0.3263591112016114\n",
            "  (24413, 20918)\t0.2973344642687536\n",
            "  (24413, 21018)\t0.3457812862755283\n",
            "  (24413, 3035)\t0.17526410276922713\n",
            "  (24414, 3996)\t0.5658999628749004\n",
            "  (24414, 8546)\t0.42083726668129173\n",
            "  (24414, 5387)\t0.41227313781181457\n",
            "  (24414, 21433)\t0.3986994032788884\n",
            "  (24414, 15226)\t0.29928276004426374\n",
            "  (24414, 22529)\t0.2900908516216126\n"
          ]
        }
      ],
      "source": [
        "# normalization\n",
        "from sklearn import preprocessing\n",
        "X = preprocessing.normalize(X)\n",
        "print(X)"
      ]
    },
    {
      "cell_type": "code",
      "execution_count": 35,
      "metadata": {
        "execution": {
          "iopub.execute_input": "2023-08-12T06:44:42.774945Z",
          "iopub.status.busy": "2023-08-12T06:44:42.773935Z",
          "iopub.status.idle": "2023-08-12T06:44:42.78667Z",
          "shell.execute_reply": "2023-08-12T06:44:42.78565Z",
          "shell.execute_reply.started": "2023-08-12T06:44:42.774902Z"
        },
        "id": "mWM5j2byE2yo",
        "trusted": true
      },
      "outputs": [],
      "source": [
        "# split the full dataset\n",
        "from sklearn.model_selection import train_test_split\n",
        "X_train, X_test, y_train, y_test = train_test_split(X, data_labels, train_size = 0.8, test_size=0.2, random_state=4)"
      ]
    },
    {
      "cell_type": "code",
      "execution_count": 36,
      "metadata": {
        "colab": {
          "base_uri": "https://localhost:8080/",
          "height": 630
        },
        "execution": {
          "iopub.execute_input": "2023-08-12T06:44:42.78886Z",
          "iopub.status.busy": "2023-08-12T06:44:42.787909Z",
          "iopub.status.idle": "2023-08-12T06:44:44.334081Z",
          "shell.execute_reply": "2023-08-12T06:44:44.333285Z",
          "shell.execute_reply.started": "2023-08-12T06:44:42.788811Z"
        },
        "id": "zLfPkgATE2yo",
        "outputId": "e26324de-713e-4bd2-c957-493203994245",
        "trusted": true
      },
      "outputs": [
        {
          "name": "stdout",
          "output_type": "stream",
          "text": [
            "Accuracy:    0.820193\n",
            "Precision:   0.814186\n",
            "Recall:      0.805771\n",
            "F1 Score:    0.809957\n",
            "\n",
            "\n",
            "Confusion Matrix: \n",
            "\n"
          ]
        },
        {
          "data": {
            "image/png": "[encoded data removed]",
            "text/plain": [
              "<Figure size 640x480 with 2 Axes>"
            ]
          },
          "metadata": {},
          "output_type": "display_data"
        }
      ],
      "source": [
        "# fitting the dataset to a logistic regression model\n",
        "from sklearn.linear_model import LogisticRegression\n",
        "\n",
        "log_reg = LogisticRegression(penalty=None)\n",
        "log_reg.fit(X_train, y_train)\n",
        "log_predicted = log_reg.predict(X_test)\n",
        "log_score = log_reg.predict_proba(X_test)[:,1]\n",
        "\n",
        "print_4_metrics(y_test, log_predicted)\n",
        "\n",
        "print(\"\\n\\nConfusion Matrix: \\n\")\n",
        "draw_confusion_matrix(y_test, log_predicted, ['Not Sarcastic', 'Sarcastic'])"
      ]
    },
    {
      "cell_type": "code",
      "execution_count": 39,
      "metadata": {
        "colab": {
          "base_uri": "https://localhost:8080/",
          "height": 1000
        },
        "execution": {
          "iopub.execute_input": "2023-08-12T06:44:44.335945Z",
          "iopub.status.busy": "2023-08-12T06:44:44.335106Z",
          "iopub.status.idle": "2023-08-12T06:48:55.414294Z",
          "shell.execute_reply": "2023-08-12T06:48:55.413222Z",
          "shell.execute_reply.started": "2023-08-12T06:44:44.335913Z"
        },
        "id": "cb5O3UX-E2yo",
        "outputId": "20a3c53a-dfd5-407d-b06a-e089bac53b1c",
        "trusted": true
      },
      "outputs": [
        {
          "name": "stderr",
          "output_type": "stream",
          "text": [
            "/var/folders/7m/96byd5t10cv56c0j69_vjtpw0000gn/T/ipykernel_8946/2834345856.py:9: RuntimeWarning: divide by zero encountered in double_scalars\n",
            "  log_model_kfold_train = LogisticRegression(C = 1/lambd)\n"
          ]
        },
        {
          "name": "stdout",
          "output_type": "stream",
          "text": [
            "For lambda= 0.0 , accuracy across folds is: 81.86%\n"
          ]
        },
        {
          "name": "stderr",
          "output_type": "stream",
          "text": [
            "/Users/bin/opt/anaconda3/lib/python3.8/site-packages/sklearn/linear_model/_logistic.py:458: ConvergenceWarning: lbfgs failed to converge (status=1):\n",
            "STOP: TOTAL NO. of ITERATIONS REACHED LIMIT.\n",
            "\n",
            "Increase the number of iterations (max_iter) or scale the data as shown in:\n",
            "    https://scikit-learn.org/stable/modules/preprocessing.html\n",
            "Please also refer to the documentation for alternative solver options:\n",
            "    https://scikit-learn.org/stable/modules/linear_model.html#logistic-regression\n",
            "  n_iter_i = _check_optimize_result(\n",
            "/Users/bin/opt/anaconda3/lib/python3.8/site-packages/sklearn/linear_model/_logistic.py:458: ConvergenceWarning: lbfgs failed to converge (status=1):\n",
            "STOP: TOTAL NO. of ITERATIONS REACHED LIMIT.\n",
            "\n",
            "Increase the number of iterations (max_iter) or scale the data as shown in:\n",
            "    https://scikit-learn.org/stable/modules/preprocessing.html\n",
            "Please also refer to the documentation for alternative solver options:\n",
            "    https://scikit-learn.org/stable/modules/linear_model.html#logistic-regression\n",
            "  n_iter_i = _check_optimize_result(\n",
            "/Users/bin/opt/anaconda3/lib/python3.8/site-packages/sklearn/linear_model/_logistic.py:458: ConvergenceWarning: lbfgs failed to converge (status=1):\n",
            "STOP: TOTAL NO. of ITERATIONS REACHED LIMIT.\n",
            "\n",
            "Increase the number of iterations (max_iter) or scale the data as shown in:\n",
            "    https://scikit-learn.org/stable/modules/preprocessing.html\n",
            "Please also refer to the documentation for alternative solver options:\n",
            "    https://scikit-learn.org/stable/modules/linear_model.html#logistic-regression\n",
            "  n_iter_i = _check_optimize_result(\n",
            "/Users/bin/opt/anaconda3/lib/python3.8/site-packages/sklearn/linear_model/_logistic.py:458: ConvergenceWarning: lbfgs failed to converge (status=1):\n",
            "STOP: TOTAL NO. of ITERATIONS REACHED LIMIT.\n",
            "\n",
            "Increase the number of iterations (max_iter) or scale the data as shown in:\n",
            "    https://scikit-learn.org/stable/modules/preprocessing.html\n",
            "Please also refer to the documentation for alternative solver options:\n",
            "    https://scikit-learn.org/stable/modules/linear_model.html#logistic-regression\n",
            "  n_iter_i = _check_optimize_result(\n",
            "/Users/bin/opt/anaconda3/lib/python3.8/site-packages/sklearn/linear_model/_logistic.py:458: ConvergenceWarning: lbfgs failed to converge (status=1):\n",
            "STOP: TOTAL NO. of ITERATIONS REACHED LIMIT.\n",
            "\n",
            "Increase the number of iterations (max_iter) or scale the data as shown in:\n",
            "    https://scikit-learn.org/stable/modules/preprocessing.html\n",
            "Please also refer to the documentation for alternative solver options:\n",
            "    https://scikit-learn.org/stable/modules/linear_model.html#logistic-regression\n",
            "  n_iter_i = _check_optimize_result(\n",
            "/Users/bin/opt/anaconda3/lib/python3.8/site-packages/sklearn/linear_model/_logistic.py:458: ConvergenceWarning: lbfgs failed to converge (status=1):\n",
            "STOP: TOTAL NO. of ITERATIONS REACHED LIMIT.\n",
            "\n",
            "Increase the number of iterations (max_iter) or scale the data as shown in:\n",
            "    https://scikit-learn.org/stable/modules/preprocessing.html\n",
            "Please also refer to the documentation for alternative solver options:\n",
            "    https://scikit-learn.org/stable/modules/linear_model.html#logistic-regression\n",
            "  n_iter_i = _check_optimize_result(\n",
            "/Users/bin/opt/anaconda3/lib/python3.8/site-packages/sklearn/linear_model/_logistic.py:458: ConvergenceWarning: lbfgs failed to converge (status=1):\n",
            "STOP: TOTAL NO. of ITERATIONS REACHED LIMIT.\n",
            "\n",
            "Increase the number of iterations (max_iter) or scale the data as shown in:\n",
            "    https://scikit-learn.org/stable/modules/preprocessing.html\n",
            "Please also refer to the documentation for alternative solver options:\n",
            "    https://scikit-learn.org/stable/modules/linear_model.html#logistic-regression\n",
            "  n_iter_i = _check_optimize_result(\n",
            "/Users/bin/opt/anaconda3/lib/python3.8/site-packages/sklearn/linear_model/_logistic.py:458: ConvergenceWarning: lbfgs failed to converge (status=1):\n",
            "STOP: TOTAL NO. of ITERATIONS REACHED LIMIT.\n",
            "\n",
            "Increase the number of iterations (max_iter) or scale the data as shown in:\n",
            "    https://scikit-learn.org/stable/modules/preprocessing.html\n",
            "Please also refer to the documentation for alternative solver options:\n",
            "    https://scikit-learn.org/stable/modules/linear_model.html#logistic-regression\n",
            "  n_iter_i = _check_optimize_result(\n",
            "/Users/bin/opt/anaconda3/lib/python3.8/site-packages/sklearn/linear_model/_logistic.py:458: ConvergenceWarning: lbfgs failed to converge (status=1):\n",
            "STOP: TOTAL NO. of ITERATIONS REACHED LIMIT.\n",
            "\n",
            "Increase the number of iterations (max_iter) or scale the data as shown in:\n",
            "    https://scikit-learn.org/stable/modules/preprocessing.html\n",
            "Please also refer to the documentation for alternative solver options:\n",
            "    https://scikit-learn.org/stable/modules/linear_model.html#logistic-regression\n",
            "  n_iter_i = _check_optimize_result(\n"
          ]
        }
      ],
      "source": [
        "# testing lambda values to optimize logistic regression model\n",
        "from sklearn import model_selection\n",
        "\n",
        "lambda_list = np.linspace(start = 0, stop = 1, num = 20)\n",
        "accuracy_list = []\n",
        "for lambd in lambda_list:\n",
        "    kfold = model_selection.KFold(n_splits=10, random_state=42, shuffle=True)\n",
        "    # Train the model\n",
        "    log_model_kfold_train = LogisticRegression(C = 1/lambd)\n",
        "    log_results_kfold_train = model_selection.cross_val_score(log_model_kfold_train, X_train, y_train, cv=kfold)\n",
        "    # Calculate accuracy\n",
        "    accuracy = log_results_kfold_train.mean()\n",
        "    # Append lambda and accuracy to the lists\n",
        "    accuracy_list.append(accuracy)\n",
        "    print(\"For lambda=\",lambd, \", accuracy across folds is: %.2f%%\" % (log_results_kfold_train.mean()*100.0))\n",
        "\n",
        "# Plot the scatter plot\n",
        "plt.figure()\n",
        "plt.scatter(lambda_list, accuracy_list)\n",
        "plt.plot(lambda_list, accuracy_list)\n",
        "plt.xlabel('Lambda (Regularization Parameter)')\n",
        "plt.ylabel('Accuracy')\n",
        "plt.title('Accuracy vs. Lambda')\n",
        "plt.show()\n",
        "\n",
        "# optimal lambda= 0.2631578947368421"
      ]
    },
    {
      "cell_type": "code",
      "execution_count": 21,
      "metadata": {
        "colab": {
          "base_uri": "https://localhost:8080/",
          "height": 630
        },
        "execution": {
          "iopub.execute_input": "2023-08-12T06:48:55.415711Z",
          "iopub.status.busy": "2023-08-12T06:48:55.415413Z",
          "iopub.status.idle": "2023-08-12T06:48:57.579896Z",
          "shell.execute_reply": "2023-08-12T06:48:57.578795Z",
          "shell.execute_reply.started": "2023-08-12T06:48:55.415677Z"
        },
        "id": "iR5xV2PGE2yo",
        "outputId": "dd175077-7f33-40f4-d340-95175e1add4e",
        "trusted": true
      },
      "outputs": [
        {
          "name": "stdout",
          "output_type": "stream",
          "text": [
            "Accuracy:    0.848008\n",
            "Precision:   0.835471\n",
            "Recall:      0.844132\n",
            "F1 Score:    0.839779\n",
            "\n",
            "\n",
            "Confusion Matrix: \n",
            "\n"
          ]
        },
        {
          "data": {
            "image/png": "[encoded data removed]",
            "text/plain": [
              "<Figure size 640x480 with 2 Axes>"
            ]
          },
          "metadata": {},
          "output_type": "display_data"
        }
      ],
      "source": [
        "# implementing the optimized logistic regression model\n",
        "lambd = 0.2631578947368421 # this is the optimal lambda\n",
        "\n",
        "log_reg = LogisticRegression(penalty='l2', C=1/lambd)\n",
        "log_reg.fit(X_train, y_train)\n",
        "log_predicted = log_reg.predict(X_test)\n",
        "log_score = log_reg.predict_proba(X_test)[:,1]\n",
        "\n",
        "print_4_metrics(y_test, log_predicted)\n",
        "\n",
        "print(\"\\n\\nConfusion Matrix: \\n\")\n",
        "draw_confusion_matrix(y_test, log_predicted, ['Not Sarcastic', 'Sarcastic'])"
      ]
    },
    {
      "cell_type": "markdown",
      "metadata": {
        "id": "pkkHpUFQE2yo"
      },
      "source": [
        "[link text](https://)With an accuracy rate of 81%, this model is the most accurate so far."
      ]
    },
    {
      "cell_type": "code",
      "execution_count": 22,
      "metadata": {
        "colab": {
          "base_uri": "https://localhost:8080/"
        },
        "execution": {
          "iopub.execute_input": "2023-08-12T06:48:57.582094Z",
          "iopub.status.busy": "2023-08-12T06:48:57.581326Z",
          "iopub.status.idle": "2023-08-12T06:48:57.589974Z",
          "shell.execute_reply": "2023-08-12T06:48:57.588728Z",
          "shell.execute_reply.started": "2023-08-12T06:48:57.582053Z"
        },
        "id": "-Iv0_FI2E2yo",
        "outputId": "8f0b2ee2-6a6c-484c-ead2-cbbf5c440986",
        "trusted": true
      },
      "outputs": [
        {
          "name": "stdout",
          "output_type": "stream",
          "text": [
            "label\tP(Y=1)\tCorrect?\n",
            "1   0.8240664841022808   True\n",
            "0   0.04237846970225186   True\n",
            "0   0.06180076406820498   True\n",
            "0   0.01474099141569774   True\n",
            "1   0.652101040683463   True\n",
            "0   0.17462154730874543   True\n",
            "1   0.757655413635964   True\n",
            "1   0.4268052668976924   False\n",
            "1   0.9497419545564904   True\n",
            "0   0.07786996144108212   True\n"
          ]
        }
      ],
      "source": [
        "# printing predicted vs actual labels\n",
        "print(\"label\\tP(Y=1)\\tCorrect?\")\n",
        "for i in range(0,10):\n",
        "    print(y_test.iloc[i], \" \", log_score[i], \" \", str((y_test.iloc[i] == 1 and log_score[i] >= 0.5) or (y_test.iloc[i] == 0 and log_score[i] < 0.5)))"
      ]
    },
    {
      "cell_type": "code",
      "execution_count": 23,
      "metadata": {
        "colab": {
          "base_uri": "https://localhost:8080/"
        },
        "execution": {
          "iopub.execute_input": "2023-08-12T06:48:57.592087Z",
          "iopub.status.busy": "2023-08-12T06:48:57.591669Z",
          "iopub.status.idle": "2023-08-12T06:48:57.605773Z",
          "shell.execute_reply": "2023-08-12T06:48:57.605006Z",
          "shell.execute_reply.started": "2023-08-12T06:48:57.592049Z"
        },
        "id": "Xzbwd9GpE2yp",
        "outputId": "c932ace9-f478-4e54-fa80-33a0a59390ae",
        "trusted": true
      },
      "outputs": [
        {
          "data": {
            "text/plain": [
              "[0.8194791493777913,\n",
              " 0.838915336496363,\n",
              " 0.8434577369267485,\n",
              " 0.8450738389983613,\n",
              " 0.8450738389983613,\n",
              " 0.8450302281082298,\n",
              " 0.8447245703297144,\n",
              " 0.8443751299646495,\n",
              " 0.843982116864213,\n",
              " 0.8441131975405443,\n",
              " 0.8438074825298895,\n",
              " 0.8434144121973135,\n",
              " 0.8432396252439519,\n",
              " 0.8421914949225553,\n",
              " 0.8412305482266621,\n",
              " 0.8412306436135608,\n",
              " 0.8408813367901544,\n",
              " 0.8406629771014211,\n",
              " 0.840269925846225,\n",
              " 0.8394837088715539]"
            ]
          },
          "execution_count": 23,
          "metadata": {},
          "output_type": "execute_result"
        }
      ],
      "source": [
        "# printing accuracy rates\n",
        "accuracy_list"
      ]
    },
    {
      "cell_type": "markdown",
      "metadata": {
        "id": "ThEwv_j1E2yp"
      },
      "source": [
        "SVM Model"
      ]
    },
    {
      "cell_type": "markdown",
      "metadata": {
        "id": "V4OsPyNaE2yp"
      },
      "source": [
        "RNN Model"
      ]
    },
    {
      "cell_type": "code",
      "execution_count": 24,
      "metadata": {
        "colab": {
          "base_uri": "https://localhost:8080/",
          "height": 424
        },
        "execution": {
          "iopub.execute_input": "2023-08-12T06:48:57.607571Z",
          "iopub.status.busy": "2023-08-12T06:48:57.607094Z",
          "iopub.status.idle": "2023-08-12T06:48:57.628488Z",
          "shell.execute_reply": "2023-08-12T06:48:57.627493Z",
          "shell.execute_reply.started": "2023-08-12T06:48:57.607534Z"
        },
        "id": "u7b8zI8RE2yp",
        "outputId": "4eb13182-8735-4c0d-daa4-e50c40372805",
        "trusted": true
      },
      "outputs": [
        {
          "data": {
            "text/html": [
              "\n",
              "  <div id=\"df-62292d9c-025d-4037-b1fc-7459afe3b696\" class=\"colab-df-container\">\n",
              "    <div>\n",
              "<style scoped>\n",
              "    .dataframe tbody tr th:only-of-type {\n",
              "        vertical-align: middle;\n",
              "    }\n",
              "\n",
              "    .dataframe tbody tr th {\n",
              "        vertical-align: top;\n",
              "    }\n",
              "\n",
              "    .dataframe thead th {\n",
              "        text-align: right;\n",
              "    }\n",
              "</style>\n",
              "<table border=\"1\" class=\"dataframe\">\n",
              "  <thead>\n",
              "    <tr style=\"text-align: right;\">\n",
              "      <th></th>\n",
              "      <th>is_sarcastic</th>\n",
              "      <th>headline</th>\n",
              "      <th>article_link</th>\n",
              "    </tr>\n",
              "  </thead>\n",
              "  <tbody>\n",
              "    <tr>\n",
              "      <th>20058</th>\n",
              "      <td>1</td>\n",
              "      <td>noisy upstairs neighbors wake man at 3 p.m.</td>\n",
              "      <td>https://local.theonion.com/noisy-upstairs-neig...</td>\n",
              "    </tr>\n",
              "    <tr>\n",
              "      <th>7324</th>\n",
              "      <td>0</td>\n",
              "      <td>elementary school teacher accused in rape of f...</td>\n",
              "      <td>https://www.huffingtonpost.com/entry/darcy-smi...</td>\n",
              "    </tr>\n",
              "    <tr>\n",
              "      <th>8807</th>\n",
              "      <td>1</td>\n",
              "      <td>study finds humans crave sweet foods because t...</td>\n",
              "      <td>https://www.theonion.com/study-finds-humans-cr...</td>\n",
              "    </tr>\n",
              "    <tr>\n",
              "      <th>15944</th>\n",
              "      <td>0</td>\n",
              "      <td>you don't need god to have a life purpose: rabbi</td>\n",
              "      <td>https://www.huffingtonpost.com/entry/rabbi-lev...</td>\n",
              "    </tr>\n",
              "    <tr>\n",
              "      <th>20380</th>\n",
              "      <td>0</td>\n",
              "      <td>amazon offering 'more deals than black friday'...</td>\n",
              "      <td>https://www.huffingtonpost.com/entry/amazon-pr...</td>\n",
              "    </tr>\n",
              "    <tr>\n",
              "      <th>...</th>\n",
              "      <td>...</td>\n",
              "      <td>...</td>\n",
              "      <td>...</td>\n",
              "    </tr>\n",
              "    <tr>\n",
              "      <th>5451</th>\n",
              "      <td>1</td>\n",
              "      <td>heaven prepares for huge rush of college kids ...</td>\n",
              "      <td>https://www.theonion.com/heaven-prepares-for-h...</td>\n",
              "    </tr>\n",
              "    <tr>\n",
              "      <th>11965</th>\n",
              "      <td>1</td>\n",
              "      <td>lottery loser angry at lottery winner</td>\n",
              "      <td>https://www.theonion.com/lottery-loser-angry-a...</td>\n",
              "    </tr>\n",
              "    <tr>\n",
              "      <th>3559</th>\n",
              "      <td>1</td>\n",
              "      <td>gray wolves sighted in capitol building for fi...</td>\n",
              "      <td>https://www.theonion.com/gray-wolves-sighted-i...</td>\n",
              "    </tr>\n",
              "    <tr>\n",
              "      <th>4698</th>\n",
              "      <td>0</td>\n",
              "      <td>busy philipps consoles michelle williams on 10...</td>\n",
              "      <td>https://www.huffingtonpost.com/entry/busy-phil...</td>\n",
              "    </tr>\n",
              "    <tr>\n",
              "      <th>19474</th>\n",
              "      <td>0</td>\n",
              "      <td>trump asks national prayer breakfast to pray f...</td>\n",
              "      <td>https://www.huffingtonpost.com/entry/donald-tr...</td>\n",
              "    </tr>\n",
              "  </tbody>\n",
              "</table>\n",
              "<p>7126 rows × 3 columns</p>\n",
              "</div>\n",
              "    <div class=\"colab-df-buttons\">\n",
              "\n",
              "  <div class=\"colab-df-container\">\n",
              "    <button class=\"colab-df-convert\" onclick=\"convertToInteractive('df-62292d9c-025d-4037-b1fc-7459afe3b696')\"\n",
              "            title=\"Convert this dataframe to an interactive table.\"\n",
              "            style=\"display:none;\">\n",
              "\n",
              "  <svg xmlns=\"http://www.w3.org/2000/svg\" height=\"24px\" viewBox=\"0 -960 960 960\">\n",
              "    <path d=\"M120-120v-720h720v720H120Zm60-500h600v-160H180v160Zm220 220h160v-160H400v160Zm0 220h160v-160H400v160ZM180-400h160v-160H180v160Zm440 0h160v-160H620v160ZM180-180h160v-160H180v160Zm440 0h160v-160H620v160Z\"/>\n",
              "  </svg>\n",
              "    </button>\n",
              "\n",
              "  <style>\n",
              "    .colab-df-container {\n",
              "      display:flex;\n",
              "      gap: 12px;\n",
              "    }\n",
              "\n",
              "    .colab-df-convert {\n",
              "      background-color: #E8F0FE;\n",
              "      border: none;\n",
              "      border-radius: 50%;\n",
              "      cursor: pointer;\n",
              "      display: none;\n",
              "      fill: #1967D2;\n",
              "      height: 32px;\n",
              "      padding: 0 0 0 0;\n",
              "      width: 32px;\n",
              "    }\n",
              "\n",
              "    .colab-df-convert:hover {\n",
              "      background-color: #E2EBFA;\n",
              "      box-shadow: 0px 1px 2px rgba(60, 64, 67, 0.3), 0px 1px 3px 1px rgba(60, 64, 67, 0.15);\n",
              "      fill: #174EA6;\n",
              "    }\n",
              "\n",
              "    .colab-df-buttons div {\n",
              "      margin-bottom: 4px;\n",
              "    }\n",
              "\n",
              "    [theme=dark] .colab-df-convert {\n",
              "      background-color: #3B4455;\n",
              "      fill: #D2E3FC;\n",
              "    }\n",
              "\n",
              "    [theme=dark] .colab-df-convert:hover {\n",
              "      background-color: #434B5C;\n",
              "      box-shadow: 0px 1px 3px 1px rgba(0, 0, 0, 0.15);\n",
              "      filter: drop-shadow(0px 1px 2px rgba(0, 0, 0, 0.3));\n",
              "      fill: #FFFFFF;\n",
              "    }\n",
              "  </style>\n",
              "\n",
              "    <script>\n",
              "      const buttonEl =\n",
              "        document.querySelector('#df-62292d9c-025d-4037-b1fc-7459afe3b696 button.colab-df-convert');\n",
              "      buttonEl.style.display =\n",
              "        google.colab.kernel.accessAllowed ? 'block' : 'none';\n",
              "\n",
              "      async function convertToInteractive(key) {\n",
              "        const element = document.querySelector('#df-62292d9c-025d-4037-b1fc-7459afe3b696');\n",
              "        const dataTable =\n",
              "          await google.colab.kernel.invokeFunction('convertToInteractive',\n",
              "                                                    [key], {});\n",
              "        if (!dataTable) return;\n",
              "\n",
              "        const docLinkHtml = 'Like what you see? Visit the ' +\n",
              "          '<a target=\"_blank\" href=https://colab.research.google.com/notebooks/data_table.ipynb>data table notebook</a>'\n",
              "          + ' to learn more about interactive tables.';\n",
              "        element.innerHTML = '';\n",
              "        dataTable['output_type'] = 'display_data';\n",
              "        await google.colab.output.renderOutput(dataTable, element);\n",
              "        const docLink = document.createElement('div');\n",
              "        docLink.innerHTML = docLinkHtml;\n",
              "        element.appendChild(docLink);\n",
              "      }\n",
              "    </script>\n",
              "  </div>\n",
              "\n",
              "\n",
              "<div id=\"df-228a9c5e-a9e5-43d3-b40d-dc5b820a1bae\">\n",
              "  <button class=\"colab-df-quickchart\" onclick=\"quickchart('df-228a9c5e-a9e5-43d3-b40d-dc5b820a1bae')\"\n",
              "            title=\"Suggest charts\"\n",
              "            style=\"display:none;\">\n",
              "\n",
              "<svg xmlns=\"http://www.w3.org/2000/svg\" height=\"24px\"viewBox=\"0 0 24 24\"\n",
              "     width=\"24px\">\n",
              "    <g>\n",
              "        <path d=\"M19 3H5c-1.1 0-2 .9-2 2v14c0 1.1.9 2 2 2h14c1.1 0 2-.9 2-2V5c0-1.1-.9-2-2-2zM9 17H7v-7h2v7zm4 0h-2V7h2v10zm4 0h-2v-4h2v4z\"/>\n",
              "    </g>\n",
              "</svg>\n",
              "  </button>\n",
              "\n",
              "<style>\n",
              "  .colab-df-quickchart {\n",
              "      --bg-color: #E8F0FE;\n",
              "      --fill-color: #1967D2;\n",
              "      --hover-bg-color: #E2EBFA;\n",
              "      --hover-fill-color: #174EA6;\n",
              "      --disabled-fill-color: #AAA;\n",
              "      --disabled-bg-color: #DDD;\n",
              "  }\n",
              "\n",
              "  [theme=dark] .colab-df-quickchart {\n",
              "      --bg-color: #3B4455;\n",
              "      --fill-color: #D2E3FC;\n",
              "      --hover-bg-color: #434B5C;\n",
              "      --hover-fill-color: #FFFFFF;\n",
              "      --disabled-bg-color: #3B4455;\n",
              "      --disabled-fill-color: #666;\n",
              "  }\n",
              "\n",
              "  .colab-df-quickchart {\n",
              "    background-color: var(--bg-color);\n",
              "    border: none;\n",
              "    border-radius: 50%;\n",
              "    cursor: pointer;\n",
              "    display: none;\n",
              "    fill: var(--fill-color);\n",
              "    height: 32px;\n",
              "    padding: 0;\n",
              "    width: 32px;\n",
              "  }\n",
              "\n",
              "  .colab-df-quickchart:hover {\n",
              "    background-color: var(--hover-bg-color);\n",
              "    box-shadow: 0 1px 2px rgba(60, 64, 67, 0.3), 0 1px 3px 1px rgba(60, 64, 67, 0.15);\n",
              "    fill: var(--button-hover-fill-color);\n",
              "  }\n",
              "\n",
              "  .colab-df-quickchart-complete:disabled,\n",
              "  .colab-df-quickchart-complete:disabled:hover {\n",
              "    background-color: var(--disabled-bg-color);\n",
              "    fill: var(--disabled-fill-color);\n",
              "    box-shadow: none;\n",
              "  }\n",
              "\n",
              "  .colab-df-spinner {\n",
              "    border: 2px solid var(--fill-color);\n",
              "    border-color: transparent;\n",
              "    border-bottom-color: var(--fill-color);\n",
              "    animation:\n",
              "      spin 1s steps(1) infinite;\n",
              "  }\n",
              "\n",
              "  @keyframes spin {\n",
              "    0% {\n",
              "      border-color: transparent;\n",
              "      border-bottom-color: var(--fill-color);\n",
              "      border-left-color: var(--fill-color);\n",
              "    }\n",
              "    20% {\n",
              "      border-color: transparent;\n",
              "      border-left-color: var(--fill-color);\n",
              "      border-top-color: var(--fill-color);\n",
              "    }\n",
              "    30% {\n",
              "      border-color: transparent;\n",
              "      border-left-color: var(--fill-color);\n",
              "      border-top-color: var(--fill-color);\n",
              "      border-right-color: var(--fill-color);\n",
              "    }\n",
              "    40% {\n",
              "      border-color: transparent;\n",
              "      border-right-color: var(--fill-color);\n",
              "      border-top-color: var(--fill-color);\n",
              "    }\n",
              "    60% {\n",
              "      border-color: transparent;\n",
              "      border-right-color: var(--fill-color);\n",
              "    }\n",
              "    80% {\n",
              "      border-color: transparent;\n",
              "      border-right-color: var(--fill-color);\n",
              "      border-bottom-color: var(--fill-color);\n",
              "    }\n",
              "    90% {\n",
              "      border-color: transparent;\n",
              "      border-bottom-color: var(--fill-color);\n",
              "    }\n",
              "  }\n",
              "</style>\n",
              "\n",
              "  <script>\n",
              "    async function quickchart(key) {\n",
              "      const quickchartButtonEl =\n",
              "        document.querySelector('#' + key + ' button');\n",
              "      quickchartButtonEl.disabled = true;  // To prevent multiple clicks.\n",
              "      quickchartButtonEl.classList.add('colab-df-spinner');\n",
              "      try {\n",
              "        const charts = await google.colab.kernel.invokeFunction(\n",
              "            'suggestCharts', [key], {});\n",
              "      } catch (error) {\n",
              "        console.error('Error during call to suggestCharts:', error);\n",
              "      }\n",
              "      quickchartButtonEl.classList.remove('colab-df-spinner');\n",
              "      quickchartButtonEl.classList.add('colab-df-quickchart-complete');\n",
              "    }\n",
              "    (() => {\n",
              "      let quickchartButtonEl =\n",
              "        document.querySelector('#df-228a9c5e-a9e5-43d3-b40d-dc5b820a1bae button');\n",
              "      quickchartButtonEl.style.display =\n",
              "        google.colab.kernel.accessAllowed ? 'block' : 'none';\n",
              "    })();\n",
              "  </script>\n",
              "</div>\n",
              "    </div>\n",
              "  </div>\n"
            ],
            "text/plain": [
              "       is_sarcastic                                           headline  \\\n",
              "20058             1        noisy upstairs neighbors wake man at 3 p.m.   \n",
              "7324              0  elementary school teacher accused in rape of f...   \n",
              "8807              1  study finds humans crave sweet foods because t...   \n",
              "15944             0   you don't need god to have a life purpose: rabbi   \n",
              "20380             0  amazon offering 'more deals than black friday'...   \n",
              "...             ...                                                ...   \n",
              "5451              1  heaven prepares for huge rush of college kids ...   \n",
              "11965             1              lottery loser angry at lottery winner   \n",
              "3559              1  gray wolves sighted in capitol building for fi...   \n",
              "4698              0  busy philipps consoles michelle williams on 10...   \n",
              "19474             0  trump asks national prayer breakfast to pray f...   \n",
              "\n",
              "                                            article_link  \n",
              "20058  https://local.theonion.com/noisy-upstairs-neig...  \n",
              "7324   https://www.huffingtonpost.com/entry/darcy-smi...  \n",
              "8807   https://www.theonion.com/study-finds-humans-cr...  \n",
              "15944  https://www.huffingtonpost.com/entry/rabbi-lev...  \n",
              "20380  https://www.huffingtonpost.com/entry/amazon-pr...  \n",
              "...                                                  ...  \n",
              "5451   https://www.theonion.com/heaven-prepares-for-h...  \n",
              "11965  https://www.theonion.com/lottery-loser-angry-a...  \n",
              "3559   https://www.theonion.com/gray-wolves-sighted-i...  \n",
              "4698   https://www.huffingtonpost.com/entry/busy-phil...  \n",
              "19474  https://www.huffingtonpost.com/entry/donald-tr...  \n",
              "\n",
              "[7126 rows x 3 columns]"
            ]
          },
          "execution_count": 24,
          "metadata": {},
          "output_type": "execute_result"
        }
      ],
      "source": [
        "# because the data is too much for the SVM and RNN models to run efficiently, I will split the data to 25% of it's original size\n",
        "data_shortened = df.sample(frac =.25)\n",
        "\n",
        "# checking if sample is 0.25 times data or not\n",
        "\n",
        "if (0.25*(len(df))== len(data_shortened)):\n",
        "    print( \"Cool\")\n",
        "    print(len(df), len(data_shortened))\n",
        "\n",
        "# display\n",
        "data_shortened"
      ]
    },
    {
      "cell_type": "markdown",
      "metadata": {
        "id": "k2xwvqrpE2yp"
      },
      "source": [
        "Time to implement the SVM Model!"
      ]
    },
    {
      "cell_type": "code",
      "execution_count": 25,
      "metadata": {
        "colab": {
          "base_uri": "https://localhost:8080/"
        },
        "execution": {
          "iopub.execute_input": "2023-08-12T06:48:57.630116Z",
          "iopub.status.busy": "2023-08-12T06:48:57.629801Z",
          "iopub.status.idle": "2023-08-12T06:48:57.722931Z",
          "shell.execute_reply": "2023-08-12T06:48:57.722043Z",
          "shell.execute_reply.started": "2023-08-12T06:48:57.630089Z"
        },
        "id": "LJnFf5jzE2yp",
        "outputId": "4e1036a9-687f-4bca-e602-c54005167fce",
        "trusted": true
      },
      "outputs": [
        {
          "data": {
            "text/plain": [
              "20058             noisy upstairs neighbors wake man at  pm\n",
              "7324     elementary school teacher accused in rape of f...\n",
              "8807     study finds humans crave sweet foods because t...\n",
              "15944       you dont need god to have a life purpose rabbi\n",
              "20380    amazon offering more deals than black friday i...\n",
              "                               ...                        \n",
              "5451     heaven prepares for huge rush of college kids ...\n",
              "11965                lottery loser angry at lottery winner\n",
              "3559     gray wolves sighted in capitol building for fi...\n",
              "4698     busy philipps consoles michelle williams on th...\n",
              "19474    trump asks national prayer breakfast to pray f...\n",
              "Name: headline, Length: 7126, dtype: object"
            ]
          },
          "execution_count": 25,
          "metadata": {},
          "output_type": "execute_result"
        }
      ],
      "source": [
        "# cleaning the shortened dataset\n",
        "data_unlabeled_shortened = data_shortened['headline']\n",
        "data_labels_shortened = data_shortened['is_sarcastic']\n",
        "\n",
        "data_shortened.drop_duplicates(subset=['headline'], inplace = True)\n",
        "data_shortened.duplicated().sum()\n",
        "\n",
        "data_clean_shortened = data_unlabeled_shortened.replace('[^ -~]+', '', regex=True) # clean data; get rid of weird characters\n",
        "data_clean_shortened = data_clean_shortened.str.replace('[^\\w\\s]','', regex=True) # remove punctuation\n",
        "data_clean_shortened = data_clean_shortened.replace('_', '', regex=True) # remove underscores\n",
        "data_clean_shortened = data_clean_shortened.replace('\\d+', '', regex=True) # remove numbers\n",
        "data_clean_shortened"
      ]
    },
    {
      "cell_type": "code",
      "execution_count": 26,
      "metadata": {
        "colab": {
          "base_uri": "https://localhost:8080/"
        },
        "execution": {
          "iopub.execute_input": "2023-08-12T06:48:57.72452Z",
          "iopub.status.busy": "2023-08-12T06:48:57.724227Z",
          "iopub.status.idle": "2023-08-12T06:48:57.923465Z",
          "shell.execute_reply": "2023-08-12T06:48:57.922342Z",
          "shell.execute_reply.started": "2023-08-12T06:48:57.724494Z"
        },
        "id": "QVGfFaaLE2yp",
        "outputId": "55c13caf-99b6-486c-bb99-419f754a84c9",
        "trusted": true
      },
      "outputs": [
        {
          "data": {
            "text/plain": [
              "20058                 noisy upstairs neighbors wake man pm\n",
              "7324     elementary school teacher accused rape former ...\n",
              "8807     study finds humans crave sweet foods theyre we...\n",
              "15944                     dont need god life purpose rabbi\n",
              "20380    amazon offering deals black friday epic prime ...\n",
              "                               ...                        \n",
              "5451     heaven prepares huge rush college kids spring ...\n",
              "11965                   lottery loser angry lottery winner\n",
              "3559     gray wolves sighted capitol building first tim...\n",
              "4698     busy philipps consoles michelle williams th an...\n",
              "19474    trump asks national prayer breakfast pray cele...\n",
              "Name: headline, Length: 7126, dtype: object"
            ]
          },
          "execution_count": 26,
          "metadata": {},
          "output_type": "execute_result"
        }
      ],
      "source": [
        "data_clean_shortened = data_clean_shortened.apply(lambda x: ' '.join([word for word in x.split() if word not in (stop)])) # remove stop words\n",
        "data_clean_shortened = data_clean_shortened.apply(lambda x: \" \".join(x.lower() for x in x.split())) # to lower case TODO fixxxx\n",
        "data_clean_shortened"
      ]
    },
    {
      "cell_type": "code",
      "execution_count": 27,
      "metadata": {
        "colab": {
          "base_uri": "https://localhost:8080/"
        },
        "execution": {
          "iopub.execute_input": "2023-08-12T06:48:57.925128Z",
          "iopub.status.busy": "2023-08-12T06:48:57.92471Z",
          "iopub.status.idle": "2023-08-12T06:48:58.341714Z",
          "shell.execute_reply": "2023-08-12T06:48:58.340191Z",
          "shell.execute_reply.started": "2023-08-12T06:48:57.92509Z"
        },
        "id": "iV6pHWSNE2yp",
        "outputId": "12994603-06ed-4d62-c8db-5744026b8511",
        "trusted": true
      },
      "outputs": [
        {
          "data": {
            "text/plain": [
              "(7126, 14080)"
            ]
          },
          "execution_count": 27,
          "metadata": {},
          "output_type": "execute_result"
        }
      ],
      "source": [
        "# vectorizing the sample dataset\n",
        "n=1\n",
        "ngram_range=(n, n)\n",
        "vectorizer = TfidfVectorizer(ngram_range=ngram_range)\n",
        "X = vectorizer.fit_transform(data_clean_shortened)\n",
        "tfidf_matrix = pd.DataFrame(X.toarray(), columns = vectorizer.get_feature_names_out())\n",
        "X.shape"
      ]
    },
    {
      "cell_type": "code",
      "execution_count": 28,
      "metadata": {
        "execution": {
          "iopub.execute_input": "2023-08-12T06:48:58.343921Z",
          "iopub.status.busy": "2023-08-12T06:48:58.34354Z",
          "iopub.status.idle": "2023-08-12T06:48:58.351641Z",
          "shell.execute_reply": "2023-08-12T06:48:58.350563Z",
          "shell.execute_reply.started": "2023-08-12T06:48:58.343891Z"
        },
        "id": "s80j8oRME2yp",
        "trusted": true
      },
      "outputs": [],
      "source": [
        "# splitting the sample dataset\n",
        "X_train, X_test, y_train, y_test = train_test_split(X, data_labels_shortened, train_size = 0.8, test_size=0.2, random_state=4)"
      ]
    },
    {
      "cell_type": "code",
      "execution_count": 29,
      "metadata": {
        "colab": {
          "base_uri": "https://localhost:8080/",
          "height": 597
        },
        "execution": {
          "iopub.execute_input": "2023-08-12T06:48:58.353348Z",
          "iopub.status.busy": "2023-08-12T06:48:58.353003Z",
          "iopub.status.idle": "2023-08-12T06:49:17.417905Z",
          "shell.execute_reply": "2023-08-12T06:49:17.417101Z",
          "shell.execute_reply.started": "2023-08-12T06:48:58.353318Z"
        },
        "id": "Hl7U7qa0E2yp",
        "outputId": "aabb81b8-8d2c-45da-b3cd-c39035016b6d",
        "trusted": true
      },
      "outputs": [
        {
          "name": "stdout",
          "output_type": "stream",
          "text": [
            "Accuracy:    0.754558\n",
            "Precision:   0.791667\n",
            "Recall:      0.678571\n",
            "F1 Score:    0.730769\n",
            "SVM Model Performance Results:\n",
            "\n",
            "AUC of ROC:  0.8546399055489966\n"
          ]
        },
        {
          "data": {
            "image/png": "[encoded data removed]",
            "text/plain": [
              "<Figure size 640x480 with 1 Axes>"
            ]
          },
          "metadata": {},
          "output_type": "display_data"
        }
      ],
      "source": [
        "# SVM Model with no Regularization (C -> inf, lambda -> 0)\n",
        "import numpy as np\n",
        "from sklearn.svm import SVC\n",
        "from matplotlib import pyplot\n",
        "\n",
        "svm = SVC(probability = True, C=1e10)\n",
        "\n",
        "svm.fit(X_train, y_train)\n",
        "\n",
        "svm_predicted = svm.predict(X_test)\n",
        "svm_score = svm.predict_proba(X_test)[:,1]\n",
        "\n",
        "print_4_metrics(y_test, svm_predicted)\n",
        "\n",
        "# Plot ROC curve and report area under ROC\n",
        "# use metrics.roc_curve(your y_test, predicted probabilities for y_test)\n",
        "# feel free to use the same code as 3.1.1.\n",
        "'''your code goes below here'''\n",
        "fpr_svm_reg, tpr_svm_reg, thresholds = metrics.roc_curve(y_test,svm_score)\n",
        "print(\"SVM Model Performance Results:\\n\")\n",
        "pyplot.figure(1)\n",
        "pyplot.plot(fpr_svm_reg, tpr_svm_reg, color='orange', lw=1)\n",
        "pyplot.title(\"ROC curve with SVM Regression (rbf Kernel)\")\n",
        "pyplot.xlabel('FPR')\n",
        "pyplot.ylabel('TPR')\n",
        "# report auc\n",
        "# use metrics.auc(fpr, tpr)\n",
        "aucroc = metrics.auc(fpr_svm_reg, tpr_svm_reg)\n",
        "print('AUC of ROC: ', aucroc)"
      ]
    },
    {
      "cell_type": "code",
      "execution_count": 30,
      "metadata": {
        "colab": {
          "base_uri": "https://localhost:8080/",
          "height": 523
        },
        "execution": {
          "iopub.execute_input": "2023-08-12T06:49:17.419705Z",
          "iopub.status.busy": "2023-08-12T06:49:17.418969Z",
          "iopub.status.idle": "2023-08-12T06:49:17.7681Z",
          "shell.execute_reply": "2023-08-12T06:49:17.767071Z",
          "shell.execute_reply.started": "2023-08-12T06:49:17.419672Z"
        },
        "id": "DSk7XqN6E2yp",
        "outputId": "bb1bae09-f985-4e1b-9aa5-4dade9582437",
        "trusted": true
      },
      "outputs": [
        {
          "name": "stdout",
          "output_type": "stream",
          "text": [
            "Confusion Matrix: \n",
            "\n"
          ]
        },
        {
          "data": {
            "image/png": "[encoded data removed]",
            "text/plain": [
              "<Figure size 640x480 with 2 Axes>"
            ]
          },
          "metadata": {},
          "output_type": "display_data"
        }
      ],
      "source": [
        "print(\"Confusion Matrix: \\n\")\n",
        "draw_confusion_matrix(y_test, svm_predicted, ['Not Sarcastic', 'Sarcastic'])"
      ]
    },
    {
      "cell_type": "code",
      "execution_count": null,
      "metadata": {
        "execution": {
          "iopub.execute_input": "2023-08-12T06:49:17.770294Z",
          "iopub.status.busy": "2023-08-12T06:49:17.769854Z",
          "iopub.status.idle": "2023-08-12T06:49:17.775606Z",
          "shell.execute_reply": "2023-08-12T06:49:17.774403Z",
          "shell.execute_reply.started": "2023-08-12T06:49:17.770256Z"
        },
        "id": "zvDxC-hUE2yq",
        "trusted": true
      },
      "outputs": [],
      "source": [
        "# from sklearn import model_selection\n",
        "\n",
        "# lambda_list = np.linspace(start = 1, stop = 2, num = 20)\n",
        "# accuracy_list = []\n",
        "# for lambd in lambda_list:\n",
        "#     kfold = model_selection.KFold(n_splits=10, random_state=42, shuffle=True)\n",
        "#     # Train the model\n",
        "#     svc_model_kfold_train = SVC(probability = True, C = 1/lambd)\n",
        "#     svc_results_kfold_train = model_selection.cross_val_score(svc_model_kfold_train, X_train, y_train, cv=kfold)\n",
        "#     # Calculate accuracy\n",
        "#     accuracy = svc_results_kfold_train.mean()\n",
        "#     # Append lambda and accuracy to the lists\n",
        "#     accuracy_list.append(accuracy)\n",
        "\n",
        "#     print(\"For lambda=\",lambd, \", accuracy across folds is: %.2f%%\" % (svc_results_kfold_train.mean()*100.0))"
      ]
    },
    {
      "cell_type": "code",
      "execution_count": null,
      "metadata": {
        "execution": {
          "iopub.execute_input": "2023-08-12T06:49:17.782428Z",
          "iopub.status.busy": "2023-08-12T06:49:17.782129Z",
          "iopub.status.idle": "2023-08-12T06:49:17.791706Z",
          "shell.execute_reply": "2023-08-12T06:49:17.790773Z",
          "shell.execute_reply.started": "2023-08-12T06:49:17.782402Z"
        },
        "id": "GN7u0pxqE2yq",
        "trusted": true
      },
      "outputs": [],
      "source": [
        "# # Plot the scatter plot\n",
        "# plt.figure()\n",
        "# plt.scatter(lambda_list, accuracy_list)\n",
        "# plt.plot(lambda_list, accuracy_list)\n",
        "# plt.xlabel('Lambda (Regularization Parameter)')\n",
        "# plt.ylabel('Accuracy')\n",
        "# plt.title('Accuracy vs. Lambda')\n",
        "# plt.show()"
      ]
    },
    {
      "cell_type": "code",
      "execution_count": null,
      "metadata": {
        "execution": {
          "iopub.execute_input": "2023-08-12T06:49:17.794211Z",
          "iopub.status.busy": "2023-08-12T06:49:17.793429Z",
          "iopub.status.idle": "2023-08-12T06:49:17.803483Z",
          "shell.execute_reply": "2023-08-12T06:49:17.802363Z",
          "shell.execute_reply.started": "2023-08-12T06:49:17.794179Z"
        },
        "id": "zur0CGgtE2yq",
        "trusted": true
      },
      "outputs": [],
      "source": [
        "# comparison of label vs svm model's calculated value of P(Y=1|X)\n",
        "# print(\"label\\tP(Y=1)\\tCorrect?\")\n",
        "# for i in range(0,10):\n",
        "#     print(y_test.iloc[i], \" \", svm_score[i], \" \", str((y_test.iloc[i] == 1 and svm_score[i] >= 0.5) or (y_test.iloc[i] == 0 and svm_score[i] < 0.5)))"
      ]
    },
    {
      "cell_type": "code",
      "execution_count": null,
      "metadata": {
        "execution": {
          "iopub.execute_input": "2023-08-12T06:49:17.805225Z",
          "iopub.status.busy": "2023-08-12T06:49:17.804917Z",
          "iopub.status.idle": "2023-08-12T06:49:17.815464Z",
          "shell.execute_reply": "2023-08-12T06:49:17.814394Z",
          "shell.execute_reply.started": "2023-08-12T06:49:17.8052Z"
        },
        "id": "JnSL14f8E2yq",
        "trusted": true
      },
      "outputs": [],
      "source": [
        "# SVM Model with Regularization from CV (lambda=1.526315789473684)\n",
        "\n",
        "\n",
        "# lambd=1.263157894736842\n",
        "# svm = SVC(probability = True, C=1/lambd)\n",
        "\n",
        "# svm.fit(X_train, y_train)\n",
        "\n",
        "# svm_predicted = svm.predict(X_test)\n",
        "# svm_score = svm.predict_proba(X_test)[:,1]\n",
        "\n",
        "# print_4_metrics(y_test, svm_predicted)\n",
        "\n",
        "# # Plot ROC curve and report area under ROC\n",
        "# # use metrics.roc_curve(your y_test, predicted probabilities for y_test)\n",
        "# # feel free to use the same code as 3.1.1.\n",
        "# '''your code goes below here'''\n",
        "# fpr_svm_reg, tpr_svm_reg, thresholds = metrics.roc_curve(y_test,svm_score)\n",
        "# print(\"SVM Model Performance Results:\\n\")\n",
        "# pyplot.figure(1)\n",
        "# pyplot.plot(fpr_svm_reg, tpr_svm_reg, color='orange', lw=1)\n",
        "# pyplot.title(\"ROC curve with SVM Regression (rbf Kernel)\")\n",
        "# pyplot.xlabel('FPR')\n",
        "# pyplot.ylabel('TPR')\n",
        "# # report auc\n",
        "# # use metrics.auc(fpr, tpr)\n",
        "# aucroc = metrics.auc(fpr_svm_reg, tpr_svm_reg)\n",
        "# print('AUC of ROC: ', aucroc)"
      ]
    },
    {
      "cell_type": "markdown",
      "metadata": {
        "id": "ui11eJ1YE2yq"
      },
      "source": [
        "Let's begin with the RNN Model!"
      ]
    },
    {
      "cell_type": "code",
      "execution_count": 31,
      "metadata": {
        "execution": {
          "iopub.execute_input": "2023-08-12T06:49:17.817276Z",
          "iopub.status.busy": "2023-08-12T06:49:17.816983Z",
          "iopub.status.idle": "2023-08-12T06:49:25.842216Z",
          "shell.execute_reply": "2023-08-12T06:49:25.841102Z",
          "shell.execute_reply.started": "2023-08-12T06:49:17.817251Z"
        },
        "id": "3ccOwZMoE2yq",
        "trusted": true
      },
      "outputs": [],
      "source": [
        "# tokenizing and padding the data for RNN\n",
        "from keras.preprocessing.text import Tokenizer\n",
        "from keras.utils import pad_sequences\n",
        "\n",
        "max_features = 2000\n",
        "\n",
        "tokenizer = Tokenizer(max_features, split = ' ')\n",
        "tokenizer.fit_on_texts(data_clean_shortened)\n",
        "X_tokenized = tokenizer.texts_to_sequences(data_clean_shortened)\n",
        "X_padded = pad_sequences(X_tokenized)\n",
        "\n",
        "X_train_rnn, X_test_rnn, y_train_rnn, y_test_rnn = train_test_split(X_padded, data_labels_shortened, test_size=0.2, random_state=4)"
      ]
    },
    {
      "cell_type": "code",
      "execution_count": 32,
      "metadata": {
        "colab": {
          "base_uri": "https://localhost:8080/"
        },
        "execution": {
          "iopub.execute_input": "2023-08-12T06:49:25.844717Z",
          "iopub.status.busy": "2023-08-12T06:49:25.843738Z",
          "iopub.status.idle": "2023-08-12T06:49:25.851173Z",
          "shell.execute_reply": "2023-08-12T06:49:25.850347Z",
          "shell.execute_reply.started": "2023-08-12T06:49:25.844671Z"
        },
        "id": "uWW2RMgjE2yq",
        "outputId": "fe483982-705b-4d82-830c-e8fcd6f80a01",
        "trusted": true
      },
      "outputs": [
        {
          "data": {
            "text/plain": [
              "(7126, 16)"
            ]
          },
          "execution_count": 32,
          "metadata": {},
          "output_type": "execute_result"
        }
      ],
      "source": [
        "X_padded.shape"
      ]
    },
    {
      "cell_type": "code",
      "execution_count": 33,
      "metadata": {
        "colab": {
          "base_uri": "https://localhost:8080/"
        },
        "execution": {
          "iopub.execute_input": "2023-08-12T06:49:25.853176Z",
          "iopub.status.busy": "2023-08-12T06:49:25.852642Z",
          "iopub.status.idle": "2023-08-12T06:54:49.374573Z",
          "shell.execute_reply": "2023-08-12T06:54:49.373759Z",
          "shell.execute_reply.started": "2023-08-12T06:49:25.853145Z"
        },
        "id": "SRrrZhZME2yr",
        "outputId": "216b7c97-7108-474f-aaf2-f2488232227a",
        "trusted": true
      },
      "outputs": [
        {
          "name": "stdout",
          "output_type": "stream",
          "text": [
            "Epoch 1/100\n",
            "179/179 [==============================] - 35s 162ms/step - loss: 1.2140 - accuracy: 0.5323 - val_loss: 1.0662 - val_accuracy: 0.4909\n",
            "Epoch 2/100\n",
            "179/179 [==============================] - 23s 131ms/step - loss: 1.1429 - accuracy: 0.5400 - val_loss: 1.0396 - val_accuracy: 0.5084\n",
            "Epoch 3/100\n",
            "179/179 [==============================] - 21s 119ms/step - loss: 1.0718 - accuracy: 0.5704 - val_loss: 0.9965 - val_accuracy: 0.5491\n",
            "Epoch 4/100\n",
            "179/179 [==============================] - 19s 108ms/step - loss: 1.0162 - accuracy: 0.5954 - val_loss: 0.9679 - val_accuracy: 0.5659\n",
            "Epoch 5/100\n",
            "179/179 [==============================] - 22s 124ms/step - loss: 0.9652 - accuracy: 0.6256 - val_loss: 0.8828 - val_accuracy: 0.6809\n",
            "Epoch 6/100\n",
            "179/179 [==============================] - 22s 121ms/step - loss: 0.9156 - accuracy: 0.6621 - val_loss: 0.8468 - val_accuracy: 0.6964\n",
            "Epoch 7/100\n",
            "179/179 [==============================] - 28s 157ms/step - loss: 0.8701 - accuracy: 0.6774 - val_loss: 0.8263 - val_accuracy: 0.6893\n",
            "Epoch 8/100\n",
            "179/179 [==============================] - 20s 111ms/step - loss: 0.8126 - accuracy: 0.7182 - val_loss: 0.8034 - val_accuracy: 0.7013\n",
            "Epoch 9/100\n",
            "179/179 [==============================] - 22s 122ms/step - loss: 0.7753 - accuracy: 0.7332 - val_loss: 0.7730 - val_accuracy: 0.7461\n",
            "Epoch 10/100\n",
            "179/179 [==============================] - 19s 108ms/step - loss: 0.7475 - accuracy: 0.7496 - val_loss: 0.7695 - val_accuracy: 0.7412\n",
            "Epoch 11/100\n",
            "179/179 [==============================] - 21s 117ms/step - loss: 0.7070 - accuracy: 0.7619 - val_loss: 0.7653 - val_accuracy: 0.7160\n",
            "Epoch 12/100\n",
            "179/179 [==============================] - 19s 108ms/step - loss: 0.6859 - accuracy: 0.7730 - val_loss: 0.7469 - val_accuracy: 0.7419\n",
            "Epoch 13/100\n",
            "179/179 [==============================] - 20s 110ms/step - loss: 0.6594 - accuracy: 0.7816 - val_loss: 0.7449 - val_accuracy: 0.7454\n",
            "Epoch 14/100\n",
            "179/179 [==============================] - 22s 124ms/step - loss: 0.6394 - accuracy: 0.7856 - val_loss: 0.7410 - val_accuracy: 0.7426\n",
            "Epoch 15/100\n",
            "179/179 [==============================] - 23s 127ms/step - loss: 0.6220 - accuracy: 0.7963 - val_loss: 0.7440 - val_accuracy: 0.7349\n",
            "Epoch 16/100\n",
            "179/179 [==============================] - 26s 143ms/step - loss: 0.5982 - accuracy: 0.8021 - val_loss: 0.7347 - val_accuracy: 0.7370\n",
            "Epoch 17/100\n",
            "179/179 [==============================] - 21s 120ms/step - loss: 0.5763 - accuracy: 0.8153 - val_loss: 0.7464 - val_accuracy: 0.7328\n",
            "Epoch 18/100\n",
            "179/179 [==============================] - 21s 120ms/step - loss: 0.5694 - accuracy: 0.8139 - val_loss: 0.7462 - val_accuracy: 0.7377\n",
            "Epoch 19/100\n",
            "179/179 [==============================] - 19s 109ms/step - loss: 0.5488 - accuracy: 0.8204 - val_loss: 0.7550 - val_accuracy: 0.7349\n",
            "45/45 [==============================] - 2s 40ms/step - loss: 0.7730 - accuracy: 0.7461\n",
            "Test loss:  0.7729501724243164\n",
            "Test accuracy:  0.7461430430412292\n"
          ]
        }
      ],
      "source": [
        "'''\n",
        "- embedding space controls the size of the vector representations of the features.\n",
        "  (e.g. if the vector has dimension of 2, then for the word 'cat', it could have\n",
        "   a corresponding dense vector of [0.8, 1], where 0.8 quantifies the size of the animal\n",
        "   and 1 quantifies some other characteristic of it. by representing the words as\n",
        "   vectors, this allows the program to identify similarities between different words)\n",
        "- num_layers is the number of LSTM units in each of the hidden layers of the NN\n",
        "- dense layer essentially does the mathy stuff. like the weighted sum of inputs from\n",
        "  previous layer and applying the activation stuff\n",
        "'''\n",
        "\n",
        "from keras.models import Sequential\n",
        "from keras.layers import Embedding, Dense, BatchNormalization, Dropout\n",
        "from keras.optimizers import Adam\n",
        "from keras.callbacks import EarlyStopping\n",
        "from keras import layers, regularizers\n",
        "\n",
        "model = Sequential()\n",
        "\n",
        "# hyperparams\n",
        "\n",
        "embed_vec_size = 120 # hyperparam that controls size of embedding vector\n",
        "num_layers = 200 # also hyperparam\n",
        "batch_size = 32\n",
        "learning_rate=0.0001\n",
        "dropout_rate = 0.5\n",
        "reg_strength = 0.005\n",
        "patience = 10\n",
        "\n",
        "# optimizer = ['SGD', 'RMSprop', 'Adagrad', 'Adadelta', 'Adam']\n",
        "# batch_size = [16,32,64,128,256]\n",
        "\n",
        "model.add(Embedding(input_dim=max_features, output_dim=embed_vec_size))\n",
        "model.add(layers.LSTM(num_layers, dropout=dropout_rate, return_sequences=True))\n",
        "model.add(BatchNormalization())\n",
        "model.add(layers.LSTM(num_layers, dropout=dropout_rate))  # Additional LSTM layer\n",
        "model.add(BatchNormalization())\n",
        "model.add(Dropout(dropout_rate))\n",
        "model.add(Dense(units=50, activation='relu', kernel_regularizer=regularizers.l2(reg_strength)))\n",
        "# model.add(Dropout(dropout_rate))\n",
        "model.add(Dense(units=1, activation='sigmoid'))\n",
        "\n",
        "early_stopping = EarlyStopping(monitor='val_accuracy', patience=patience, restore_best_weights=True)\n",
        "\n",
        "model.compile(optimizer=Adam(learning_rate=learning_rate), loss='binary_crossentropy', metrics=['accuracy'])\n",
        "hist = model.fit(X_train_rnn, y_train, epochs=100, batch_size=batch_size, validation_data=(X_test_rnn, y_test), callbacks=[early_stopping]) # , callbacks=[early_stopping]\n",
        "score = model.evaluate(X_test_rnn, y_test) # 2-element vector containing loss, and accuracy\n",
        "\n",
        "print('Test loss: ', score[0])\n",
        "print('Test accuracy: ', score[1])"
      ]
    },
    {
      "cell_type": "code",
      "execution_count": 34,
      "metadata": {
        "colab": {
          "base_uri": "https://localhost:8080/",
          "height": 472
        },
        "execution": {
          "iopub.execute_input": "2023-08-12T06:54:49.37861Z",
          "iopub.status.busy": "2023-08-12T06:54:49.37793Z",
          "iopub.status.idle": "2023-08-12T06:54:49.676128Z",
          "shell.execute_reply": "2023-08-12T06:54:49.674914Z",
          "shell.execute_reply.started": "2023-08-12T06:54:49.378565Z"
        },
        "id": "LTWI6_tLE2yr",
        "outputId": "a6f1f026-5bba-49f6-bcaa-67c17f85c62f",
        "trusted": true
      },
      "outputs": [
        {
          "data": {
            "image/png": "[encoded data removed]",
            "text/plain": [
              "<Figure size 640x480 with 1 Axes>"
            ]
          },
          "metadata": {},
          "output_type": "display_data"
        }
      ],
      "source": [
        "plt.plot(hist.history['accuracy'])\n",
        "plt.plot(hist.history['val_accuracy'])\n",
        "plt.title('model accuracy')\n",
        "plt.ylabel('accuracy')\n",
        "plt.xlabel('epoch')\n",
        "plt.legend(['train', 'validation'], loc='upper left')\n",
        "stop_epoch = early_stopping.stopped_epoch-patience\n",
        "plt.axvline(stop_epoch, color='r')\n",
        "label = 'stopping point: \\nepoch=' + str(stop_epoch)\n",
        "plt.text(stop_epoch+0.2, .8, label, rotation=0)\n",
        "plt.show()"
      ]
    },
    {
      "cell_type": "code",
      "execution_count": 35,
      "metadata": {
        "colab": {
          "base_uri": "https://localhost:8080/",
          "height": 472
        },
        "execution": {
          "iopub.execute_input": "2023-08-12T06:54:49.678647Z",
          "iopub.status.busy": "2023-08-12T06:54:49.677905Z",
          "iopub.status.idle": "2023-08-12T06:54:49.988744Z",
          "shell.execute_reply": "2023-08-12T06:54:49.987603Z",
          "shell.execute_reply.started": "2023-08-12T06:54:49.678603Z"
        },
        "id": "WaaKnXC6E2yr",
        "outputId": "688ecef5-d733-4d03-ef17-886b6ccd5b56",
        "trusted": true
      },
      "outputs": [
        {
          "data": {
            "image/png": "[encoded data removed]",
            "text/plain": [
              "<Figure size 640x480 with 1 Axes>"
            ]
          },
          "metadata": {},
          "output_type": "display_data"
        }
      ],
      "source": [
        "plt.plot(hist.history['loss'])\n",
        "plt.plot(hist.history['val_loss'])\n",
        "plt.title('model loss')\n",
        "plt.ylabel('loss')\n",
        "plt.xlabel('epoch')\n",
        "plt.legend(['train', 'validation'], loc='upper left')\n",
        "plt.axvline(stop_epoch, color='r')\n",
        "plt.text(stop_epoch+0.2,.82, label,rotation=0)\n",
        "plt.show()"
      ]
    },
    {
      "cell_type": "code",
      "execution_count": 37,
      "metadata": {
        "colab": {
          "base_uri": "https://localhost:8080/"
        },
        "execution": {
          "iopub.execute_input": "2023-08-12T06:54:49.991183Z",
          "iopub.status.busy": "2023-08-12T06:54:49.990484Z",
          "iopub.status.idle": "2023-08-12T06:54:49.996301Z",
          "shell.execute_reply": "2023-08-12T06:54:49.995164Z",
          "shell.execute_reply.started": "2023-08-12T06:54:49.991139Z"
        },
        "id": "yW4A3xk3E2yr",
        "outputId": "539515d8-4a4b-4e5a-d4c9-dceebaae845b",
        "trusted": true
      },
      "outputs": [
        {
          "name": "stdout",
          "output_type": "stream",
          "text": [
            "Collecting scikeras\n",
            "  Downloading scikeras-0.12.0-py3-none-any.whl (27 kB)\n",
            "Requirement already satisfied: packaging>=0.21 in /usr/local/lib/python3.10/dist-packages (from scikeras) (23.2)\n",
            "Requirement already satisfied: scikit-learn>=1.0.0 in /usr/local/lib/python3.10/dist-packages (from scikeras) (1.2.2)\n",
            "Requirement already satisfied: numpy>=1.17.3 in /usr/local/lib/python3.10/dist-packages (from scikit-learn>=1.0.0->scikeras) (1.23.5)\n",
            "Requirement already satisfied: scipy>=1.3.2 in /usr/local/lib/python3.10/dist-packages (from scikit-learn>=1.0.0->scikeras) (1.11.3)\n",
            "Requirement already satisfied: joblib>=1.1.1 in /usr/local/lib/python3.10/dist-packages (from scikit-learn>=1.0.0->scikeras) (1.3.2)\n",
            "Requirement already satisfied: threadpoolctl>=2.0.0 in /usr/local/lib/python3.10/dist-packages (from scikit-learn>=1.0.0->scikeras) (3.2.0)\n",
            "Installing collected packages: scikeras\n",
            "Successfully installed scikeras-0.12.0\n"
          ]
        }
      ],
      "source": [
        "!pip install scikeras"
      ]
    },
    {
      "cell_type": "markdown",
      "metadata": {
        "id": "mlFT0qd5Qv7q"
      },
      "source": []
    },
    {
      "cell_type": "code",
      "execution_count": 36,
      "metadata": {
        "colab": {
          "base_uri": "https://localhost:8080/",
          "height": 393
        },
        "execution": {
          "iopub.execute_input": "2023-08-12T06:54:49.998094Z",
          "iopub.status.busy": "2023-08-12T06:54:49.997593Z",
          "iopub.status.idle": "2023-08-12T06:54:50.012882Z",
          "shell.execute_reply": "2023-08-12T06:54:50.011734Z",
          "shell.execute_reply.started": "2023-08-12T06:54:49.998064Z"
        },
        "id": "fY-YR7EIE2yr",
        "outputId": "57addc0a-4c43-4aa5-c068-85f726fef7ae",
        "trusted": true
      },
      "outputs": [
        {
          "ename": "ModuleNotFoundError",
          "evalue": "ignored",
          "output_type": "error",
          "traceback": [
            "\u001b[0;31m---------------------------------------------------------------------------\u001b[0m",
            "\u001b[0;31mModuleNotFoundError\u001b[0m                       Traceback (most recent call last)",
            "\u001b[0;32m<ipython-input-36-9b725c450ead>\u001b[0m in \u001b[0;36m<cell line: 7>\u001b[0;34m()\u001b[0m\n\u001b[1;32m      5\u001b[0m \u001b[0;32mfrom\u001b[0m \u001b[0mkeras\u001b[0m \u001b[0;32mimport\u001b[0m \u001b[0mlayers\u001b[0m\u001b[0;34m,\u001b[0m \u001b[0mregularizers\u001b[0m\u001b[0;34m\u001b[0m\u001b[0;34m\u001b[0m\u001b[0m\n\u001b[1;32m      6\u001b[0m \u001b[0;32mfrom\u001b[0m \u001b[0msklearn\u001b[0m\u001b[0;34m.\u001b[0m\u001b[0mmodel_selection\u001b[0m \u001b[0;32mimport\u001b[0m \u001b[0mGridSearchCV\u001b[0m\u001b[0;34m\u001b[0m\u001b[0;34m\u001b[0m\u001b[0m\n\u001b[0;32m----> 7\u001b[0;31m \u001b[0;32mfrom\u001b[0m \u001b[0mscikeras\u001b[0m\u001b[0;34m.\u001b[0m\u001b[0mwrappers\u001b[0m \u001b[0;32mimport\u001b[0m \u001b[0mKerasClassifier\u001b[0m\u001b[0;34m\u001b[0m\u001b[0;34m\u001b[0m\u001b[0m\n\u001b[0m\u001b[1;32m      8\u001b[0m \u001b[0;34m\u001b[0m\u001b[0m\n\u001b[1;32m      9\u001b[0m \u001b[0;31m#https://www.geeksforgeeks.org/hyperparameter-tuning-using-gridsearchcv-and-kerasclassifier/#\u001b[0m\u001b[0;34m\u001b[0m\u001b[0;34m\u001b[0m\u001b[0m\n",
            "\u001b[0;31mModuleNotFoundError\u001b[0m: No module named 'scikeras'",
            "",
            "\u001b[0;31m---------------------------------------------------------------------------\u001b[0;32m\nNOTE: If your import is failing due to a missing package, you can\nmanually install dependencies using either !pip or !apt.\n\nTo view examples of installing some common dependencies, click the\n\"Open Examples\" button below.\n\u001b[0;31m---------------------------------------------------------------------------\u001b[0m\n"
          ]
        }
      ],
      "source": [
        "from keras.models import Sequential\n",
        "from keras.layers import Embedding, Dense, BatchNormalization, Dropout\n",
        "from keras.optimizers import Adam\n",
        "from keras.callbacks import EarlyStopping\n",
        "from keras import layers, regularizers\n",
        "from sklearn.model_selection import GridSearchCV\n",
        "from scikeras.wrappers import KerasClassifier\n",
        "\n",
        "#https://www.geeksforgeeks.org/hyperparameter-tuning-using-gridsearchcv-and-kerasclassifier/#\n",
        "\n",
        "def create_model(batch_size=32, num_layers=200, dropout_rate=0.5, embed_vec_size=120, learning_rate=0.0001, optimizer='adam'):\n",
        "    model = Sequential()\n",
        "    model.add(Embedding(input_dim=max_features, output_dim=embed_vec_size))\n",
        "    model.add(layers.LSTM(num_layers, dropout=dropout_rate, return_sequences=True))\n",
        "    model.add(BatchNormalization())\n",
        "    model.add(layers.LSTM(num_layers, dropout=dropout_rate))\n",
        "    model.add(BatchNormalization())\n",
        "    model.add(Dropout(dropout_rate))\n",
        "    model.add(Dense(units=50, activation='relu', kernel_regularizer=regularizers.l2(reg_strength)))\n",
        "    model.add(Dense(units=1, activation='sigmoid'))\n",
        "\n",
        "    model.compile(optimizer=optimizer, loss='binary_crossentropy', metrics=['accuracy'])\n",
        "    return model\n",
        "\n",
        "param_grid = {\n",
        "    # 'batch_size': [32, 64, 128],\n",
        "    'num_layers': [150, 200, 250],\n",
        "    # 'dropout_rate': [0.3, 0.5, 0.7],\n",
        "    # 'embed_vec_size': [120, 160, 200],\n",
        "    'learning_rate': [0.001, 0.0001, 0.00001],\n",
        "    'optimizer':['adam', 'sgd', 'rmsprop']\n",
        "}\n",
        "\n",
        "model = KerasClassifier(model=create_model, loss=\"binary_crossentropy\", dropout_rate=0.5, embed_vec_size=120, learning_rate=0.0001, num_layers=200)\n",
        "\n",
        "early_stopping = EarlyStopping(monitor='val_accuracy', patience=patience, restore_best_weights=True)\n",
        "grid = GridSearchCV(estimator=model, param_grid=param_grid, cv=10, verbose=2)\n",
        "grid_result = grid.fit(X_train_rnn, y_train_rnn, callbacks=[early_stopping])\n",
        "\n",
        "best_params=grid_result.best_params_\n",
        "accuracy=grid_result.best_score_\n",
        "\n",
        "print(\"best params: \", best_params)\n",
        "print(\"best accuracy: \", accuracy)"
      ]
    },
    {
      "cell_type": "code",
      "execution_count": null,
      "metadata": {
        "execution": {
          "iopub.execute_input": "2023-08-12T06:54:50.014731Z",
          "iopub.status.busy": "2023-08-12T06:54:50.014326Z",
          "iopub.status.idle": "2023-08-12T06:54:50.030194Z",
          "shell.execute_reply": "2023-08-12T06:54:50.02923Z",
          "shell.execute_reply.started": "2023-08-12T06:54:50.014697Z"
        },
        "id": "uGMXe6wAE2ys",
        "trusted": true
      },
      "outputs": [],
      "source": [
        "# print(\"Grid Search CV best accuracy: \", grid_result.best_estimator_.score(X_train_rnn, y_train_rnn))"
      ]
    },
    {
      "cell_type": "code",
      "execution_count": null,
      "metadata": {
        "execution": {
          "iopub.execute_input": "2023-08-12T06:54:50.032143Z",
          "iopub.status.busy": "2023-08-12T06:54:50.031307Z",
          "iopub.status.idle": "2023-08-12T06:54:50.042819Z",
          "shell.execute_reply": "2023-08-12T06:54:50.04187Z",
          "shell.execute_reply.started": "2023-08-12T06:54:50.032098Z"
        },
        "id": "ttWPfXdAE2ys",
        "trusted": true
      },
      "outputs": [],
      "source": [
        "# from keras.models import Sequential\n",
        "# from keras.layers import Embedding, Dense, BatchNormalization, Dropout\n",
        "# from keras.optimizers import Adam\n",
        "# from keras.callbacks import EarlyStopping\n",
        "# from keras import layers, regularizers\n",
        "# from sklearn.model_selection import GridSearchCV\n",
        "# from scikeras.wrappers import KerasClassifier\n",
        "\n",
        "# embed_vec_size = 120 # hyperparam that controls size of embedding vector\n",
        "# num_layers = 200 # also hyperparam\n",
        "# batch_size = 32\n",
        "# learning_rate=1e-5\n",
        "# dropout_rate = 0.5\n",
        "# reg_strength = 0.005\n",
        "# patience = 100\n",
        "\n",
        "# model = Sequential()\n",
        "\n",
        "# model.add(Embedding(input_dim=max_features, output_dim=embed_vec_size))\n",
        "# model.add(layers.LSTM(num_layers, dropout=dropout_rate, return_sequences=True))\n",
        "# model.add(BatchNormalization())\n",
        "# model.add(layers.LSTM(num_layers, dropout=dropout_rate))  # Additional LSTM layer\n",
        "# model.add(BatchNormalization())\n",
        "# model.add(Dropout(dropout_rate))\n",
        "# model.add(Dense(units=50, activation='relu', kernel_regularizer=regularizers.l2(reg_strength)))\n",
        "# # model.add(Dropout(dropout_rate))\n",
        "# model.add(Dense(units=1, activation='sigmoid'))\n",
        "\n",
        "# early_stopping = EarlyStopping(monitor='val_accuracy', patience=patience, restore_best_weights=True)\n",
        "\n",
        "# model.compile(optimizer=Adam(learning_rate=learning_rate), loss='binary_crossentropy', metrics=['accuracy'])\n",
        "# hist = model.fit(X_train_rnn, y_train, epochs=100, batch_size=batch_size, validation_data=(X_test_rnn, y_test), callbacks=[early_stopping]) # , callbacks=[early_stopping]\n",
        "# score = model.evaluate(X_test_rnn, y_test) # 2-element vector containing loss, and accuracy\n",
        "\n",
        "# print('Test loss: ', score[0])\n",
        "# print('Test accuracy: ', score[1])"
      ]
    }
  ],
  "metadata": {
    "colab": {
      "provenance": []
    },
    "kaggle": {
      "accelerator": "none",
      "dataSources": [
        {
          "datasetId": 30764,
          "sourceId": 533474,
          "sourceType": "datasetVersion"
        }
      ],
      "dockerImageVersionId": 30527,
      "isGpuEnabled": false,
      "isInternetEnabled": false,
      "language": "python",
      "sourceType": "notebook"
    },
    "kernelspec": {
      "display_name": "Python 3",
      "language": "python",
      "name": "python3"
    },
    "language_info": {
      "codemirror_mode": {
        "name": "ipython",
        "version": 3
      },
      "file_extension": ".py",
      "mimetype": "text/x-python",
      "name": "python",
      "nbconvert_exporter": "python",
      "pygments_lexer": "ipython3",
      "version": "3.8.18"
    }
  },
  "nbformat": 4,
  "nbformat_minor": 0
}
