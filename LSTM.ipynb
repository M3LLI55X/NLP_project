{
 "cells": [
  {
   "cell_type": "markdown",
   "metadata": {},
   "source": [
    "[](http://e7.pngegg.com/pngimages/360/846/png-clipart-human-behavior-thumb-homo-sapiens-sarcasm-logo-cartoon.png)"
   ]
  },
  {
   "cell_type": "markdown",
   "metadata": {
    "papermill": {
     "duration": 0.015616,
     "end_time": "2022-07-15T13:42:22.395603",
     "exception": false,
     "start_time": "2022-07-15T13:42:22.379987",
     "status": "completed"
    },
    "tags": []
   },
   "source": [
    "# Introduction..."
   ]
  },
  {
   "cell_type": "markdown",
   "metadata": {
    "papermill": {
     "duration": 0.014866,
     "end_time": "2022-07-15T13:42:22.425625",
     "exception": false,
     "start_time": "2022-07-15T13:42:22.410759",
     "status": "completed"
    },
    "tags": []
   },
   "source": [
    "\n",
    "### Acknowledgement\n",
    "The information below was obtained from: https://www.techtarget.com/searchbusinessanalytics/definition/opinion-mining-sentiment-mining\n",
    "\n",
    "### What is sentiment analysis?\n",
    "Sentiment analysis, also referred to as opinion mining, is an approach to natural language processing that identifies the emotional tone behind a body of text. This is a popular way for organizations to determine and categorize opinions about a product, service, or idea. It involves the use of data mining, machine learning and artificial intelligence to mine text for sentiment and subjective information.\n",
    "\n",
    "Sentiment analysis systems help organizations gather insights from unorganized and unstructured text that comes from online sources such as emails, blog posts, support tickets, web chats, social media channels, forums and comments. Algorithms replace manual data processing by implementing rule-based, automatic or hybrid methods. Rule-based systems perform sentiment analysis based on predefined, lexicon-based rules while automatic systems learn from data with machine learning techniques. A hybrid sentiment analysis combines both approaches.\n",
    "\n",
    "In addition to identifying sentiment, opinion mining can extract the polarity (or the amount of positivity and negativity), subject and opinion holder within the text. Furthermore, sentiment analysis can be applied to varying scopes such as document, paragraph, sentence and sub-sentence levels.\n",
    "\n",
    "### Types of sentiment analysis\n",
    "Fine-grained sentiment analysis provides a more precise level of polarity by breaking it down into further categories, usually very positive to very negative. This can be considered the opinion equivalent of ratings on a 5-star scale.\n",
    "Emotion detection identifies specific emotions rather than positivity and negativity. Examples could include happiness, frustration, shock, anger and sadness.\n",
    "Intent-based analysis recognizes actions behind a text in addition to opinion. For example, an online comment expressing frustration about changing a battery could prompt customer service to reach out to resolve that specific issue.\n",
    "Aspect-based analysis gathers the specific component being positively or negatively mentioned. For example, a customer might leave a review on a product saying the battery life was too short. Then, the system will return that the negative sentiment is not about the product as a whole, but about the battery life."
   ]
  },
  {
   "cell_type": "markdown",
   "metadata": {
    "papermill": {
     "duration": 0.01575,
     "end_time": "2022-07-15T13:42:22.4571",
     "exception": false,
     "start_time": "2022-07-15T13:42:22.44135",
     "status": "completed"
    },
    "tags": []
   },
   "source": [
    "Import necessary libraries...\n"
   ]
  },
  {
   "cell_type": "code",
   "execution_count": 1,
   "metadata": {},
   "outputs": [
    {
     "name": "stdout",
     "output_type": "stream",
     "text": [
      "Requirement already satisfied: textblob in /Users/bin/opt/anaconda3/lib/python3.8/site-packages (0.17.1)\n",
      "Requirement already satisfied: tensorflow in /Users/bin/opt/anaconda3/lib/python3.8/site-packages (2.13.1)\n",
      "Requirement already satisfied: nltk>=3.1 in /Users/bin/opt/anaconda3/lib/python3.8/site-packages (from textblob) (3.8.1)\n",
      "Requirement already satisfied: absl-py>=1.0.0 in /Users/bin/opt/anaconda3/lib/python3.8/site-packages (from tensorflow) (2.0.0)\n",
      "Requirement already satisfied: astunparse>=1.6.0 in /Users/bin/opt/anaconda3/lib/python3.8/site-packages (from tensorflow) (1.6.3)\n",
      "Requirement already satisfied: flatbuffers>=23.1.21 in /Users/bin/opt/anaconda3/lib/python3.8/site-packages (from tensorflow) (23.5.26)\n",
      "Requirement already satisfied: gast<=0.4.0,>=0.2.1 in /Users/bin/opt/anaconda3/lib/python3.8/site-packages (from tensorflow) (0.4.0)\n",
      "Requirement already satisfied: google-pasta>=0.1.1 in /Users/bin/opt/anaconda3/lib/python3.8/site-packages (from tensorflow) (0.2.0)\n",
      "Requirement already satisfied: h5py>=2.9.0 in /Users/bin/opt/anaconda3/lib/python3.8/site-packages (from tensorflow) (3.10.0)\n",
      "Requirement already satisfied: libclang>=13.0.0 in /Users/bin/opt/anaconda3/lib/python3.8/site-packages (from tensorflow) (16.0.6)\n",
      "Requirement already satisfied: numpy<=1.24.3,>=1.22 in /Users/bin/opt/anaconda3/lib/python3.8/site-packages (from tensorflow) (1.23.5)\n",
      "Requirement already satisfied: opt-einsum>=2.3.2 in /Users/bin/opt/anaconda3/lib/python3.8/site-packages (from tensorflow) (3.3.0)\n",
      "Requirement already satisfied: packaging in /Users/bin/opt/anaconda3/lib/python3.8/site-packages (from tensorflow) (23.1)\n",
      "Requirement already satisfied: protobuf!=4.21.0,!=4.21.1,!=4.21.2,!=4.21.3,!=4.21.4,!=4.21.5,<5.0.0dev,>=3.20.3 in /Users/bin/opt/anaconda3/lib/python3.8/site-packages (from tensorflow) (4.25.0)\n",
      "Requirement already satisfied: setuptools in /Users/bin/opt/anaconda3/lib/python3.8/site-packages (from tensorflow) (68.0.0)\n",
      "Requirement already satisfied: six>=1.12.0 in /Users/bin/opt/anaconda3/lib/python3.8/site-packages (from tensorflow) (1.16.0)\n",
      "Requirement already satisfied: termcolor>=1.1.0 in /Users/bin/opt/anaconda3/lib/python3.8/site-packages (from tensorflow) (2.3.0)\n",
      "Requirement already satisfied: typing-extensions<4.6.0,>=3.6.6 in /Users/bin/opt/anaconda3/lib/python3.8/site-packages (from tensorflow) (4.5.0)\n",
      "Requirement already satisfied: wrapt>=1.11.0 in /Users/bin/opt/anaconda3/lib/python3.8/site-packages (from tensorflow) (1.12.1)\n",
      "Requirement already satisfied: grpcio<2.0,>=1.24.3 in /Users/bin/opt/anaconda3/lib/python3.8/site-packages (from tensorflow) (1.59.2)\n",
      "Requirement already satisfied: tensorboard<2.14,>=2.13 in /Users/bin/opt/anaconda3/lib/python3.8/site-packages (from tensorflow) (2.13.0)\n",
      "Requirement already satisfied: tensorflow-estimator<2.14,>=2.13.0 in /Users/bin/opt/anaconda3/lib/python3.8/site-packages (from tensorflow) (2.13.0)\n",
      "Requirement already satisfied: keras<2.14,>=2.13.1 in /Users/bin/opt/anaconda3/lib/python3.8/site-packages (from tensorflow) (2.13.1)\n",
      "Requirement already satisfied: tensorflow-io-gcs-filesystem>=0.23.1 in /Users/bin/opt/anaconda3/lib/python3.8/site-packages (from tensorflow) (0.34.0)\n",
      "Requirement already satisfied: wheel<1.0,>=0.23.0 in /Users/bin/opt/anaconda3/lib/python3.8/site-packages (from astunparse>=1.6.0->tensorflow) (0.41.2)\n",
      "Requirement already satisfied: click in /Users/bin/opt/anaconda3/lib/python3.8/site-packages (from nltk>=3.1->textblob) (8.1.7)\n",
      "Requirement already satisfied: joblib in /Users/bin/opt/anaconda3/lib/python3.8/site-packages (from nltk>=3.1->textblob) (1.2.0)\n",
      "Requirement already satisfied: regex>=2021.8.3 in /Users/bin/opt/anaconda3/lib/python3.8/site-packages (from nltk>=3.1->textblob) (2023.10.3)\n",
      "Requirement already satisfied: tqdm in /Users/bin/opt/anaconda3/lib/python3.8/site-packages (from nltk>=3.1->textblob) (4.65.0)\n",
      "Requirement already satisfied: google-auth<3,>=1.6.3 in /Users/bin/opt/anaconda3/lib/python3.8/site-packages (from tensorboard<2.14,>=2.13->tensorflow) (2.23.4)\n",
      "Requirement already satisfied: google-auth-oauthlib<1.1,>=0.5 in /Users/bin/opt/anaconda3/lib/python3.8/site-packages (from tensorboard<2.14,>=2.13->tensorflow) (1.0.0)\n",
      "Requirement already satisfied: markdown>=2.6.8 in /Users/bin/opt/anaconda3/lib/python3.8/site-packages (from tensorboard<2.14,>=2.13->tensorflow) (3.5.1)\n",
      "Requirement already satisfied: requests<3,>=2.21.0 in /Users/bin/opt/anaconda3/lib/python3.8/site-packages (from tensorboard<2.14,>=2.13->tensorflow) (2.31.0)\n",
      "Requirement already satisfied: tensorboard-data-server<0.8.0,>=0.7.0 in /Users/bin/opt/anaconda3/lib/python3.8/site-packages (from tensorboard<2.14,>=2.13->tensorflow) (0.7.2)\n",
      "Requirement already satisfied: werkzeug>=1.0.1 in /Users/bin/opt/anaconda3/lib/python3.8/site-packages (from tensorboard<2.14,>=2.13->tensorflow) (3.0.1)\n",
      "Requirement already satisfied: cachetools<6.0,>=2.0.0 in /Users/bin/opt/anaconda3/lib/python3.8/site-packages (from google-auth<3,>=1.6.3->tensorboard<2.14,>=2.13->tensorflow) (5.3.2)\n",
      "Requirement already satisfied: pyasn1-modules>=0.2.1 in /Users/bin/opt/anaconda3/lib/python3.8/site-packages (from google-auth<3,>=1.6.3->tensorboard<2.14,>=2.13->tensorflow) (0.3.0)\n",
      "Requirement already satisfied: rsa<5,>=3.1.4 in /Users/bin/opt/anaconda3/lib/python3.8/site-packages (from google-auth<3,>=1.6.3->tensorboard<2.14,>=2.13->tensorflow) (4.9)\n",
      "Requirement already satisfied: requests-oauthlib>=0.7.0 in /Users/bin/opt/anaconda3/lib/python3.8/site-packages (from google-auth-oauthlib<1.1,>=0.5->tensorboard<2.14,>=2.13->tensorflow) (1.3.1)\n",
      "Requirement already satisfied: importlib-metadata>=4.4 in /Users/bin/opt/anaconda3/lib/python3.8/site-packages (from markdown>=2.6.8->tensorboard<2.14,>=2.13->tensorflow) (6.0.0)\n",
      "Requirement already satisfied: charset-normalizer<4,>=2 in /Users/bin/opt/anaconda3/lib/python3.8/site-packages (from requests<3,>=2.21.0->tensorboard<2.14,>=2.13->tensorflow) (2.0.4)\n",
      "Requirement already satisfied: idna<4,>=2.5 in /Users/bin/opt/anaconda3/lib/python3.8/site-packages (from requests<3,>=2.21.0->tensorboard<2.14,>=2.13->tensorflow) (3.4)\n",
      "Requirement already satisfied: urllib3<3,>=1.21.1 in /Users/bin/opt/anaconda3/lib/python3.8/site-packages (from requests<3,>=2.21.0->tensorboard<2.14,>=2.13->tensorflow) (1.26.18)\n",
      "Requirement already satisfied: certifi>=2017.4.17 in /Users/bin/opt/anaconda3/lib/python3.8/site-packages (from requests<3,>=2.21.0->tensorboard<2.14,>=2.13->tensorflow) (2023.7.22)\n",
      "Requirement already satisfied: MarkupSafe>=2.1.1 in /Users/bin/opt/anaconda3/lib/python3.8/site-packages (from werkzeug>=1.0.1->tensorboard<2.14,>=2.13->tensorflow) (2.1.1)\n",
      "Requirement already satisfied: zipp>=0.5 in /Users/bin/opt/anaconda3/lib/python3.8/site-packages (from importlib-metadata>=4.4->markdown>=2.6.8->tensorboard<2.14,>=2.13->tensorflow) (3.11.0)\n",
      "Requirement already satisfied: pyasn1<0.6.0,>=0.4.6 in /Users/bin/opt/anaconda3/lib/python3.8/site-packages (from pyasn1-modules>=0.2.1->google-auth<3,>=1.6.3->tensorboard<2.14,>=2.13->tensorflow) (0.5.0)\n",
      "Requirement already satisfied: oauthlib>=3.0.0 in /Users/bin/opt/anaconda3/lib/python3.8/site-packages (from requests-oauthlib>=0.7.0->google-auth-oauthlib<1.1,>=0.5->tensorboard<2.14,>=2.13->tensorflow) (3.2.2)\n",
      "\u001b[33mWARNING: There was an error checking the latest version of pip.\u001b[0m\u001b[33m\n",
      "\u001b[0m"
     ]
    }
   ],
   "source": [
    "! pip install textblob tensorflow"
   ]
  },
  {
   "cell_type": "code",
   "execution_count": null,
   "metadata": {
    "execution": {
     "iopub.execute_input": "2022-09-19T07:32:52.011865Z",
     "iopub.status.busy": "2022-09-19T07:32:52.010478Z",
     "iopub.status.idle": "2022-09-19T07:32:52.033125Z",
     "shell.execute_reply": "2022-09-19T07:32:52.031837Z",
     "shell.execute_reply.started": "2022-09-19T07:32:52.011814Z"
    },
    "papermill": {
     "duration": 4.381801,
     "end_time": "2022-07-15T13:42:26.855359",
     "exception": false,
     "start_time": "2022-07-15T13:42:22.473558",
     "status": "completed"
    },
    "tags": []
   },
   "outputs": [
    {
     "name": "stdout",
     "output_type": "stream",
     "text": [
      "Intel MKL WARNING: Support of Intel(R) Streaming SIMD Extensions 4.2 (Intel(R) SSE4.2) enabled only processors has been deprecated. Intel oneAPI Math Kernel Library 2025.0 will require Intel(R) Advanced Vector Extensions (Intel(R) AVX) instructions.\n",
      "Intel MKL WARNING: Support of Intel(R) Streaming SIMD Extensions 4.2 (Intel(R) SSE4.2) enabled only processors has been deprecated. Intel oneAPI Math Kernel Library 2025.0 will require Intel(R) Advanced Vector Extensions (Intel(R) AVX) instructions.\n"
     ]
    }
   ],
   "source": [
    "import pandas as pd\n",
    "import numpy as np\n",
    "import seaborn as sns\n",
    "import matplotlib.pyplot as plt\n",
    "import json\n",
    "\n",
    "from sklearn import model_selection, preprocessing, linear_model\n",
    "from sklearn.feature_extraction.text import TfidfVectorizer, CountVectorizer\n",
    "from sklearn import ensemble\n",
    "from lightgbm import LGBMClassifier\n",
    "from sklearn.metrics import roc_auc_score, roc_curve\n",
    "\n",
    "from sklearn.datasets import make_classification\n",
    "from sklearn.metrics import confusion_matrix, ConfusionMatrixDisplay\n",
    "from sklearn.model_selection import train_test_split\n",
    "from sklearn.svm import SVC\n",
    "\n",
    "from xgboost import XGBClassifier\n",
    "from wordcloud import WordCloud, STOPWORDS, ImageColorGenerator\n",
    "from termcolor import colored\n",
    "# from sklearn.metrics import plot_confusion_matrix\n",
    "from sklearn.metrics import confusion_matrix, accuracy_score, classification_report\n",
    "\n",
    "import nltk\n",
    "nltk.download('stopwords')\n",
    "from nltk.corpus import stopwords\n",
    "from textblob import Word\n",
    "nltk.download('wordnet')\n",
    "\n",
    "from nltk.tokenize import word_tokenize\n",
    "from tqdm import tqdm\n",
    "import re\n",
    "\n",
    "from tensorflow.keras.utils import to_categorical\n",
    "from sklearn.model_selection import train_test_split\n",
    "from tensorflow.keras.preprocessing import sequence\n",
    "from tensorflow.keras.preprocessing.text import Tokenizer\n",
    "from tensorflow.keras.layers import Dense,Dropout,Embedding,LSTM\n",
    "from tensorflow.keras.callbacks import EarlyStopping\n",
    "from tensorflow.keras.losses import categorical_crossentropy\n",
    "from tensorflow.keras.optimizers import Adam\n",
    "from tensorflow.keras.models import Sequential\n",
    "\n",
    "\n",
    "from warnings import filterwarnings\n",
    "filterwarnings('ignore')\n",
    "\n",
    "from sklearn import set_config\n",
    "set_config(print_changed_only = False)\n",
    "\n",
    "print(colored(\"\\nLIBRARIES WERE SUCCESFULLY IMPORTED...\", \"green\"))"
   ]
  },
  {
   "cell_type": "code",
   "execution_count": null,
   "metadata": {
    "execution": {
     "iopub.execute_input": "2022-07-20T19:55:38.635316Z",
     "iopub.status.busy": "2022-07-20T19:55:38.634821Z",
     "iopub.status.idle": "2022-07-20T19:55:38.796888Z",
     "shell.execute_reply": "2022-07-20T19:55:38.795416Z",
     "shell.execute_reply.started": "2022-07-20T19:55:38.635294Z"
    }
   },
   "outputs": [],
   "source": [
    "file = open(\"./data/Sarcasm_Headlines_Dataset_v2.json\")\n",
    "json_data = [json.loads(line) for line in file]\n",
    "json_data[0:5]"
   ]
  },
  {
   "cell_type": "code",
   "execution_count": null,
   "metadata": {
    "execution": {
     "iopub.execute_input": "2022-07-20T19:55:38.80108Z",
     "iopub.status.busy": "2022-07-20T19:55:38.800704Z",
     "iopub.status.idle": "2022-07-20T19:55:38.823809Z",
     "shell.execute_reply": "2022-07-20T19:55:38.822912Z",
     "shell.execute_reply.started": "2022-07-20T19:55:38.801056Z"
    }
   },
   "outputs": [],
   "source": [
    "texts = []\n",
    "labels = []\n",
    "urls = []\n",
    "\n",
    "for item in json_data:\n",
    "    texts.append(item[\"headline\"])\n",
    "    labels.append(item[\"is_sarcastic\"])\n",
    "    urls.append(item[\"article_link\"])"
   ]
  },
  {
   "cell_type": "code",
   "execution_count": null,
   "metadata": {
    "execution": {
     "iopub.execute_input": "2022-07-20T19:55:38.826292Z",
     "iopub.status.busy": "2022-07-20T19:55:38.82606Z",
     "iopub.status.idle": "2022-07-20T19:55:38.833278Z",
     "shell.execute_reply": "2022-07-20T19:55:38.832125Z",
     "shell.execute_reply.started": "2022-07-20T19:55:38.826272Z"
    }
   },
   "outputs": [],
   "source": [
    "texts[0:10]"
   ]
  },
  {
   "cell_type": "code",
   "execution_count": null,
   "metadata": {
    "execution": {
     "iopub.execute_input": "2022-07-20T19:55:38.835483Z",
     "iopub.status.busy": "2022-07-20T19:55:38.835115Z",
     "iopub.status.idle": "2022-07-20T19:55:38.84529Z",
     "shell.execute_reply": "2022-07-20T19:55:38.844036Z",
     "shell.execute_reply.started": "2022-07-20T19:55:38.835451Z"
    }
   },
   "outputs": [],
   "source": [
    "labels[0:10]"
   ]
  },
  {
   "cell_type": "code",
   "execution_count": null,
   "metadata": {
    "execution": {
     "iopub.execute_input": "2022-07-20T19:55:38.847952Z",
     "iopub.status.busy": "2022-07-20T19:55:38.847415Z",
     "iopub.status.idle": "2022-07-20T19:55:38.857034Z",
     "shell.execute_reply": "2022-07-20T19:55:38.855974Z",
     "shell.execute_reply.started": "2022-07-20T19:55:38.847925Z"
    }
   },
   "outputs": [],
   "source": [
    "urls[0:5] #we do not need the urls and will not use them"
   ]
  },
  {
   "cell_type": "code",
   "execution_count": null,
   "metadata": {
    "execution": {
     "iopub.execute_input": "2022-07-20T19:55:38.858316Z",
     "iopub.status.busy": "2022-07-20T19:55:38.8581Z",
     "iopub.status.idle": "2022-07-20T19:55:38.871577Z",
     "shell.execute_reply": "2022-07-20T19:55:38.870565Z",
     "shell.execute_reply.started": "2022-07-20T19:55:38.858295Z"
    }
   },
   "outputs": [],
   "source": [
    "len(texts), len(labels), len(urls)"
   ]
  },
  {
   "cell_type": "code",
   "execution_count": null,
   "metadata": {
    "execution": {
     "iopub.execute_input": "2022-07-20T19:55:38.873453Z",
     "iopub.status.busy": "2022-07-20T19:55:38.873197Z",
     "iopub.status.idle": "2022-07-20T19:55:38.976203Z",
     "shell.execute_reply": "2022-07-20T19:55:38.97503Z",
     "shell.execute_reply.started": "2022-07-20T19:55:38.873431Z"
    }
   },
   "outputs": [],
   "source": [
    "df = pd.DataFrame()\n",
    "df[\"text\"] = texts\n",
    "df[\"label\"] = labels\n",
    "df.head(n = 10).style.background_gradient(cmap = \"autumn\")"
   ]
  },
  {
   "cell_type": "code",
   "execution_count": null,
   "metadata": {
    "execution": {
     "iopub.execute_input": "2022-07-20T19:55:38.977499Z",
     "iopub.status.busy": "2022-07-20T19:55:38.977266Z",
     "iopub.status.idle": "2022-07-20T19:55:38.995502Z",
     "shell.execute_reply": "2022-07-20T19:55:38.994473Z",
     "shell.execute_reply.started": "2022-07-20T19:55:38.977477Z"
    }
   },
   "outputs": [],
   "source": [
    "#get basic information about dataset\n",
    "\n",
    "df.info()"
   ]
  },
  {
   "cell_type": "code",
   "execution_count": null,
   "metadata": {
    "execution": {
     "iopub.execute_input": "2022-07-20T19:55:38.999943Z",
     "iopub.status.busy": "2022-07-20T19:55:38.99962Z",
     "iopub.status.idle": "2022-07-20T19:55:39.021819Z",
     "shell.execute_reply": "2022-07-20T19:55:39.020483Z",
     "shell.execute_reply.started": "2022-07-20T19:55:38.999913Z"
    }
   },
   "outputs": [],
   "source": [
    "#check whether there are duplicated values\n",
    "\n",
    "df.duplicated().sum()"
   ]
  },
  {
   "cell_type": "code",
   "execution_count": null,
   "metadata": {
    "execution": {
     "iopub.execute_input": "2022-07-20T19:55:39.023582Z",
     "iopub.status.busy": "2022-07-20T19:55:39.023304Z",
     "iopub.status.idle": "2022-07-20T19:55:39.048083Z",
     "shell.execute_reply": "2022-07-20T19:55:39.047114Z",
     "shell.execute_reply.started": "2022-07-20T19:55:39.023548Z"
    }
   },
   "outputs": [],
   "source": [
    "# drop duplicated values from the dataset\n",
    "\n",
    "df.drop_duplicates(inplace = True)"
   ]
  },
  {
   "cell_type": "code",
   "execution_count": null,
   "metadata": {
    "execution": {
     "iopub.execute_input": "2022-07-20T19:55:39.050046Z",
     "iopub.status.busy": "2022-07-20T19:55:39.049682Z",
     "iopub.status.idle": "2022-07-20T19:55:39.069664Z",
     "shell.execute_reply": "2022-07-20T19:55:39.069023Z",
     "shell.execute_reply.started": "2022-07-20T19:55:39.05001Z"
    }
   },
   "outputs": [],
   "source": [
    "#get the number of classes of the \"label\" variable of dataset\n",
    "\n",
    "df.groupby(\"label\").count().style.background_gradient(cmap = \"autumn\")"
   ]
  },
  {
   "cell_type": "markdown",
   "metadata": {},
   "source": [
    "# Visualization with Word Cloud"
   ]
  },
  {
   "cell_type": "code",
   "execution_count": null,
   "metadata": {
    "execution": {
     "iopub.execute_input": "2022-07-20T19:55:39.071114Z",
     "iopub.status.busy": "2022-07-20T19:55:39.070878Z",
     "iopub.status.idle": "2022-07-20T19:55:43.118107Z",
     "shell.execute_reply": "2022-07-20T19:55:43.116989Z",
     "shell.execute_reply.started": "2022-07-20T19:55:39.071093Z"
    }
   },
   "outputs": [],
   "source": [
    "text = \" \".join(i for i in df.text)\n",
    "\n",
    "wc = WordCloud(background_color = \"white\",\n",
    "               width = 1200,\n",
    "               height = 600,\n",
    "               contour_width = 0,\n",
    "               contour_color = \"red\",\n",
    "               max_words = 300,\n",
    "               scale = 1,\n",
    "               collocations = False,\n",
    "               repeat = True,\n",
    "               min_font_size = 1)\n",
    "\n",
    "wc.generate(text)\n",
    "\n",
    "plt.figure(figsize = [10, 10])\n",
    "plt.imshow(wc)\n",
    "plt.axis(\"off\")\n",
    "plt.show"
   ]
  },
  {
   "cell_type": "markdown",
   "metadata": {
    "papermill": {
     "duration": 0.016959,
     "end_time": "2022-07-15T13:42:27.63753",
     "exception": false,
     "start_time": "2022-07-15T13:42:27.620571",
     "status": "completed"
    },
    "tags": []
   },
   "source": [
    "# Preprocess the dataset"
   ]
  },
  {
   "cell_type": "code",
   "execution_count": null,
   "metadata": {
    "execution": {
     "iopub.execute_input": "2022-07-20T19:55:43.119431Z",
     "iopub.status.busy": "2022-07-20T19:55:43.11914Z",
     "iopub.status.idle": "2022-07-20T19:55:43.197899Z",
     "shell.execute_reply": "2022-07-20T19:55:43.196367Z",
     "shell.execute_reply.started": "2022-07-20T19:55:43.119409Z"
    },
    "papermill": {
     "duration": 0.196247,
     "end_time": "2022-07-15T13:42:27.850155",
     "exception": false,
     "start_time": "2022-07-15T13:42:27.653908",
     "status": "completed"
    },
    "tags": []
   },
   "outputs": [],
   "source": [
    "#convert uppercase letters to lowercase letters\n",
    "\n",
    "df[\"text\"] = df[\"text\"].apply(lambda x: \" \".join(x.lower() for x in x.split()))\n",
    "\n",
    "print(colored(\"\\nCONVERTED SUCCESFULLY...\", \"green\"))"
   ]
  },
  {
   "cell_type": "code",
   "execution_count": null,
   "metadata": {
    "execution": {
     "iopub.execute_input": "2022-07-20T19:55:43.199393Z",
     "iopub.status.busy": "2022-07-20T19:55:43.199094Z",
     "iopub.status.idle": "2022-07-20T19:55:43.249674Z",
     "shell.execute_reply": "2022-07-20T19:55:43.24823Z",
     "shell.execute_reply.started": "2022-07-20T19:55:43.199369Z"
    },
    "papermill": {
     "duration": 0.289367,
     "end_time": "2022-07-15T13:42:28.15737",
     "exception": false,
     "start_time": "2022-07-15T13:42:27.868003",
     "status": "completed"
    },
    "tags": []
   },
   "outputs": [],
   "source": [
    "#delete punctuation marks\n",
    "\n",
    "df[\"text\"] = df[\"text\"].str.replace('[^\\w\\s]','')\n",
    "\n",
    "print(colored(\"\\nDELETED PUNCTUATION MARKS SUCCESFULLY...\", \"green\"))"
   ]
  },
  {
   "cell_type": "code",
   "execution_count": null,
   "metadata": {
    "execution": {
     "iopub.execute_input": "2022-07-20T19:55:43.251788Z",
     "iopub.status.busy": "2022-07-20T19:55:43.251475Z",
     "iopub.status.idle": "2022-07-20T19:55:43.288837Z",
     "shell.execute_reply": "2022-07-20T19:55:43.287784Z",
     "shell.execute_reply.started": "2022-07-20T19:55:43.251765Z"
    },
    "papermill": {
     "duration": 0.120096,
     "end_time": "2022-07-15T13:42:28.295856",
     "exception": false,
     "start_time": "2022-07-15T13:42:28.17576",
     "status": "completed"
    },
    "tags": []
   },
   "outputs": [],
   "source": [
    "#delete numbers\n",
    "\n",
    "df[\"text\"] = df[\"text\"].str.replace('\\d','')\n",
    "\n",
    "print(colored(\"\\n NUMBERS DELETED SUCCESFULLY...\", \"green\"))"
   ]
  },
  {
   "cell_type": "code",
   "execution_count": null,
   "metadata": {
    "execution": {
     "iopub.execute_input": "2022-07-20T19:55:43.290307Z",
     "iopub.status.busy": "2022-07-20T19:55:43.290024Z",
     "iopub.status.idle": "2022-07-20T19:55:43.900304Z",
     "shell.execute_reply": "2022-07-20T19:55:43.899448Z",
     "shell.execute_reply.started": "2022-07-20T19:55:43.290284Z"
    },
    "papermill": {
     "duration": 1.10017,
     "end_time": "2022-07-15T13:42:29.414697",
     "exception": false,
     "start_time": "2022-07-15T13:42:28.314527",
     "status": "completed"
    },
    "tags": []
   },
   "outputs": [],
   "source": [
    "#delete stopwords\n",
    "\n",
    "sw = stopwords.words(\"english\")\n",
    "df[\"text\"] = df[\"text\"].apply(lambda x: \" \".join(x for x in x.split() if x not in sw))\n",
    "\n",
    "print(colored(\"\\nSTOPWORDS DELETED SUCCESFULLY...\", \"green\"))"
   ]
  },
  {
   "cell_type": "code",
   "execution_count": null,
   "metadata": {
    "execution": {
     "iopub.execute_input": "2022-07-20T19:55:43.903334Z",
     "iopub.status.busy": "2022-07-20T19:55:43.901486Z",
     "iopub.status.idle": "2022-07-20T19:55:47.013928Z",
     "shell.execute_reply": "2022-07-20T19:55:47.012734Z",
     "shell.execute_reply.started": "2022-07-20T19:55:43.903309Z"
    },
    "papermill": {
     "duration": 4.862033,
     "end_time": "2022-07-15T13:42:34.294067",
     "exception": false,
     "start_time": "2022-07-15T13:42:29.432034",
     "status": "completed"
    },
    "tags": []
   },
   "outputs": [],
   "source": [
    "#lemmatization. That is, we get the roots of the words\n",
    "\n",
    "df[\"text\"] = df[\"text\"].apply(lambda x: \" \".join([Word(word).lemmatize() for word in x.split()]))\n",
    "\n",
    "print(colored(\"\\nDONE SUCCESFULLY...\", \"green\"))"
   ]
  },
  {
   "cell_type": "code",
   "execution_count": null,
   "metadata": {
    "execution": {
     "iopub.execute_input": "2022-07-20T19:55:47.016706Z",
     "iopub.status.busy": "2022-07-20T19:55:47.016432Z",
     "iopub.status.idle": "2022-07-20T19:55:47.030874Z",
     "shell.execute_reply": "2022-07-20T19:55:47.029617Z",
     "shell.execute_reply.started": "2022-07-20T19:55:47.016684Z"
    },
    "papermill": {
     "duration": 0.03172,
     "end_time": "2022-07-15T13:42:34.390782",
     "exception": false,
     "start_time": "2022-07-15T13:42:34.359062",
     "status": "completed"
    },
    "tags": []
   },
   "outputs": [],
   "source": [
    "#look at the latest condition of the dataset\n",
    "\n",
    "df.head(n = 10).style.background_gradient(cmap = \"summer\")"
   ]
  },
  {
   "cell_type": "code",
   "execution_count": null,
   "metadata": {
    "execution": {
     "iopub.execute_input": "2022-07-20T19:55:47.032263Z",
     "iopub.status.busy": "2022-07-20T19:55:47.032015Z",
     "iopub.status.idle": "2022-07-20T19:55:47.048578Z",
     "shell.execute_reply": "2022-07-20T19:55:47.047229Z",
     "shell.execute_reply.started": "2022-07-20T19:55:47.032241Z"
    },
    "papermill": {
     "duration": 0.032117,
     "end_time": "2022-07-15T13:42:34.486811",
     "exception": false,
     "start_time": "2022-07-15T13:42:34.454694",
     "status": "completed"
    },
    "tags": []
   },
   "outputs": [],
   "source": [
    "#divide the dataset into test and train sets\n",
    "\n",
    "x = df[\"text\"]\n",
    "y = df[\"label\"]\n",
    "\n",
    "train_x, test_x, train_y, test_y = model_selection.train_test_split(x, y,\n",
    "                                                                    test_size = 0.20,\n",
    "                                                                    shuffle = True,\n",
    "                                                                    random_state = 11)\n",
    "\n",
    "print(colored(\"\\nDIVIDED SUCCESFULLY...\", \"green\"))"
   ]
  },
  {
   "cell_type": "code",
   "execution_count": null,
   "metadata": {
    "execution": {
     "iopub.execute_input": "2022-07-20T19:55:47.050746Z",
     "iopub.status.busy": "2022-07-20T19:55:47.05002Z",
     "iopub.status.idle": "2022-07-20T19:55:47.062035Z",
     "shell.execute_reply": "2022-07-20T19:55:47.061054Z",
     "shell.execute_reply.started": "2022-07-20T19:55:47.050713Z"
    }
   },
   "outputs": [],
   "source": [
    "print(train_x.shape, test_x.shape)"
   ]
  },
  {
   "cell_type": "markdown",
   "metadata": {
    "papermill": {
     "duration": 0.017663,
     "end_time": "2022-07-15T13:42:34.522557",
     "exception": false,
     "start_time": "2022-07-15T13:42:34.504894",
     "status": "completed"
    },
    "tags": []
   },
   "source": [
    "# Vectorize dataset with TFidfVectorizer method..."
   ]
  },
  {
   "cell_type": "code",
   "execution_count": null,
   "metadata": {
    "execution": {
     "iopub.execute_input": "2022-07-20T19:55:47.063848Z",
     "iopub.status.busy": "2022-07-20T19:55:47.06342Z",
     "iopub.status.idle": "2022-07-20T19:55:47.779811Z",
     "shell.execute_reply": "2022-07-20T19:55:47.77898Z",
     "shell.execute_reply.started": "2022-07-20T19:55:47.063822Z"
    },
    "papermill": {
     "duration": 1.528419,
     "end_time": "2022-07-15T13:42:37.488835",
     "exception": false,
     "start_time": "2022-07-15T13:42:35.960416",
     "status": "completed"
    },
    "tags": []
   },
   "outputs": [],
   "source": [
    "tf_idf_word_vectorizer = TfidfVectorizer(analyzer = \"word\")\n",
    "tf_idf_word_vectorizer.fit(train_x)\n",
    "\n",
    "x_train_tf_idf_word = tf_idf_word_vectorizer.transform(train_x)\n",
    "x_test_tf_idf_word = tf_idf_word_vectorizer.transform(test_x)\n",
    "\n",
    "x_train_tf_idf_word.toarray()"
   ]
  },
  {
   "cell_type": "markdown",
   "metadata": {
    "papermill": {
     "duration": 0.017817,
     "end_time": "2022-07-15T13:42:37.52757",
     "exception": false,
     "start_time": "2022-07-15T13:42:37.509753",
     "status": "completed"
    },
    "tags": []
   },
   "source": [
    "# Build machine learning models..."
   ]
  },
  {
   "cell_type": "markdown",
   "metadata": {
    "papermill": {
     "duration": 0.052912,
     "end_time": "2022-07-15T13:42:53.623683",
     "exception": false,
     "start_time": "2022-07-15T13:42:53.570771",
     "status": "completed"
    },
    "tags": []
   },
   "source": [
    "## Logistic regression model"
   ]
  },
  {
   "cell_type": "markdown",
   "metadata": {},
   "source": [
    "#### What is logistic regression?\n",
    "\n",
    "The information was obtained from:\n",
    "https://www.ibm.com/topics/logistic-regression#:~:text=Logistic%20regression%20estimates%20the%20probability,bounded%20between%200%20and%201.\n",
    "\n",
    "This type of statistical model (also known as logit model) is often used for classification and predictive analytics. Logistic regression estimates the probability of an event occurring, such as voted or didn’t vote, based on a given dataset of independent variables. Since the outcome is a probability, the dependent variable is bounded between 0 and 1. In logistic regression, a logit transformation is applied on the odds—that is, the probability of success divided by the probability of failure. This is also commonly known as the log odds, or the natural logarithm of odds, and this logistic function is represented by the following formulas:\n",
    "$$\n",
    "Logit(pi) = 1/(1+ exp(-pi))\n",
    "$$\n",
    "$$\n",
    "ln(pi/(1-pi)) = Beta_0 + Beta_1*X_1 + … + B_k*K_k\n",
    "$$\n",
    "In this logistic regression equation, logit(pi) is the dependent or response variable and x is the independent variable. The beta parameter, or coefficient, in this model is commonly estimated via maximum likelihood estimation (MLE). This method tests different values of beta through multiple iterations to optimize for the best fit of log odds. All of these iterations produce the log likelihood function, and logistic regression seeks to maximize this function to find the best parameter estimate. Once the optimal coefficient (or coefficients if there is more than one independent variable) is found, the conditional probabilities for each observation can be calculated, logged, and summed together to yield a predicted probability. For binary classification, a probability less than .5 will predict 0 while a probability greater than 0 will predict 1.  After the model has been computed, it’s best practice to evaluate the how well the model predicts the dependent variable, which is called goodness of fit. The Hosmer–Lemeshow test is a popular method to assess model fit.\n",
    "\n",
    "Log odds can be difficult to make sense of within a logistic regression data analysis. As a result, exponentiating the beta estimates is common to transform the results into an odds ratio (OR), easing the interpretation of results. The OR represents the odds that an outcome will occur given a particular event, compared to the odds of the outcome occurring in the absence of that event. If the OR is greater than 1, then the event is associated with a higher odds of generating a specific outcome. Conversely, if the OR is less than 1, then the event is associated with a lower odds of that outcome occurring. Based on the equation from above, the interpretation of an odds ratio can be denoted as the following: the odds of a success changes by exp(cB_1) times for every c-unit increase in x. To use an example, let’s say that we were to estimate the odds of survival on the Titanic given that the person was male, and the odds ratio for males was .0810. We’d interpret the odds ratio as the odds of survival of males decreased by a factor of .0810 when compared to females, holding all other variables constant."
   ]
  },
  {
   "cell_type": "code",
   "execution_count": null,
   "metadata": {
    "execution": {
     "iopub.execute_input": "2022-07-20T19:55:47.781364Z",
     "iopub.status.busy": "2022-07-20T19:55:47.780866Z",
     "iopub.status.idle": "2022-07-20T19:55:56.547304Z",
     "shell.execute_reply": "2022-07-20T19:55:56.546431Z",
     "shell.execute_reply.started": "2022-07-20T19:55:47.781342Z"
    },
    "papermill": {
     "duration": 10.493848,
     "end_time": "2022-07-15T13:43:04.136278",
     "exception": false,
     "start_time": "2022-07-15T13:42:53.64243",
     "status": "completed"
    },
    "tags": []
   },
   "outputs": [],
   "source": [
    "log = linear_model.LogisticRegression()\n",
    "log_model = log.fit(x_train_tf_idf_word, train_y)\n",
    "accuracy = model_selection.cross_val_score(log_model,\n",
    "                                           x_test_tf_idf_word,\n",
    "                                           test_y,\n",
    "                                           cv = 20).mean()\n",
    "\n",
    "print(\"\\nLogistic regression model with 'tf-idf' method\")\n",
    "print(\"Accuracy ratio: \", accuracy)"
   ]
  },
  {
   "cell_type": "markdown",
   "metadata": {
    "papermill": {
     "duration": 0.018113,
     "end_time": "2022-07-15T13:43:45.634438",
     "exception": false,
     "start_time": "2022-07-15T13:43:45.616325",
     "status": "completed"
    },
    "tags": []
   },
   "source": [
    "## Xtreme gradient boosting"
   ]
  },
  {
   "cell_type": "markdown",
   "metadata": {},
   "source": [
    "#### What is XGBoost?\n",
    "\n",
    "XGBoost, which stands for Extreme Gradient Boosting, is a scalable, distributed gradient-boosted decision tree (GBDT) machine learning library. It provides parallel tree boosting and is the leading machine learning library for regression, classification, and ranking problems."
   ]
  },
  {
   "cell_type": "code",
   "execution_count": null,
   "metadata": {
    "execution": {
     "iopub.execute_input": "2022-07-20T19:55:56.553392Z",
     "iopub.status.busy": "2022-07-20T19:55:56.551308Z",
     "iopub.status.idle": "2022-07-20T19:56:24.608185Z",
     "shell.execute_reply": "2022-07-20T19:56:24.607331Z",
     "shell.execute_reply.started": "2022-07-20T19:55:56.553353Z"
    },
    "papermill": {
     "duration": 57.0603,
     "end_time": "2022-07-15T13:44:42.712353",
     "exception": false,
     "start_time": "2022-07-15T13:43:45.652053",
     "status": "completed"
    },
    "tags": []
   },
   "outputs": [],
   "source": [
    "xgb = XGBClassifier()\n",
    "xgb_model = xgb.fit(x_train_tf_idf_word,train_y)\n",
    "accuracy = model_selection.cross_val_score(xgb_model,\n",
    "                                           x_test_tf_idf_word,\n",
    "                                           test_y,\n",
    "                                           cv = 20).mean()\n",
    "\n",
    "print(\"\\nXGBoost model with 'tf-idf' method\")\n",
    "print(\"Accuracy ratio: \", accuracy)"
   ]
  },
  {
   "cell_type": "markdown",
   "metadata": {
    "papermill": {
     "duration": 0.018002,
     "end_time": "2022-07-15T13:44:50.360459",
     "exception": false,
     "start_time": "2022-07-15T13:44:50.342457",
     "status": "completed"
    },
    "tags": []
   },
   "source": [
    "## Light gradient boosting machines"
   ]
  },
  {
   "cell_type": "markdown",
   "metadata": {},
   "source": [
    "#### What is Light GBM?\n",
    "\n",
    "The information was obtained from:\n",
    "https://machinelearningmastery.com/light-gradient-boosted-machine-lightgbm-ensemble/\n",
    "\n",
    "LightGBM is an open-source library that provides an efficient and effective implementation of the gradient boosting algorithm. LightGBM extends the gradient boosting algorithm by adding a type of automatic feature selection as well as focusing on boosting examples with larger gradients. This can result in a dramatic speedup of training and improved predictive performance. As such, LightGBM has become a de facto algorithm for machine learning competitions when working with tabular data for regression and classification predictive modeling tasks. As such, it owns a share of the blame for the increased popularity and wider adoption of gradient boosting methods in general, along with Extreme Gradient Boosting (XGBoost)."
   ]
  },
  {
   "cell_type": "code",
   "execution_count": null,
   "metadata": {
    "execution": {
     "iopub.execute_input": "2022-07-20T19:56:24.61445Z",
     "iopub.status.busy": "2022-07-20T19:56:24.61237Z",
     "iopub.status.idle": "2022-07-20T19:56:33.676216Z",
     "shell.execute_reply": "2022-07-20T19:56:33.675297Z",
     "shell.execute_reply.started": "2022-07-20T19:56:24.614414Z"
    },
    "papermill": {
     "duration": 13.472133,
     "end_time": "2022-07-15T13:45:03.850624",
     "exception": false,
     "start_time": "2022-07-15T13:44:50.378491",
     "status": "completed"
    },
    "tags": []
   },
   "outputs": [],
   "source": [
    "lgbm = LGBMClassifier()\n",
    "lgbm_model = lgbm.fit(x_train_tf_idf_word,train_y)\n",
    "accuracy = model_selection.cross_val_score(lgbm_model,\n",
    "                                           x_test_tf_idf_word,\n",
    "                                           test_y,\n",
    "                                           cv = 20).mean()\n",
    "\n",
    "print(\"\\nLight GBM model with 'tf-idf' method\")\n",
    "print(\"Accuracy ratio: \", accuracy)"
   ]
  },
  {
   "cell_type": "markdown",
   "metadata": {
    "papermill": {
     "duration": 0.018582,
     "end_time": "2022-07-15T13:45:03.890404",
     "exception": false,
     "start_time": "2022-07-15T13:45:03.871822",
     "status": "completed"
    },
    "tags": []
   },
   "source": [
    "# ROC AUC (Light GBM model)"
   ]
  },
  {
   "cell_type": "code",
   "execution_count": null,
   "metadata": {
    "execution": {
     "iopub.execute_input": "2022-07-20T19:56:33.678475Z",
     "iopub.status.busy": "2022-07-20T19:56:33.677842Z",
     "iopub.status.idle": "2022-07-20T19:56:34.038132Z",
     "shell.execute_reply": "2022-07-20T19:56:34.037224Z",
     "shell.execute_reply.started": "2022-07-20T19:56:33.678437Z"
    },
    "papermill": {
     "duration": 0.587728,
     "end_time": "2022-07-15T13:45:04.496381",
     "exception": false,
     "start_time": "2022-07-15T13:45:03.908653",
     "status": "completed"
    },
    "tags": []
   },
   "outputs": [],
   "source": [
    "y = train_y\n",
    "X = x_train_tf_idf_word.astype(\"float64\")\n",
    "\n",
    "logit_roc_auc = roc_auc_score(y, lgbm_model.predict(X))\n",
    "\n",
    "fpr, tpr, thresholds = roc_curve(y, lgbm_model.predict_proba(X)[:,1])\n",
    "plt.figure()\n",
    "plt.plot(fpr, tpr, label='AUC (area = %0.2f)' % logit_roc_auc)\n",
    "plt.plot([0, 1], [0, 1], \"r--\")\n",
    "plt.xlim([0.0, 1.0])\n",
    "plt.ylim([0.0, 1.05])\n",
    "plt.xlabel('False Positive Rate')\n",
    "plt.ylabel('True Positive Rate')\n",
    "plt.title('ROC')\n",
    "plt.show()"
   ]
  },
  {
   "cell_type": "markdown",
   "metadata": {
    "papermill": {
     "duration": 0.018764,
     "end_time": "2022-07-15T13:45:04.534481",
     "exception": false,
     "start_time": "2022-07-15T13:45:04.515717",
     "status": "completed"
    },
    "tags": []
   },
   "source": [
    "# Estimation over test set (logistic regression model)"
   ]
  },
  {
   "cell_type": "code",
   "execution_count": null,
   "metadata": {
    "execution": {
     "iopub.execute_input": "2022-07-20T19:56:34.040046Z",
     "iopub.status.busy": "2022-07-20T19:56:34.039778Z",
     "iopub.status.idle": "2022-07-20T19:56:34.04807Z",
     "shell.execute_reply": "2022-07-20T19:56:34.046907Z",
     "shell.execute_reply.started": "2022-07-20T19:56:34.040022Z"
    },
    "papermill": {
     "duration": 0.158973,
     "end_time": "2022-07-15T13:45:05.603012",
     "exception": false,
     "start_time": "2022-07-15T13:45:05.444039",
     "status": "completed"
    },
    "tags": []
   },
   "outputs": [],
   "source": [
    "log_model.predict(x_test_tf_idf_word)[0:5]"
   ]
  },
  {
   "cell_type": "code",
   "execution_count": null,
   "metadata": {
    "execution": {
     "iopub.execute_input": "2022-07-20T19:56:34.053633Z",
     "iopub.status.busy": "2022-07-20T19:56:34.053321Z",
     "iopub.status.idle": "2022-07-20T19:56:34.061459Z",
     "shell.execute_reply": "2022-07-20T19:56:34.060332Z",
     "shell.execute_reply.started": "2022-07-20T19:56:34.053607Z"
    }
   },
   "outputs": [],
   "source": [
    "log_model.predict_proba(x_test_tf_idf_word)[0:5]"
   ]
  },
  {
   "cell_type": "code",
   "execution_count": null,
   "metadata": {
    "execution": {
     "iopub.execute_input": "2022-07-20T19:56:34.063992Z",
     "iopub.status.busy": "2022-07-20T19:56:34.063238Z",
     "iopub.status.idle": "2022-07-20T19:56:34.232887Z",
     "shell.execute_reply": "2022-07-20T19:56:34.23189Z",
     "shell.execute_reply.started": "2022-07-20T19:56:34.063957Z"
    }
   },
   "outputs": [],
   "source": [
    "#plotting confusion matrix\n",
    "\n",
    "# ConfusionMatrixDisplay(log_model, x_test_tf_idf_word, test_y,\n",
    "#                       cmap = plt.cm.Reds, normalize = \"true\");"
   ]
  },
  {
   "cell_type": "code",
   "execution_count": null,
   "metadata": {
    "execution": {
     "iopub.execute_input": "2022-07-20T19:56:34.234445Z",
     "iopub.status.busy": "2022-07-20T19:56:34.234189Z",
     "iopub.status.idle": "2022-07-20T19:56:34.251477Z",
     "shell.execute_reply": "2022-07-20T19:56:34.250782Z",
     "shell.execute_reply.started": "2022-07-20T19:56:34.234419Z"
    }
   },
   "outputs": [],
   "source": [
    "print(classification_report(test_y, log_model.predict(x_test_tf_idf_word.astype(\"float64\"))))"
   ]
  },
  {
   "cell_type": "markdown",
   "metadata": {},
   "source": [
    "# Build deep learning models..."
   ]
  },
  {
   "cell_type": "code",
   "execution_count": null,
   "metadata": {
    "execution": {
     "iopub.execute_input": "2022-07-20T19:56:34.25323Z",
     "iopub.status.busy": "2022-07-20T19:56:34.252847Z",
     "iopub.status.idle": "2022-07-20T19:56:34.29736Z",
     "shell.execute_reply": "2022-07-20T19:56:34.296391Z",
     "shell.execute_reply.started": "2022-07-20T19:56:34.253199Z"
    }
   },
   "outputs": [],
   "source": [
    "unique_words = set()\n",
    "len_max = 0\n",
    "\n",
    "for sent in tqdm(train_x):\n",
    "    unique_words.update(sent)\n",
    "    \n",
    "    if(len_max<len(sent)):\n",
    "        len_max = len(sent)\n",
    "        \n",
    "print(len(list(unique_words)))\n",
    "print(len_max)"
   ]
  },
  {
   "cell_type": "code",
   "execution_count": null,
   "metadata": {
    "execution": {
     "iopub.execute_input": "2022-07-20T19:56:34.298904Z",
     "iopub.status.busy": "2022-07-20T19:56:34.298667Z",
     "iopub.status.idle": "2022-07-20T19:56:35.026617Z",
     "shell.execute_reply": "2022-07-20T19:56:35.02452Z",
     "shell.execute_reply.started": "2022-07-20T19:56:34.298881Z"
    }
   },
   "outputs": [],
   "source": [
    "tokenizer = Tokenizer(num_words=len(list(unique_words)))\n",
    "tokenizer.fit_on_texts(list(train_x))\n",
    "\n",
    "train_x = tokenizer.texts_to_sequences(train_x)\n",
    "test_x = tokenizer.texts_to_sequences(test_x)\n",
    "\n",
    "train_x = sequence.pad_sequences(train_x, maxlen=len_max)\n",
    "test_x = sequence.pad_sequences(test_x, maxlen=len_max)\n",
    "\n",
    "print(train_x.shape, test_x.shape)"
   ]
  },
  {
   "cell_type": "code",
   "execution_count": null,
   "metadata": {
    "execution": {
     "iopub.execute_input": "2022-07-20T19:56:35.029322Z",
     "iopub.status.busy": "2022-07-20T19:56:35.028858Z",
     "iopub.status.idle": "2022-07-20T19:56:35.035356Z",
     "shell.execute_reply": "2022-07-20T19:56:35.034442Z",
     "shell.execute_reply.started": "2022-07-20T19:56:35.029281Z"
    }
   },
   "outputs": [],
   "source": [
    "early_stopping = EarlyStopping(min_delta = 0.001, mode = \"auto\", verbose = 1,\n",
    "                               monitor = \"val_acc\",\n",
    "                               patience = 3)\n",
    "callbacks = [early_stopping]"
   ]
  },
  {
   "attachments": {
    "68ff7705-435e-4c04-aeca-c504f5c2492e.png": {
     "image/png": "[encoded data removed]"
    }
   },
   "cell_type": "markdown",
   "metadata": {},
   "source": [
    "## Acknowledgement:\n",
    "The information below was obtained from:\n",
    "https://intellipaat.com/blog/what-is-lstm/\n",
    "\n",
    "#### Long Short-term Memory (LSTM)\n",
    "\n",
    "LSTM stands for long short-term memory networks, used in the field of Deep Learning. It is a variety of recurrent neural networks (RNNs) that are capable of learning long-term dependencies, especially in sequence prediction problems. LSTM has feedback connections, i.e., it is capable of processing the entire sequence of data, apart from single data points such as images. This finds application in speech recognition, machine translation, etc. LSTM is a special kind of RNN, which shows outstanding performance on a large variety of problems.\n",
    "\n",
    "#### The Logic Behind LSTM\n",
    "\n",
    "The central role of an LSTM model is held by a memory cell known as a ‘cell state’ that maintains its state over time. The cell state is the horizontal line that runs through the top of the below diagram. It can be visualized as a conveyor belt through which information just flows, unchanged. Information can be added to or removed from the cell state in LSTM and is regulated by gates. These gates optionally let the information flow in and out of the cell. It contains a pointwise multiplication operation and a sigmoid neural net layer that assist the mechanism.\n",
    "\n",
    "![image.png](attachment:68ff7705-435e-4c04-aeca-c504f5c2492e.png)\n",
    "\n",
    "\n",
    "#### What are Bidirectional LSTMs?\n",
    "These are like an upgrade over LSTMs. In bidirectional LSTMs, each training sequence is presented forward and backward so as to separate recurrent nets. Both sequences are connected to the same output layer. Bidirectional LSTMs have complete information about every point in a given sequence, everything before and after it.\n",
    "\n",
    "But, how do you rely on the information that hasn’t happened yet? The human brain uses its senses to pick up information from words, sounds, or from whole sentences that might, at first, make no sense but mean something in a future context. Conventional recurrent neural networks are only capable of using the previous context to get information. Whereas, in bidirectional LSTMs, the information is obtained by processing the data in both directions within two hidden layers, pushed toward the same output layer. This helps bidirectional LSTMs access long-range context in both directions."
   ]
  },
  {
   "cell_type": "code",
   "execution_count": null,
   "metadata": {
    "execution": {
     "iopub.execute_input": "2022-07-20T19:56:35.036976Z",
     "iopub.status.busy": "2022-07-20T19:56:35.036506Z",
     "iopub.status.idle": "2022-07-20T19:56:35.375115Z",
     "shell.execute_reply": "2022-07-20T19:56:35.373734Z",
     "shell.execute_reply.started": "2022-07-20T19:56:35.03695Z"
    }
   },
   "outputs": [],
   "source": [
    "model = Sequential()\n",
    "model.add(Embedding(len(list(unique_words)), 100, input_length = len_max))\n",
    "model.add(LSTM(64, dropout = 0.5, recurrent_dropout = 0.5, return_sequences = True))\n",
    "model.add(Dense(25, activation = \"relu\"))\n",
    "model.add(Dropout(0.5))\n",
    "model.add(Dense(1, activation = \"sigmoid\"))\n",
    "model.compile(loss = \"binary_crossentropy\", optimizer = Adam(lr = 0.0045),\n",
    "              metrics = [\"accuracy\"])\n",
    "model.summary()"
   ]
  },
  {
   "cell_type": "code",
   "execution_count": null,
   "metadata": {
    "execution": {
     "iopub.execute_input": "2022-07-20T19:56:35.377094Z",
     "iopub.status.busy": "2022-07-20T19:56:35.376704Z",
     "iopub.status.idle": "2022-07-20T20:00:14.753226Z",
     "shell.execute_reply": "2022-07-20T20:00:14.751785Z",
     "shell.execute_reply.started": "2022-07-20T19:56:35.377059Z"
    },
    "tags": []
   },
   "outputs": [],
   "source": [
    "history = model.fit(train_x, train_y, epochs = 5, validation_data = (test_x, test_y), \n",
    "                  batch_size = 16, verbose = 1, callbacks = callbacks)"
   ]
  },
  {
   "cell_type": "code",
   "execution_count": null,
   "metadata": {
    "execution": {
     "iopub.status.busy": "2022-07-20T20:00:14.754394Z",
     "iopub.status.idle": "2022-07-20T20:00:14.755157Z",
     "shell.execute_reply": "2022-07-20T20:00:14.754933Z",
     "shell.execute_reply.started": "2022-07-20T20:00:14.754911Z"
    }
   },
   "outputs": [],
   "source": [
    "epoch_num = range(1, len(history.history[\"loss\"]) + 1)\n",
    "plt.plot(epoch_num, history.history[\"loss\"], \"r--\")\n",
    "plt.plot(epoch_num, history.history[\"val_loss\"], \"b-\")\n",
    "plt.legend([\"Training loss\", \"Validation loss\"])\n",
    "plt.xlabel(\"Epoch numbers\")\n",
    "plt.ylabel(\"Loss\")\n",
    "plt.show()"
   ]
  }
 ],
 "metadata": {
  "kernelspec": {
   "display_name": "Python 3 (ipykernel)",
   "language": "python",
   "name": "python3"
  },
  "language_info": {
   "codemirror_mode": {
    "name": "ipython",
    "version": 3
   },
   "file_extension": ".py",
   "mimetype": "text/x-python",
   "name": "python",
   "nbconvert_exporter": "python",
   "pygments_lexer": "ipython3",
   "version": "3.8.18"
  }
 },
 "nbformat": 4,
 "nbformat_minor": 4
}
